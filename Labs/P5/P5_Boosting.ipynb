{
 "cells": [
  {
   "cell_type": "markdown",
   "metadata": {
    "id": "62Gy7F5vbPum"
   },
   "source": [
    "# <center>MACHINE LEARNING <br> <br> Problem Session 5 <br> Decision Trees and Ensemble Models</center>"
   ]
  },
  {
   "cell_type": "markdown",
   "metadata": {
    "id": "slQKdhpvb2Ka"
   },
   "source": [
    "In this exercise we will execute decision trees and adaboost with the Sklearn library\n",
    "for the Iris multiclassification. We will use the graphviz library to evaluate the node split."
   ]
  },
  {
   "cell_type": "markdown",
   "metadata": {
    "id": "i_pxCUT3bPuv"
   },
   "source": [
    "**USEFULL PYTHON FUNCTIONS**\n",
    "- "
   ]
  },
  {
   "cell_type": "code",
   "execution_count": 1,
   "metadata": {
    "executionInfo": {
     "elapsed": 2874,
     "status": "ok",
     "timestamp": 1619688684643,
     "user": {
      "displayName": "MANUEL PORTELA CHARNEJOVSKY",
      "photoUrl": "https://lh3.googleusercontent.com/a-/AOh14Ghs17z7Dy_cu2UpbemUwyfYanGDizqgh3Ie3Qmc=s64",
      "userId": "15848882785305921424"
     },
     "user_tz": -120
    },
    "id": "uxNrLhAObPux"
   },
   "outputs": [],
   "source": [
    "################################\n",
    "# NEEDED IMPORTS AND FUNCTIONS #\n",
    "################################\n",
    "\n",
    "# LLIBRARIES\n",
    "from sklearn.datasets import load_iris\n",
    "from sklearn import tree, metrics\n",
    "import numpy as np\n",
    "from graphviz import Source\n",
    "\n",
    "from sklearn.model_selection import train_test_split # for splitting the data into train and test samples\n",
    "from sklearn.metrics import classification_report # for model evaluation metrics\n",
    "from sklearn.ensemble import AdaBoostClassifier # for AdaBoost model"
   ]
  },
  {
   "cell_type": "markdown",
   "metadata": {
    "id": "MAHIdrfobPu0"
   },
   "source": [
    "### Exercice 4\n"
   ]
  },
  {
   "cell_type": "code",
   "execution_count": 2,
   "metadata": {
    "colab": {
     "base_uri": "https://localhost:8080/"
    },
    "executionInfo": {
     "elapsed": 600,
     "status": "ok",
     "timestamp": 1619688718163,
     "user": {
      "displayName": "MANUEL PORTELA CHARNEJOVSKY",
      "photoUrl": "https://lh3.googleusercontent.com/a-/AOh14Ghs17z7Dy_cu2UpbemUwyfYanGDizqgh3Ie3Qmc=s64",
      "userId": "15848882785305921424"
     },
     "user_tz": -120
    },
    "id": "wLjPbmnScraa",
    "outputId": "fc5d4f16-c024-447d-d260-27e1485c112b"
   },
   "outputs": [
    {
     "name": "stdout",
     "output_type": "stream",
     "text": [
      "Feature Names:  ['sepal length (cm)', 'sepal width (cm)', 'petal length (cm)', 'petal width (cm)']\n"
     ]
    }
   ],
   "source": [
    "################################\n",
    "#      LOAD IRIS DATASET       #\n",
    "################################\n",
    "\n",
    "iris = load_iris()\n",
    "print('Feature Names: ', iris.feature_names)"
   ]
  },
  {
   "cell_type": "markdown",
   "metadata": {
    "id": "mY_5aND9c3DC"
   },
   "source": [
    "1. Build *a* decision tree classifier and train it with `iris.data` and `iris.target` from uploaded iris dataset."
   ]
  },
  {
   "cell_type": "code",
   "execution_count": 3,
   "metadata": {
    "colab": {
     "base_uri": "https://localhost:8080/"
    },
    "executionInfo": {
     "elapsed": 695,
     "status": "ok",
     "timestamp": 1619688723664,
     "user": {
      "displayName": "MANUEL PORTELA CHARNEJOVSKY",
      "photoUrl": "https://lh3.googleusercontent.com/a-/AOh14Ghs17z7Dy_cu2UpbemUwyfYanGDizqgh3Ie3Qmc=s64",
      "userId": "15848882785305921424"
     },
     "user_tz": -120
    },
    "id": "WrvR3Pofc_7W",
    "outputId": "c0d93de4-3185-4897-fd6e-8e3ef197cf5c"
   },
   "outputs": [
    {
     "data": {
      "text/plain": [
       "DecisionTreeClassifier()"
      ]
     },
     "execution_count": 3,
     "metadata": {},
     "output_type": "execute_result"
    }
   ],
   "source": [
    "#### SOLUTION\n"
   ]
  },
  {
   "cell_type": "markdown",
   "metadata": {
    "id": "Q00MM_oec5CI"
   },
   "source": [
    "2. Visualize and plot the decision tree nodes.\n"
   ]
  },
  {
   "cell_type": "code",
   "execution_count": 4,
   "metadata": {
    "colab": {
     "base_uri": "https://localhost:8080/",
     "height": 1000
    },
    "executionInfo": {
     "elapsed": 966,
     "status": "ok",
     "timestamp": 1619688726722,
     "user": {
      "displayName": "MANUEL PORTELA CHARNEJOVSKY",
      "photoUrl": "https://lh3.googleusercontent.com/a-/AOh14Ghs17z7Dy_cu2UpbemUwyfYanGDizqgh3Ie3Qmc=s64",
      "userId": "15848882785305921424"
     },
     "user_tz": -120
    },
    "id": "BE0xxYZJc9bY",
    "outputId": "235ed020-6523-44f1-ae66-e1bc426bb696"
   },
   "outputs": [
    {
     "data": {
      "image/svg+xml": [
       "<?xml version=\"1.0\" encoding=\"UTF-8\" standalone=\"no\"?>\n",
       "<!DOCTYPE svg PUBLIC \"-//W3C//DTD SVG 1.1//EN\"\n",
       " \"http://www.w3.org/Graphics/SVG/1.1/DTD/svg11.dtd\">\n",
       "<!-- Generated by graphviz version 2.46.1 (20210213.1702)\n",
       " -->\n",
       "<!-- Title: Tree Pages: 1 -->\n",
       "<svg width=\"852pt\" height=\"761pt\"\n",
       " viewBox=\"0.00 0.00 852.00 761.00\" xmlns=\"http://www.w3.org/2000/svg\" xmlns:xlink=\"http://www.w3.org/1999/xlink\">\n",
       "<g id=\"graph0\" class=\"graph\" transform=\"scale(1 1) rotate(0) translate(4 757)\">\n",
       "<title>Tree</title>\n",
       "<polygon fill=\"white\" stroke=\"transparent\" points=\"-4,4 -4,-757 848,-757 848,4 -4,4\"/>\n",
       "<!-- 0 -->\n",
       "<g id=\"node1\" class=\"node\">\n",
       "<title>0</title>\n",
       "<path fill=\"#ffffff\" stroke=\"black\" d=\"M507.5,-753C507.5,-753 385.5,-753 385.5,-753 379.5,-753 373.5,-747 373.5,-741 373.5,-741 373.5,-667 373.5,-667 373.5,-661 379.5,-655 385.5,-655 385.5,-655 507.5,-655 507.5,-655 513.5,-655 519.5,-661 519.5,-667 519.5,-667 519.5,-741 519.5,-741 519.5,-747 513.5,-753 507.5,-753\"/>\n",
       "<text text-anchor=\"start\" x=\"422\" y=\"-737.8\" font-family=\"Helvetica,sans-Serif\" font-size=\"14.00\">node #0</text>\n",
       "<text text-anchor=\"start\" x=\"381.5\" y=\"-722.8\" font-family=\"Helvetica,sans-Serif\" font-size=\"14.00\">petal width (cm) ≤ 0.8</text>\n",
       "<text text-anchor=\"start\" x=\"411\" y=\"-707.8\" font-family=\"Helvetica,sans-Serif\" font-size=\"14.00\">gini = 0.667</text>\n",
       "<text text-anchor=\"start\" x=\"401.5\" y=\"-692.8\" font-family=\"Helvetica,sans-Serif\" font-size=\"14.00\">samples = 150</text>\n",
       "<text text-anchor=\"start\" x=\"388.5\" y=\"-677.8\" font-family=\"Helvetica,sans-Serif\" font-size=\"14.00\">value = [50, 50, 50]</text>\n",
       "<text text-anchor=\"start\" x=\"403\" y=\"-662.8\" font-family=\"Helvetica,sans-Serif\" font-size=\"14.00\">class = setosa</text>\n",
       "</g>\n",
       "<!-- 1 -->\n",
       "<g id=\"node2\" class=\"node\">\n",
       "<title>1</title>\n",
       "<path fill=\"#e58139\" stroke=\"black\" d=\"M416,-611.5C416,-611.5 323,-611.5 323,-611.5 317,-611.5 311,-605.5 311,-599.5 311,-599.5 311,-540.5 311,-540.5 311,-534.5 317,-528.5 323,-528.5 323,-528.5 416,-528.5 416,-528.5 422,-528.5 428,-534.5 428,-540.5 428,-540.5 428,-599.5 428,-599.5 428,-605.5 422,-611.5 416,-611.5\"/>\n",
       "<text text-anchor=\"start\" x=\"345\" y=\"-596.3\" font-family=\"Helvetica,sans-Serif\" font-size=\"14.00\">node #1</text>\n",
       "<text text-anchor=\"start\" x=\"341.5\" y=\"-581.3\" font-family=\"Helvetica,sans-Serif\" font-size=\"14.00\">gini = 0.0</text>\n",
       "<text text-anchor=\"start\" x=\"328.5\" y=\"-566.3\" font-family=\"Helvetica,sans-Serif\" font-size=\"14.00\">samples = 50</text>\n",
       "<text text-anchor=\"start\" x=\"319\" y=\"-551.3\" font-family=\"Helvetica,sans-Serif\" font-size=\"14.00\">value = [50, 0, 0]</text>\n",
       "<text text-anchor=\"start\" x=\"326\" y=\"-536.3\" font-family=\"Helvetica,sans-Serif\" font-size=\"14.00\">class = setosa</text>\n",
       "</g>\n",
       "<!-- 0&#45;&gt;1 -->\n",
       "<g id=\"edge1\" class=\"edge\">\n",
       "<title>0&#45;&gt;1</title>\n",
       "<path fill=\"none\" stroke=\"black\" d=\"M418.48,-654.97C411.97,-643.8 405.02,-631.89 398.47,-620.66\"/>\n",
       "<polygon fill=\"black\" stroke=\"black\" points=\"401.37,-618.69 393.31,-611.82 395.33,-622.22 401.37,-618.69\"/>\n",
       "<text text-anchor=\"middle\" x=\"386.95\" y=\"-632.29\" font-family=\"Helvetica,sans-Serif\" font-size=\"14.00\">True</text>\n",
       "</g>\n",
       "<!-- 2 -->\n",
       "<g id=\"node3\" class=\"node\">\n",
       "<title>2</title>\n",
       "<path fill=\"#ffffff\" stroke=\"black\" d=\"M588.5,-619C588.5,-619 458.5,-619 458.5,-619 452.5,-619 446.5,-613 446.5,-607 446.5,-607 446.5,-533 446.5,-533 446.5,-527 452.5,-521 458.5,-521 458.5,-521 588.5,-521 588.5,-521 594.5,-521 600.5,-527 600.5,-533 600.5,-533 600.5,-607 600.5,-607 600.5,-613 594.5,-619 588.5,-619\"/>\n",
       "<text text-anchor=\"start\" x=\"499\" y=\"-603.8\" font-family=\"Helvetica,sans-Serif\" font-size=\"14.00\">node #2</text>\n",
       "<text text-anchor=\"start\" x=\"454.5\" y=\"-588.8\" font-family=\"Helvetica,sans-Serif\" font-size=\"14.00\">petal width (cm) ≤ 1.75</text>\n",
       "<text text-anchor=\"start\" x=\"495.5\" y=\"-573.8\" font-family=\"Helvetica,sans-Serif\" font-size=\"14.00\">gini = 0.5</text>\n",
       "<text text-anchor=\"start\" x=\"478.5\" y=\"-558.8\" font-family=\"Helvetica,sans-Serif\" font-size=\"14.00\">samples = 100</text>\n",
       "<text text-anchor=\"start\" x=\"469\" y=\"-543.8\" font-family=\"Helvetica,sans-Serif\" font-size=\"14.00\">value = [0, 50, 50]</text>\n",
       "<text text-anchor=\"start\" x=\"471\" y=\"-528.8\" font-family=\"Helvetica,sans-Serif\" font-size=\"14.00\">class = versicolor</text>\n",
       "</g>\n",
       "<!-- 0&#45;&gt;2 -->\n",
       "<g id=\"edge2\" class=\"edge\">\n",
       "<title>0&#45;&gt;2</title>\n",
       "<path fill=\"none\" stroke=\"black\" d=\"M474.52,-654.97C479.61,-646.24 484.97,-637.05 490.2,-628.08\"/>\n",
       "<polygon fill=\"black\" stroke=\"black\" points=\"493.36,-629.62 495.38,-619.21 487.31,-626.09 493.36,-629.62\"/>\n",
       "<text text-anchor=\"middle\" x=\"501.74\" y=\"-639.69\" font-family=\"Helvetica,sans-Serif\" font-size=\"14.00\">False</text>\n",
       "</g>\n",
       "<!-- 3 -->\n",
       "<g id=\"node4\" class=\"node\">\n",
       "<title>3</title>\n",
       "<path fill=\"#4de88e\" stroke=\"black\" d=\"M480,-485C480,-485 345,-485 345,-485 339,-485 333,-479 333,-473 333,-473 333,-399 333,-399 333,-393 339,-387 345,-387 345,-387 480,-387 480,-387 486,-387 492,-393 492,-399 492,-399 492,-473 492,-473 492,-479 486,-485 480,-485\"/>\n",
       "<text text-anchor=\"start\" x=\"388\" y=\"-469.8\" font-family=\"Helvetica,sans-Serif\" font-size=\"14.00\">node #3</text>\n",
       "<text text-anchor=\"start\" x=\"341\" y=\"-454.8\" font-family=\"Helvetica,sans-Serif\" font-size=\"14.00\">petal length (cm) ≤ 4.95</text>\n",
       "<text text-anchor=\"start\" x=\"377\" y=\"-439.8\" font-family=\"Helvetica,sans-Serif\" font-size=\"14.00\">gini = 0.168</text>\n",
       "<text text-anchor=\"start\" x=\"371.5\" y=\"-424.8\" font-family=\"Helvetica,sans-Serif\" font-size=\"14.00\">samples = 54</text>\n",
       "<text text-anchor=\"start\" x=\"362\" y=\"-409.8\" font-family=\"Helvetica,sans-Serif\" font-size=\"14.00\">value = [0, 49, 5]</text>\n",
       "<text text-anchor=\"start\" x=\"360\" y=\"-394.8\" font-family=\"Helvetica,sans-Serif\" font-size=\"14.00\">class = versicolor</text>\n",
       "</g>\n",
       "<!-- 2&#45;&gt;3 -->\n",
       "<g id=\"edge3\" class=\"edge\">\n",
       "<title>2&#45;&gt;3</title>\n",
       "<path fill=\"none\" stroke=\"black\" d=\"M483.11,-520.97C475.46,-511.87 467.39,-502.28 459.56,-492.96\"/>\n",
       "<polygon fill=\"black\" stroke=\"black\" points=\"462.16,-490.61 453.04,-485.21 456.8,-495.12 462.16,-490.61\"/>\n",
       "</g>\n",
       "<!-- 12 -->\n",
       "<g id=\"node13\" class=\"node\">\n",
       "<title>12</title>\n",
       "<path fill=\"#843de6\" stroke=\"black\" d=\"M702,-485C702,-485 567,-485 567,-485 561,-485 555,-479 555,-473 555,-473 555,-399 555,-399 555,-393 561,-387 567,-387 567,-387 702,-387 702,-387 708,-387 714,-393 714,-399 714,-399 714,-473 714,-473 714,-479 708,-485 702,-485\"/>\n",
       "<text text-anchor=\"start\" x=\"606\" y=\"-469.8\" font-family=\"Helvetica,sans-Serif\" font-size=\"14.00\">node #12</text>\n",
       "<text text-anchor=\"start\" x=\"563\" y=\"-454.8\" font-family=\"Helvetica,sans-Serif\" font-size=\"14.00\">petal length (cm) ≤ 4.85</text>\n",
       "<text text-anchor=\"start\" x=\"599\" y=\"-439.8\" font-family=\"Helvetica,sans-Serif\" font-size=\"14.00\">gini = 0.043</text>\n",
       "<text text-anchor=\"start\" x=\"593.5\" y=\"-424.8\" font-family=\"Helvetica,sans-Serif\" font-size=\"14.00\">samples = 46</text>\n",
       "<text text-anchor=\"start\" x=\"584\" y=\"-409.8\" font-family=\"Helvetica,sans-Serif\" font-size=\"14.00\">value = [0, 1, 45]</text>\n",
       "<text text-anchor=\"start\" x=\"586\" y=\"-394.8\" font-family=\"Helvetica,sans-Serif\" font-size=\"14.00\">class = virginica</text>\n",
       "</g>\n",
       "<!-- 2&#45;&gt;12 -->\n",
       "<g id=\"edge12\" class=\"edge\">\n",
       "<title>2&#45;&gt;12</title>\n",
       "<path fill=\"none\" stroke=\"black\" d=\"M563.89,-520.97C571.54,-511.87 579.61,-502.28 587.44,-492.96\"/>\n",
       "<polygon fill=\"black\" stroke=\"black\" points=\"590.2,-495.12 593.96,-485.21 584.84,-490.61 590.2,-495.12\"/>\n",
       "</g>\n",
       "<!-- 4 -->\n",
       "<g id=\"node5\" class=\"node\">\n",
       "<title>4</title>\n",
       "<path fill=\"#3de684\" stroke=\"black\" d=\"M260.5,-351C260.5,-351 130.5,-351 130.5,-351 124.5,-351 118.5,-345 118.5,-339 118.5,-339 118.5,-265 118.5,-265 118.5,-259 124.5,-253 130.5,-253 130.5,-253 260.5,-253 260.5,-253 266.5,-253 272.5,-259 272.5,-265 272.5,-265 272.5,-339 272.5,-339 272.5,-345 266.5,-351 260.5,-351\"/>\n",
       "<text text-anchor=\"start\" x=\"171\" y=\"-335.8\" font-family=\"Helvetica,sans-Serif\" font-size=\"14.00\">node #4</text>\n",
       "<text text-anchor=\"start\" x=\"126.5\" y=\"-320.8\" font-family=\"Helvetica,sans-Serif\" font-size=\"14.00\">petal width (cm) ≤ 1.65</text>\n",
       "<text text-anchor=\"start\" x=\"160\" y=\"-305.8\" font-family=\"Helvetica,sans-Serif\" font-size=\"14.00\">gini = 0.041</text>\n",
       "<text text-anchor=\"start\" x=\"154.5\" y=\"-290.8\" font-family=\"Helvetica,sans-Serif\" font-size=\"14.00\">samples = 48</text>\n",
       "<text text-anchor=\"start\" x=\"145\" y=\"-275.8\" font-family=\"Helvetica,sans-Serif\" font-size=\"14.00\">value = [0, 47, 1]</text>\n",
       "<text text-anchor=\"start\" x=\"143\" y=\"-260.8\" font-family=\"Helvetica,sans-Serif\" font-size=\"14.00\">class = versicolor</text>\n",
       "</g>\n",
       "<!-- 3&#45;&gt;4 -->\n",
       "<g id=\"edge4\" class=\"edge\">\n",
       "<title>3&#45;&gt;4</title>\n",
       "<path fill=\"none\" stroke=\"black\" d=\"M333.54,-386.97C316.62,-376.68 298.66,-365.75 281.48,-355.3\"/>\n",
       "<polygon fill=\"black\" stroke=\"black\" points=\"282.95,-352.1 272.58,-349.89 279.31,-358.08 282.95,-352.1\"/>\n",
       "</g>\n",
       "<!-- 7 -->\n",
       "<g id=\"node8\" class=\"node\">\n",
       "<title>7</title>\n",
       "<path fill=\"#c09cf2\" stroke=\"black\" d=\"M477.5,-351C477.5,-351 347.5,-351 347.5,-351 341.5,-351 335.5,-345 335.5,-339 335.5,-339 335.5,-265 335.5,-265 335.5,-259 341.5,-253 347.5,-253 347.5,-253 477.5,-253 477.5,-253 483.5,-253 489.5,-259 489.5,-265 489.5,-265 489.5,-339 489.5,-339 489.5,-345 483.5,-351 477.5,-351\"/>\n",
       "<text text-anchor=\"start\" x=\"388\" y=\"-335.8\" font-family=\"Helvetica,sans-Serif\" font-size=\"14.00\">node #7</text>\n",
       "<text text-anchor=\"start\" x=\"343.5\" y=\"-320.8\" font-family=\"Helvetica,sans-Serif\" font-size=\"14.00\">petal width (cm) ≤ 1.55</text>\n",
       "<text text-anchor=\"start\" x=\"377\" y=\"-305.8\" font-family=\"Helvetica,sans-Serif\" font-size=\"14.00\">gini = 0.444</text>\n",
       "<text text-anchor=\"start\" x=\"375\" y=\"-290.8\" font-family=\"Helvetica,sans-Serif\" font-size=\"14.00\">samples = 6</text>\n",
       "<text text-anchor=\"start\" x=\"365.5\" y=\"-275.8\" font-family=\"Helvetica,sans-Serif\" font-size=\"14.00\">value = [0, 2, 4]</text>\n",
       "<text text-anchor=\"start\" x=\"364\" y=\"-260.8\" font-family=\"Helvetica,sans-Serif\" font-size=\"14.00\">class = virginica</text>\n",
       "</g>\n",
       "<!-- 3&#45;&gt;7 -->\n",
       "<g id=\"edge7\" class=\"edge\">\n",
       "<title>3&#45;&gt;7</title>\n",
       "<path fill=\"none\" stroke=\"black\" d=\"M412.5,-386.97C412.5,-378.69 412.5,-370 412.5,-361.48\"/>\n",
       "<polygon fill=\"black\" stroke=\"black\" points=\"416,-361.21 412.5,-351.21 409,-361.21 416,-361.21\"/>\n",
       "</g>\n",
       "<!-- 5 -->\n",
       "<g id=\"node6\" class=\"node\">\n",
       "<title>5</title>\n",
       "<path fill=\"#39e581\" stroke=\"black\" d=\"M109,-209.5C109,-209.5 12,-209.5 12,-209.5 6,-209.5 0,-203.5 0,-197.5 0,-197.5 0,-138.5 0,-138.5 0,-132.5 6,-126.5 12,-126.5 12,-126.5 109,-126.5 109,-126.5 115,-126.5 121,-132.5 121,-138.5 121,-138.5 121,-197.5 121,-197.5 121,-203.5 115,-209.5 109,-209.5\"/>\n",
       "<text text-anchor=\"start\" x=\"36\" y=\"-194.3\" font-family=\"Helvetica,sans-Serif\" font-size=\"14.00\">node #5</text>\n",
       "<text text-anchor=\"start\" x=\"32.5\" y=\"-179.3\" font-family=\"Helvetica,sans-Serif\" font-size=\"14.00\">gini = 0.0</text>\n",
       "<text text-anchor=\"start\" x=\"19.5\" y=\"-164.3\" font-family=\"Helvetica,sans-Serif\" font-size=\"14.00\">samples = 47</text>\n",
       "<text text-anchor=\"start\" x=\"10\" y=\"-149.3\" font-family=\"Helvetica,sans-Serif\" font-size=\"14.00\">value = [0, 47, 0]</text>\n",
       "<text text-anchor=\"start\" x=\"8\" y=\"-134.3\" font-family=\"Helvetica,sans-Serif\" font-size=\"14.00\">class = versicolor</text>\n",
       "</g>\n",
       "<!-- 4&#45;&gt;5 -->\n",
       "<g id=\"edge5\" class=\"edge\">\n",
       "<title>4&#45;&gt;5</title>\n",
       "<path fill=\"none\" stroke=\"black\" d=\"M146.38,-252.97C134.39,-241.25 121.57,-228.71 109.58,-216.99\"/>\n",
       "<polygon fill=\"black\" stroke=\"black\" points=\"111.84,-214.31 102.24,-209.82 106.95,-219.31 111.84,-214.31\"/>\n",
       "</g>\n",
       "<!-- 6 -->\n",
       "<g id=\"node7\" class=\"node\">\n",
       "<title>6</title>\n",
       "<path fill=\"#8139e5\" stroke=\"black\" d=\"M240,-209.5C240,-209.5 151,-209.5 151,-209.5 145,-209.5 139,-203.5 139,-197.5 139,-197.5 139,-138.5 139,-138.5 139,-132.5 145,-126.5 151,-126.5 151,-126.5 240,-126.5 240,-126.5 246,-126.5 252,-132.5 252,-138.5 252,-138.5 252,-197.5 252,-197.5 252,-203.5 246,-209.5 240,-209.5\"/>\n",
       "<text text-anchor=\"start\" x=\"171\" y=\"-194.3\" font-family=\"Helvetica,sans-Serif\" font-size=\"14.00\">node #6</text>\n",
       "<text text-anchor=\"start\" x=\"167.5\" y=\"-179.3\" font-family=\"Helvetica,sans-Serif\" font-size=\"14.00\">gini = 0.0</text>\n",
       "<text text-anchor=\"start\" x=\"158\" y=\"-164.3\" font-family=\"Helvetica,sans-Serif\" font-size=\"14.00\">samples = 1</text>\n",
       "<text text-anchor=\"start\" x=\"148.5\" y=\"-149.3\" font-family=\"Helvetica,sans-Serif\" font-size=\"14.00\">value = [0, 0, 1]</text>\n",
       "<text text-anchor=\"start\" x=\"147\" y=\"-134.3\" font-family=\"Helvetica,sans-Serif\" font-size=\"14.00\">class = virginica</text>\n",
       "</g>\n",
       "<!-- 4&#45;&gt;6 -->\n",
       "<g id=\"edge6\" class=\"edge\">\n",
       "<title>4&#45;&gt;6</title>\n",
       "<path fill=\"none\" stroke=\"black\" d=\"M195.5,-252.97C195.5,-242.25 195.5,-230.84 195.5,-219.99\"/>\n",
       "<polygon fill=\"black\" stroke=\"black\" points=\"199,-219.82 195.5,-209.82 192,-219.82 199,-219.82\"/>\n",
       "</g>\n",
       "<!-- 8 -->\n",
       "<g id=\"node9\" class=\"node\">\n",
       "<title>8</title>\n",
       "<path fill=\"#8139e5\" stroke=\"black\" d=\"M371,-209.5C371,-209.5 282,-209.5 282,-209.5 276,-209.5 270,-203.5 270,-197.5 270,-197.5 270,-138.5 270,-138.5 270,-132.5 276,-126.5 282,-126.5 282,-126.5 371,-126.5 371,-126.5 377,-126.5 383,-132.5 383,-138.5 383,-138.5 383,-197.5 383,-197.5 383,-203.5 377,-209.5 371,-209.5\"/>\n",
       "<text text-anchor=\"start\" x=\"302\" y=\"-194.3\" font-family=\"Helvetica,sans-Serif\" font-size=\"14.00\">node #8</text>\n",
       "<text text-anchor=\"start\" x=\"298.5\" y=\"-179.3\" font-family=\"Helvetica,sans-Serif\" font-size=\"14.00\">gini = 0.0</text>\n",
       "<text text-anchor=\"start\" x=\"289\" y=\"-164.3\" font-family=\"Helvetica,sans-Serif\" font-size=\"14.00\">samples = 3</text>\n",
       "<text text-anchor=\"start\" x=\"279.5\" y=\"-149.3\" font-family=\"Helvetica,sans-Serif\" font-size=\"14.00\">value = [0, 0, 3]</text>\n",
       "<text text-anchor=\"start\" x=\"278\" y=\"-134.3\" font-family=\"Helvetica,sans-Serif\" font-size=\"14.00\">class = virginica</text>\n",
       "</g>\n",
       "<!-- 7&#45;&gt;8 -->\n",
       "<g id=\"edge8\" class=\"edge\">\n",
       "<title>7&#45;&gt;8</title>\n",
       "<path fill=\"none\" stroke=\"black\" d=\"M381.21,-252.97C373.86,-241.69 366.02,-229.66 358.63,-218.32\"/>\n",
       "<polygon fill=\"black\" stroke=\"black\" points=\"361.48,-216.28 353.09,-209.82 355.62,-220.11 361.48,-216.28\"/>\n",
       "</g>\n",
       "<!-- 9 -->\n",
       "<g id=\"node10\" class=\"node\">\n",
       "<title>9</title>\n",
       "<path fill=\"#9cf2c0\" stroke=\"black\" d=\"M548,-217C548,-217 413,-217 413,-217 407,-217 401,-211 401,-205 401,-205 401,-131 401,-131 401,-125 407,-119 413,-119 413,-119 548,-119 548,-119 554,-119 560,-125 560,-131 560,-131 560,-205 560,-205 560,-211 554,-217 548,-217\"/>\n",
       "<text text-anchor=\"start\" x=\"456\" y=\"-201.8\" font-family=\"Helvetica,sans-Serif\" font-size=\"14.00\">node #9</text>\n",
       "<text text-anchor=\"start\" x=\"409\" y=\"-186.8\" font-family=\"Helvetica,sans-Serif\" font-size=\"14.00\">petal length (cm) ≤ 5.45</text>\n",
       "<text text-anchor=\"start\" x=\"445\" y=\"-171.8\" font-family=\"Helvetica,sans-Serif\" font-size=\"14.00\">gini = 0.444</text>\n",
       "<text text-anchor=\"start\" x=\"443\" y=\"-156.8\" font-family=\"Helvetica,sans-Serif\" font-size=\"14.00\">samples = 3</text>\n",
       "<text text-anchor=\"start\" x=\"433.5\" y=\"-141.8\" font-family=\"Helvetica,sans-Serif\" font-size=\"14.00\">value = [0, 2, 1]</text>\n",
       "<text text-anchor=\"start\" x=\"428\" y=\"-126.8\" font-family=\"Helvetica,sans-Serif\" font-size=\"14.00\">class = versicolor</text>\n",
       "</g>\n",
       "<!-- 7&#45;&gt;9 -->\n",
       "<g id=\"edge9\" class=\"edge\">\n",
       "<title>7&#45;&gt;9</title>\n",
       "<path fill=\"none\" stroke=\"black\" d=\"M437.24,-252.97C441.7,-244.33 446.38,-235.24 450.95,-226.36\"/>\n",
       "<polygon fill=\"black\" stroke=\"black\" points=\"454.19,-227.71 455.66,-217.21 447.97,-224.5 454.19,-227.71\"/>\n",
       "</g>\n",
       "<!-- 10 -->\n",
       "<g id=\"node11\" class=\"node\">\n",
       "<title>10</title>\n",
       "<path fill=\"#39e581\" stroke=\"black\" d=\"M461,-83C461,-83 364,-83 364,-83 358,-83 352,-77 352,-71 352,-71 352,-12 352,-12 352,-6 358,0 364,0 364,0 461,0 461,0 467,0 473,-6 473,-12 473,-12 473,-71 473,-71 473,-77 467,-83 461,-83\"/>\n",
       "<text text-anchor=\"start\" x=\"384\" y=\"-67.8\" font-family=\"Helvetica,sans-Serif\" font-size=\"14.00\">node #10</text>\n",
       "<text text-anchor=\"start\" x=\"384.5\" y=\"-52.8\" font-family=\"Helvetica,sans-Serif\" font-size=\"14.00\">gini = 0.0</text>\n",
       "<text text-anchor=\"start\" x=\"375\" y=\"-37.8\" font-family=\"Helvetica,sans-Serif\" font-size=\"14.00\">samples = 2</text>\n",
       "<text text-anchor=\"start\" x=\"365.5\" y=\"-22.8\" font-family=\"Helvetica,sans-Serif\" font-size=\"14.00\">value = [0, 2, 0]</text>\n",
       "<text text-anchor=\"start\" x=\"360\" y=\"-7.8\" font-family=\"Helvetica,sans-Serif\" font-size=\"14.00\">class = versicolor</text>\n",
       "</g>\n",
       "<!-- 9&#45;&gt;10 -->\n",
       "<g id=\"edge10\" class=\"edge\">\n",
       "<title>9&#45;&gt;10</title>\n",
       "<path fill=\"none\" stroke=\"black\" d=\"M454.21,-118.87C449.44,-110.13 444.45,-101 439.66,-92.22\"/>\n",
       "<polygon fill=\"black\" stroke=\"black\" points=\"442.61,-90.33 434.75,-83.23 436.47,-93.68 442.61,-90.33\"/>\n",
       "</g>\n",
       "<!-- 11 -->\n",
       "<g id=\"node12\" class=\"node\">\n",
       "<title>11</title>\n",
       "<path fill=\"#8139e5\" stroke=\"black\" d=\"M592,-83C592,-83 503,-83 503,-83 497,-83 491,-77 491,-71 491,-71 491,-12 491,-12 491,-6 497,0 503,0 503,0 592,0 592,0 598,0 604,-6 604,-12 604,-12 604,-71 604,-71 604,-77 598,-83 592,-83\"/>\n",
       "<text text-anchor=\"start\" x=\"519\" y=\"-67.8\" font-family=\"Helvetica,sans-Serif\" font-size=\"14.00\">node #11</text>\n",
       "<text text-anchor=\"start\" x=\"519.5\" y=\"-52.8\" font-family=\"Helvetica,sans-Serif\" font-size=\"14.00\">gini = 0.0</text>\n",
       "<text text-anchor=\"start\" x=\"510\" y=\"-37.8\" font-family=\"Helvetica,sans-Serif\" font-size=\"14.00\">samples = 1</text>\n",
       "<text text-anchor=\"start\" x=\"500.5\" y=\"-22.8\" font-family=\"Helvetica,sans-Serif\" font-size=\"14.00\">value = [0, 0, 1]</text>\n",
       "<text text-anchor=\"start\" x=\"499\" y=\"-7.8\" font-family=\"Helvetica,sans-Serif\" font-size=\"14.00\">class = virginica</text>\n",
       "</g>\n",
       "<!-- 9&#45;&gt;11 -->\n",
       "<g id=\"edge11\" class=\"edge\">\n",
       "<title>9&#45;&gt;11</title>\n",
       "<path fill=\"none\" stroke=\"black\" d=\"M506.4,-118.87C511.1,-110.13 516.02,-101 520.74,-92.22\"/>\n",
       "<polygon fill=\"black\" stroke=\"black\" points=\"523.92,-93.7 525.58,-83.23 517.76,-90.38 523.92,-93.7\"/>\n",
       "</g>\n",
       "<!-- 13 -->\n",
       "<g id=\"node14\" class=\"node\">\n",
       "<title>13</title>\n",
       "<path fill=\"#c09cf2\" stroke=\"black\" d=\"M697,-351C697,-351 572,-351 572,-351 566,-351 560,-345 560,-339 560,-339 560,-265 560,-265 560,-259 566,-253 572,-253 572,-253 697,-253 697,-253 703,-253 709,-259 709,-265 709,-265 709,-339 709,-339 709,-345 703,-351 697,-351\"/>\n",
       "<text text-anchor=\"start\" x=\"606\" y=\"-335.8\" font-family=\"Helvetica,sans-Serif\" font-size=\"14.00\">node #13</text>\n",
       "<text text-anchor=\"start\" x=\"568\" y=\"-320.8\" font-family=\"Helvetica,sans-Serif\" font-size=\"14.00\">sepal width (cm) ≤ 3.1</text>\n",
       "<text text-anchor=\"start\" x=\"599\" y=\"-305.8\" font-family=\"Helvetica,sans-Serif\" font-size=\"14.00\">gini = 0.444</text>\n",
       "<text text-anchor=\"start\" x=\"597\" y=\"-290.8\" font-family=\"Helvetica,sans-Serif\" font-size=\"14.00\">samples = 3</text>\n",
       "<text text-anchor=\"start\" x=\"587.5\" y=\"-275.8\" font-family=\"Helvetica,sans-Serif\" font-size=\"14.00\">value = [0, 1, 2]</text>\n",
       "<text text-anchor=\"start\" x=\"586\" y=\"-260.8\" font-family=\"Helvetica,sans-Serif\" font-size=\"14.00\">class = virginica</text>\n",
       "</g>\n",
       "<!-- 12&#45;&gt;13 -->\n",
       "<g id=\"edge13\" class=\"edge\">\n",
       "<title>12&#45;&gt;13</title>\n",
       "<path fill=\"none\" stroke=\"black\" d=\"M634.5,-386.97C634.5,-378.69 634.5,-370 634.5,-361.48\"/>\n",
       "<polygon fill=\"black\" stroke=\"black\" points=\"638,-361.21 634.5,-351.21 631,-361.21 638,-361.21\"/>\n",
       "</g>\n",
       "<!-- 16 -->\n",
       "<g id=\"node17\" class=\"node\">\n",
       "<title>16</title>\n",
       "<path fill=\"#8139e5\" stroke=\"black\" d=\"M832,-343.5C832,-343.5 739,-343.5 739,-343.5 733,-343.5 727,-337.5 727,-331.5 727,-331.5 727,-272.5 727,-272.5 727,-266.5 733,-260.5 739,-260.5 739,-260.5 832,-260.5 832,-260.5 838,-260.5 844,-266.5 844,-272.5 844,-272.5 844,-331.5 844,-331.5 844,-337.5 838,-343.5 832,-343.5\"/>\n",
       "<text text-anchor=\"start\" x=\"757\" y=\"-328.3\" font-family=\"Helvetica,sans-Serif\" font-size=\"14.00\">node #16</text>\n",
       "<text text-anchor=\"start\" x=\"757.5\" y=\"-313.3\" font-family=\"Helvetica,sans-Serif\" font-size=\"14.00\">gini = 0.0</text>\n",
       "<text text-anchor=\"start\" x=\"744.5\" y=\"-298.3\" font-family=\"Helvetica,sans-Serif\" font-size=\"14.00\">samples = 43</text>\n",
       "<text text-anchor=\"start\" x=\"735\" y=\"-283.3\" font-family=\"Helvetica,sans-Serif\" font-size=\"14.00\">value = [0, 0, 43]</text>\n",
       "<text text-anchor=\"start\" x=\"737\" y=\"-268.3\" font-family=\"Helvetica,sans-Serif\" font-size=\"14.00\">class = virginica</text>\n",
       "</g>\n",
       "<!-- 12&#45;&gt;16 -->\n",
       "<g id=\"edge16\" class=\"edge\">\n",
       "<title>12&#45;&gt;16</title>\n",
       "<path fill=\"none\" stroke=\"black\" d=\"M689.44,-386.97C702.98,-375.14 717.46,-362.48 730.98,-350.66\"/>\n",
       "<polygon fill=\"black\" stroke=\"black\" points=\"733.58,-353.03 738.81,-343.82 728.98,-347.76 733.58,-353.03\"/>\n",
       "</g>\n",
       "<!-- 14 -->\n",
       "<g id=\"node15\" class=\"node\">\n",
       "<title>14</title>\n",
       "<path fill=\"#8139e5\" stroke=\"black\" d=\"M679,-209.5C679,-209.5 590,-209.5 590,-209.5 584,-209.5 578,-203.5 578,-197.5 578,-197.5 578,-138.5 578,-138.5 578,-132.5 584,-126.5 590,-126.5 590,-126.5 679,-126.5 679,-126.5 685,-126.5 691,-132.5 691,-138.5 691,-138.5 691,-197.5 691,-197.5 691,-203.5 685,-209.5 679,-209.5\"/>\n",
       "<text text-anchor=\"start\" x=\"606\" y=\"-194.3\" font-family=\"Helvetica,sans-Serif\" font-size=\"14.00\">node #14</text>\n",
       "<text text-anchor=\"start\" x=\"606.5\" y=\"-179.3\" font-family=\"Helvetica,sans-Serif\" font-size=\"14.00\">gini = 0.0</text>\n",
       "<text text-anchor=\"start\" x=\"597\" y=\"-164.3\" font-family=\"Helvetica,sans-Serif\" font-size=\"14.00\">samples = 2</text>\n",
       "<text text-anchor=\"start\" x=\"587.5\" y=\"-149.3\" font-family=\"Helvetica,sans-Serif\" font-size=\"14.00\">value = [0, 0, 2]</text>\n",
       "<text text-anchor=\"start\" x=\"586\" y=\"-134.3\" font-family=\"Helvetica,sans-Serif\" font-size=\"14.00\">class = virginica</text>\n",
       "</g>\n",
       "<!-- 13&#45;&gt;14 -->\n",
       "<g id=\"edge14\" class=\"edge\">\n",
       "<title>13&#45;&gt;14</title>\n",
       "<path fill=\"none\" stroke=\"black\" d=\"M634.5,-252.97C634.5,-242.25 634.5,-230.84 634.5,-219.99\"/>\n",
       "<polygon fill=\"black\" stroke=\"black\" points=\"638,-219.82 634.5,-209.82 631,-219.82 638,-219.82\"/>\n",
       "</g>\n",
       "<!-- 15 -->\n",
       "<g id=\"node16\" class=\"node\">\n",
       "<title>15</title>\n",
       "<path fill=\"#39e581\" stroke=\"black\" d=\"M818,-209.5C818,-209.5 721,-209.5 721,-209.5 715,-209.5 709,-203.5 709,-197.5 709,-197.5 709,-138.5 709,-138.5 709,-132.5 715,-126.5 721,-126.5 721,-126.5 818,-126.5 818,-126.5 824,-126.5 830,-132.5 830,-138.5 830,-138.5 830,-197.5 830,-197.5 830,-203.5 824,-209.5 818,-209.5\"/>\n",
       "<text text-anchor=\"start\" x=\"741\" y=\"-194.3\" font-family=\"Helvetica,sans-Serif\" font-size=\"14.00\">node #15</text>\n",
       "<text text-anchor=\"start\" x=\"741.5\" y=\"-179.3\" font-family=\"Helvetica,sans-Serif\" font-size=\"14.00\">gini = 0.0</text>\n",
       "<text text-anchor=\"start\" x=\"732\" y=\"-164.3\" font-family=\"Helvetica,sans-Serif\" font-size=\"14.00\">samples = 1</text>\n",
       "<text text-anchor=\"start\" x=\"722.5\" y=\"-149.3\" font-family=\"Helvetica,sans-Serif\" font-size=\"14.00\">value = [0, 1, 0]</text>\n",
       "<text text-anchor=\"start\" x=\"717\" y=\"-134.3\" font-family=\"Helvetica,sans-Serif\" font-size=\"14.00\">class = versicolor</text>\n",
       "</g>\n",
       "<!-- 13&#45;&gt;15 -->\n",
       "<g id=\"edge15\" class=\"edge\">\n",
       "<title>13&#45;&gt;15</title>\n",
       "<path fill=\"none\" stroke=\"black\" d=\"M683.62,-252.97C695.61,-241.25 708.43,-228.71 720.42,-216.99\"/>\n",
       "<polygon fill=\"black\" stroke=\"black\" points=\"723.05,-219.31 727.76,-209.82 718.16,-214.31 723.05,-219.31\"/>\n",
       "</g>\n",
       "</g>\n",
       "</svg>\n"
      ],
      "text/plain": [
       "<graphviz.files.Source at 0x7f84b3b47eb8>"
      ]
     },
     "execution_count": 4,
     "metadata": {},
     "output_type": "execute_result"
    }
   ],
   "source": [
    "graph = Source(tree.export_graphviz(dtClassifier, out_file=None, feature_names=iris.feature_names, class_names=iris.target_names, filled=True, rounded=True, node_ids= True, special_characters=True)) \n",
    "graph.format = 'png'\n",
    "graph"
   ]
  },
  {
   "cell_type": "markdown",
   "metadata": {
    "id": "GOgsA7-nc6Pt"
   },
   "source": [
    "3. Predict the class for the following rows index of the iris dataset: [0,1,50,51,100,101]. Which is the node for each sample? "
   ]
  },
  {
   "cell_type": "code",
   "execution_count": 5,
   "metadata": {
    "colab": {
     "base_uri": "https://localhost:8080/"
    },
    "executionInfo": {
     "elapsed": 919,
     "status": "ok",
     "timestamp": 1616773661962,
     "user": {
      "displayName": "MANUEL PORTELA CHARNEJOVSKY",
      "photoUrl": "https://lh3.googleusercontent.com/a-/AOh14Ghs17z7Dy_cu2UpbemUwyfYanGDizqgh3Ie3Qmc=s64",
      "userId": "15848882785305921424"
     },
     "user_tz": -60
    },
    "id": "EQGV1OHAc7BO",
    "outputId": "d17ebff2-e35a-4fec-c65e-5214e7ca2a4d"
   },
   "outputs": [
    {
     "data": {
      "text/plain": [
       "'\\nfeature = dtClassifier.tree_.feature\\nthreshold = dtClassifier.tree_.threshold\\nnode_indicator = dtClassifier.decision_path(X)\\nleaf_id = dtClassifier.apply(X)\\n\\nsample_id = 51\\nprint(X[sample_id])\\n# obtain ids of the nodes `sample_id` goes through, i.e., row `sample_id`\\nnode_index = node_indicator.indices[node_indicator.indptr[sample_id]:\\n                                    node_indicator.indptr[sample_id + 1]]\\n\\nprint(\\'Rules used to predict sample {id}:\\n\\'.format(id=sample_id))\\nfor node_id in node_index:\\n    # continue to the next node if it is a leaf node\\n    if leaf_id[sample_id] == node_id:\\n        continue\\n\\n    # check if value of the split feature for sample 0 is below threshold\\n    if (X[sample_id, feature[node_id]] <= threshold[node_id]):\\n        threshold_sign = \"<=\"\\n    else:\\n        threshold_sign = \">\"\\n\\n    print(\"decision node {node} : (X_test[{sample}, {feature}] = {value}) \"\\n          \"{inequality} {threshold})\".format(\\n              node=node_id,\\n              sample=sample_id,\\n              feature=feature[node_id],\\n              value=X[sample_id, feature[node_id]],\\n              inequality=threshold_sign,\\n              threshold=threshold[node_id]))\\n'"
      ]
     },
     "execution_count": 5,
     "metadata": {},
     "output_type": "execute_result"
    }
   ],
   "source": [
    "### ---- YOUR SOLUTION: BEGIN ----- ###\n",
    "\n",
    "# CLASES ARE: []\n",
    "\n",
    "### ---- YOUR SOLUTION: END ----- ###\n",
    "\n"
   ]
  },
  {
   "cell_type": "markdown",
   "metadata": {
    "id": "nVcg6RZJDz4G"
   },
   "source": [
    "4. Use DecisionTrees again to classify the dataset, but splitting the dataset into train/test in a 0.7 ratio. Then, calculate the accuracy of the model."
   ]
  },
  {
   "cell_type": "code",
   "execution_count": 6,
   "metadata": {
    "colab": {
     "base_uri": "https://localhost:8080/"
    },
    "executionInfo": {
     "elapsed": 658,
     "status": "ok",
     "timestamp": 1619688734007,
     "user": {
      "displayName": "MANUEL PORTELA CHARNEJOVSKY",
      "photoUrl": "https://lh3.googleusercontent.com/a-/AOh14Ghs17z7Dy_cu2UpbemUwyfYanGDizqgh3Ie3Qmc=s64",
      "userId": "15848882785305921424"
     },
     "user_tz": -120
    },
    "id": "JbKBceAnD3Bt",
    "outputId": "08273f6b-c4c3-4b32-8e87-156c05e990cd"
   },
   "outputs": [
    {
     "name": "stdout",
     "output_type": "stream",
     "text": [
      "Accuracy: 0.9333333333333333\n"
     ]
    }
   ],
   "source": [
    "X_train, X_test, y_train, y_test = train_test_split(X, y, test_size=0.3) # 70% training and 30% test\n",
    "#### SOLUTION\n"
   ]
  },
  {
   "cell_type": "markdown",
   "metadata": {
    "id": "J1Cro2OSe-id"
   },
   "source": [
    "### Exercice 5"
   ]
  },
  {
   "cell_type": "markdown",
   "metadata": {
    "id": "Ac5G85EpBskt"
   },
   "source": [
    "\n",
    "\n",
    "1.   Compare the accuracy with exercise 4 and a basic adaboost classifier. ¿Does it improves the accuracy? \n",
    "\n",
    "\n",
    "\n"
   ]
  },
  {
   "cell_type": "code",
   "execution_count": 7,
   "metadata": {
    "colab": {
     "base_uri": "https://localhost:8080/"
    },
    "executionInfo": {
     "elapsed": 1057,
     "status": "ok",
     "timestamp": 1619689148225,
     "user": {
      "displayName": "MANUEL PORTELA CHARNEJOVSKY",
      "photoUrl": "https://lh3.googleusercontent.com/a-/AOh14Ghs17z7Dy_cu2UpbemUwyfYanGDizqgh3Ie3Qmc=s64",
      "userId": "15848882785305921424"
     },
     "user_tz": -120
    },
    "id": "37HeX_Acf7rX",
    "outputId": "586d39d0-f80c-4334-c1f6-e134171e8f2a"
   },
   "outputs": [
    {
     "name": "stdout",
     "output_type": "stream",
     "text": [
      "Accuracy: 0.9111111111111111\n"
     ]
    }
   ],
   "source": [
    "### SOLUTION ####\n"
   ]
  },
  {
   "cell_type": "markdown",
   "metadata": {
    "id": "KKwK85J1DC29"
   },
   "source": [
    "2.   AdaBoost uses Decision Tree Classifier as default Classifier. ¿Does it have the same accuracy if we have a different base classifier? \n",
    "Test the Adaboost classifier with other weak learners: Eg. SVM. \n"
   ]
  },
  {
   "cell_type": "code",
   "execution_count": 8,
   "metadata": {
    "colab": {
     "base_uri": "https://localhost:8080/"
    },
    "executionInfo": {
     "elapsed": 811,
     "status": "ok",
     "timestamp": 1619689149369,
     "user": {
      "displayName": "MANUEL PORTELA CHARNEJOVSKY",
      "photoUrl": "https://lh3.googleusercontent.com/a-/AOh14Ghs17z7Dy_cu2UpbemUwyfYanGDizqgh3Ie3Qmc=s64",
      "userId": "15848882785305921424"
     },
     "user_tz": -120
    },
    "id": "0IpqNgY4DGKs",
    "outputId": "5871d8f7-3bc3-4c95-987e-777646cc7a15"
   },
   "outputs": [
    {
     "name": "stdout",
     "output_type": "stream",
     "text": [
      "Accuracy: 0.9555555555555556\n"
     ]
    }
   ],
   "source": [
    "# Import Support Vector Classifier\n",
    "from sklearn.svm import SVC\n",
    "svc=SVC(probability=True, kernel='linear')\n",
    "\n",
    "### SOLUTION ####\n"
   ]
  },
  {
   "cell_type": "markdown",
   "metadata": {
    "id": "zEwe3gKrD7N-"
   },
   "source": [
    "3. ¿Can you compare the accuracy of these different models with a simple Decision Tree from exercise 4 ?"
   ]
  },
  {
   "cell_type": "code",
   "execution_count": 9,
   "metadata": {
    "id": "M-u74JZAEF1L"
   },
   "outputs": [],
   "source": [
    "### SOLUTION\n"
   ]
  }
 ],
 "metadata": {
  "colab": {
   "collapsed_sections": [],
   "name": "P5_Boosting.ipynb",
   "provenance": []
  },
  "kernelspec": {
   "display_name": "Python 3",
   "language": "python",
   "name": "python3"
  },
  "language_info": {
   "codemirror_mode": {
    "name": "ipython",
    "version": 3
   },
   "file_extension": ".py",
   "mimetype": "text/x-python",
   "name": "python",
   "nbconvert_exporter": "python",
   "pygments_lexer": "ipython3",
   "version": "3.6.8"
  },
  "varInspector": {
   "cols": {
    "lenName": 16,
    "lenType": 16,
    "lenVar": 40
   },
   "kernels_config": {
    "python": {
     "delete_cmd_postfix": "",
     "delete_cmd_prefix": "del ",
     "library": "var_list.py",
     "varRefreshCmd": "print(var_dic_list())"
    },
    "r": {
     "delete_cmd_postfix": ") ",
     "delete_cmd_prefix": "rm(",
     "library": "var_list.r",
     "varRefreshCmd": "cat(var_dic_list()) "
    }
   },
   "types_to_exclude": [
    "module",
    "function",
    "builtin_function_or_method",
    "instance",
    "_Feature"
   ],
   "window_display": false
  }
 },
 "nbformat": 4,
 "nbformat_minor": 1
}
