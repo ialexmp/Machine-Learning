{
 "cells": [
  {
   "cell_type": "markdown",
   "metadata": {},
   "source": [
    "# <center>MACHINE LEARNING <br> <br> Problem Session 2 <br> Gaussian models</center>"
   ]
  },
  {
   "cell_type": "markdown",
   "metadata": {},
   "source": [
    "**USEFULL PYTHON FUNCTIONS**\n",
    "- **mu = np.mean(X)** returns the mean of X taking each row as a sample, i.e., if X is a $n\\times m$ matrix, **np.mean(X)** is a $1 \\times m$ matrix.<br>\n",
    "To compute the mean along the columns (taking each column as a sample), **np.mean(X, axis = 1)**.\n",
    "<br>\n",
    "\n",
    "- **Cov = np.cov(X)** returns the covariance matrix of X considering each column as a sample.\n",
    "<br>\n",
    "\n",
    "- **X_inv = np.linalg.inv(X)** returns the inverse of a matrix X.\n",
    "<br>\n",
    "\n",
    "- **np.dot(A,B)** returns the dot product of A and B (can be matrices).\n",
    "<br>\n",
    "\n",
    "- **np.arccos(a)** returns the arccos (cos$^{-1}$) of a $\\in [-1,1]$, i.e, an angle $\\theta$ (in radians) such that cos($\\theta$) = a.\n",
    "<br>\n",
    "\n",
    "- **np.linalg.svd(A)** returns the matrices U, D, and V$^T$ such that A = UDV$^T$. <br>\n",
    "u, s, vh = np.linalg.svd(A) $\\Rightarrow$ smat = np.diag(s), A = np.dot(u, np.dot(smat, vh))\n",
    "<br>\n",
    "\n",
    "- **plt.scatter(x,y)** plots the points (as dots) whose x-coordinates is given by the array x and whose y-coordinates is given by y.\n",
    "<br>\n",
    "\n",
    "- **plt.plot(x,y)** same as plt.scatter but with lines (other options are available)."
   ]
  },
  {
   "cell_type": "code",
   "execution_count": 4,
   "metadata": {},
   "outputs": [],
   "source": [
    "################################\n",
    "# NEEDED IMPORTS AND FUNCTIONS #\n",
    "################################\n",
    "\n",
    "# LLIBRERIES\n",
    "import numpy as np\n",
    "import matplotlib.pyplot as plt"
   ]
  },
  {
   "cell_type": "markdown",
   "metadata": {},
   "source": [
    "### Exercice 7\n",
    "\n",
    "1. Write a Python function that, given a mean and a covariance (in $\\mathbb{R}^2$), returns the principal directions of the Gaussian and their variances, and plots the points at Mahalanobis distance $k$ (where $k$ is given as input).\n",
    "2. Write a Python function that, given a set of points, estimates the Gaussian model from which they are drawn and plots the points, together with several (of choice) ellipses of Mahalanobis distances and the principal directions.\n",
    "3. Write a Python function that, given a Gaussian model, i.e, $\\vec{\\mu}, \\vec{\\Sigma}$, draws $n$ samples from that distribution.\n",
    "\n",
    "TIP: Use the Numpy function np.random.multivariate\\_normal."
   ]
  },
  {
   "cell_type": "code",
   "execution_count": 5,
   "metadata": {},
   "outputs": [
    {
     "data": {
      "text/plain": [
       "(array([2., 0.]), array([[-0.70710678,  0.70710678],\n",
       "        [ 0.70710678,  0.70710678]]), array([4.85714286, 0.85714286]))"
      ]
     },
     "execution_count": 5,
     "metadata": {},
     "output_type": "execute_result"
    },
    {
     "data": {
      "image/png": "[encoded data removed]",
      "text/plain": [
       "<Figure size 432x288 with 1 Axes>"
      ]
     },
     "metadata": {
      "needs_background": "light"
     },
     "output_type": "display_data"
    }
   ],
   "source": [
    "# 1\n",
    "def PC_and_Mhd(mu,Cov,k):\n",
    "    u, s, vh = np.linalg.svd(Cov)\n",
    "\n",
    "    a = np.sqrt(s[0]) * k\n",
    "    b = np.sqrt(s[1]) * k\n",
    "    t = np.linspace(0, 2*np.pi, 200)\n",
    "    \n",
    "    newBasis = np.dot( u, np.array([a*np.cos(t),b*np.sin(t)]) )\n",
    "    plt.plot(newBasis[0,:]+mu[0],newBasis[1,:]+mu[1])\n",
    "\n",
    "    return u, s\n",
    "\n",
    "\n",
    "# 2\n",
    "def Gaussian_model(X):\n",
    "\n",
    "    mu = np.mean(X,axis = 1)\n",
    "    Cov = np.cov(X)\n",
    "\n",
    "    plt.scatter(X[0,:], X[1,:])\n",
    "    plt.axis('equal')\n",
    "    \n",
    "    u, s = PC_and_Mhd(mu,Cov,1)\n",
    "    u, s = PC_and_Mhd(mu,Cov,2)\n",
    "#     u, s = PC_and_Mhd(mu,Cov,3)\n",
    "    \n",
    "    return mu, u, s\n",
    "\n",
    "\n",
    "# 3\n",
    "def draw_samples_from_Gaussian(mu,Cov,n):\n",
    "    X = np.random.multivariate_normal(mu,Cov,n)\n",
    "    return X\n",
    "\n",
    "\n",
    "X = np.array([[0, 0, 1, 1, 3, 3, 4, 4],[2, 1, 2, -1, 1, -2, -1, -2]])\n",
    "\n",
    "Gaussian_model(X)"
   ]
  },
  {
   "cell_type": "code",
   "execution_count": null,
   "metadata": {},
   "outputs": [],
   "source": []
  }
 ],
 "metadata": {
  "kernelspec": {
   "display_name": "Python 3",
   "language": "python",
   "name": "python3"
  },
  "language_info": {
   "codemirror_mode": {
    "name": "ipython",
    "version": 3
   },
   "file_extension": ".py",
   "mimetype": "text/x-python",
   "name": "python",
   "nbconvert_exporter": "python",
   "pygments_lexer": "ipython3",
   "version": "3.7.3"
  },
  "varInspector": {
   "cols": {
    "lenName": 16,
    "lenType": 16,
    "lenVar": 40
   },
   "kernels_config": {
    "python": {
     "delete_cmd_postfix": "",
     "delete_cmd_prefix": "del ",
     "library": "var_list.py",
     "varRefreshCmd": "print(var_dic_list())"
    },
    "r": {
     "delete_cmd_postfix": ") ",
     "delete_cmd_prefix": "rm(",
     "library": "var_list.r",
     "varRefreshCmd": "cat(var_dic_list()) "
    }
   },
   "types_to_exclude": [
    "module",
    "function",
    "builtin_function_or_method",
    "instance",
    "_Feature"
   ],
   "window_display": false
  }
 },
 "nbformat": 4,
 "nbformat_minor": 2
}
