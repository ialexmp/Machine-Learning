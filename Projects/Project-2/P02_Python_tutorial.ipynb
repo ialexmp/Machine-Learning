{
 "cells": [
  {
   "cell_type": "markdown",
   "metadata": {},
   "source": [
    "# <center> Project 02: Classification </center>"
   ]
  },
  {
   "cell_type": "markdown",
   "metadata": {},
   "source": [
    "## <center> Python tutorial </center>\n",
    "\n",
    "This is a complementary tutorial with the methods and functions that you will need to use for successfully solve the project. You can use it as a knowledge base during the course together with the first tutorial and the P01 tutorial.\n",
    "\n",
    "First we will import the necessary libraries. Note that you will need to install new libraries, such as `scipy`. You can use `pip` or `conda` to install them."
   ]
  },
  {
   "cell_type": "code",
   "execution_count": 59,
   "metadata": {},
   "outputs": [],
   "source": [
    "#imports\n",
    "import pandas as pd\n",
    "import numpy as np\n",
    "import matplotlib.pyplot as plt\n",
    "from matplotlib import pyplot\n",
    "import matplotlib.cm as cm\n",
    "import seaborn as sns\n",
    "from scipy.stats import iqr\n",
    "from scipy.stats import chi2_contingency\n",
    "from sklearn.preprocessing import StandardScaler\n",
    "from sklearn.preprocessing import Normalizer\n",
    "from sklearn.preprocessing import MinMaxScaler\n",
    "from sklearn.preprocessing import LabelEncoder\n",
    "from sklearn.model_selection import train_test_split\n",
    "from sklearn.linear_model import SGDClassifier\n",
    "from sklearn.svm import SVC\n",
    "from sklearn.naive_bayes import GaussianNB\n",
    "from sklearn.model_selection import train_test_split\n",
    "from sklearn.metrics import accuracy_score, auc, roc_curve, classification_report, confusion_matrix, precision_score, recall_score, precision_recall_curve\n",
    "from sklearn.tree import DecisionTreeClassifier\n",
    "from sklearn.ensemble import RandomForestClassifier, GradientBoostingClassifier, VotingClassifier, AdaBoostClassifier \n",
    "from sklearn.model_selection import KFold\n",
    "from sklearn.model_selection import cross_val_score\n",
    "from sklearn.model_selection import StratifiedKFold"
   ]
  },
  {
   "cell_type": "markdown",
   "metadata": {},
   "source": [
    "## Filtering null values in Pandas (v2)"
   ]
  },
  {
   "cell_type": "markdown",
   "metadata": {},
   "source": [
    "In the P01 tutorials we learnt how to filter null values. However, pandas has a function `dropna()` to simply eliminate null values"
   ]
  },
  {
   "cell_type": "code",
   "execution_count": 23,
   "metadata": {},
   "outputs": [
    {
     "data": {
      "text/html": [
       "<div>\n",
       "<style scoped>\n",
       "    .dataframe tbody tr th:only-of-type {\n",
       "        vertical-align: middle;\n",
       "    }\n",
       "\n",
       "    .dataframe tbody tr th {\n",
       "        vertical-align: top;\n",
       "    }\n",
       "\n",
       "    .dataframe thead th {\n",
       "        text-align: right;\n",
       "    }\n",
       "</style>\n",
       "<table border=\"1\" class=\"dataframe\">\n",
       "  <thead>\n",
       "    <tr style=\"text-align: right;\">\n",
       "      <th></th>\n",
       "      <th>age</th>\n",
       "      <th>born</th>\n",
       "      <th>name</th>\n",
       "      <th>toy</th>\n",
       "    </tr>\n",
       "  </thead>\n",
       "  <tbody>\n",
       "    <tr>\n",
       "      <th>0</th>\n",
       "      <td>5.0</td>\n",
       "      <td>NaT</td>\n",
       "      <td>Alfred</td>\n",
       "      <td>NaN</td>\n",
       "    </tr>\n",
       "    <tr>\n",
       "      <th>1</th>\n",
       "      <td>6.0</td>\n",
       "      <td>1939-05-27</td>\n",
       "      <td>Batman</td>\n",
       "      <td>Batmobile</td>\n",
       "    </tr>\n",
       "    <tr>\n",
       "      <th>2</th>\n",
       "      <td>NaN</td>\n",
       "      <td>1940-04-25</td>\n",
       "      <td>Joker</td>\n",
       "      <td>Smile</td>\n",
       "    </tr>\n",
       "    <tr>\n",
       "      <th>3</th>\n",
       "      <td>6.0</td>\n",
       "      <td>1930-09-09</td>\n",
       "      <td>Pinocchio</td>\n",
       "      <td>Woodstick</td>\n",
       "    </tr>\n",
       "    <tr>\n",
       "      <th>4</th>\n",
       "      <td>7.0</td>\n",
       "      <td>NaT</td>\n",
       "      <td>Catwoman</td>\n",
       "      <td>Miau!</td>\n",
       "    </tr>\n",
       "  </tbody>\n",
       "</table>\n",
       "</div>"
      ],
      "text/plain": [
       "   age       born       name        toy\n",
       "0  5.0        NaT     Alfred        NaN\n",
       "1  6.0 1939-05-27     Batman  Batmobile\n",
       "2  NaN 1940-04-25      Joker      Smile\n",
       "3  6.0 1930-09-09  Pinocchio  Woodstick\n",
       "4  7.0        NaT   Catwoman      Miau!"
      ]
     },
     "execution_count": 23,
     "metadata": {},
     "output_type": "execute_result"
    }
   ],
   "source": [
    "# We create an example dataframe. note tha there are different empty values as np.nan\n",
    "df = pd.DataFrame({'age': [5, 6, np.NaN, 6, 7, 23 , 4 , 12 , 4 ,12],\n",
    "                    'born': [pd.NaT, pd.Timestamp('1939-05-27'),\n",
    "                             pd.Timestamp('1940-04-25'), pd.Timestamp('1930-09-09'), \n",
    "                             pd.NaT, pd.NaT, pd.Timestamp('1945-03-15'), pd.Timestamp('1910-10-25'),\n",
    "                            pd.Timestamp('1966-10-11'), pd.Timestamp('1923-02-12')],\n",
    "                    'name': ['Alfred', 'Batman', 'Joker','Pinocchio', 'Catwoman', 'Superman', 'Ironman',\n",
    "                             'Spider-Man', 'Aquaman', 'Science Boy'],\n",
    "                    'toy': [np.NaN, 'Batmobile', 'Smile', 'Woodstick', 'Miau!', np.NaN, 'Jarvis', 'Spider', 'Fish', 'Journal']})\n",
    "df.head()"
   ]
  },
  {
   "cell_type": "markdown",
   "metadata": {},
   "source": [
    "As you may notice, the `head()` function only returns the first five rows of a dataset. You may have a dataset of hundreds or thousands of rows. In case you want to explore the last rows, instead of the first five, you can use `tail()`."
   ]
  },
  {
   "cell_type": "code",
   "execution_count": 24,
   "metadata": {},
   "outputs": [
    {
     "data": {
      "text/html": [
       "<div>\n",
       "<style scoped>\n",
       "    .dataframe tbody tr th:only-of-type {\n",
       "        vertical-align: middle;\n",
       "    }\n",
       "\n",
       "    .dataframe tbody tr th {\n",
       "        vertical-align: top;\n",
       "    }\n",
       "\n",
       "    .dataframe thead th {\n",
       "        text-align: right;\n",
       "    }\n",
       "</style>\n",
       "<table border=\"1\" class=\"dataframe\">\n",
       "  <thead>\n",
       "    <tr style=\"text-align: right;\">\n",
       "      <th></th>\n",
       "      <th>age</th>\n",
       "      <th>born</th>\n",
       "      <th>name</th>\n",
       "      <th>toy</th>\n",
       "    </tr>\n",
       "  </thead>\n",
       "  <tbody>\n",
       "    <tr>\n",
       "      <th>5</th>\n",
       "      <td>23.0</td>\n",
       "      <td>NaT</td>\n",
       "      <td>Superman</td>\n",
       "      <td>NaN</td>\n",
       "    </tr>\n",
       "    <tr>\n",
       "      <th>6</th>\n",
       "      <td>4.0</td>\n",
       "      <td>1945-03-15</td>\n",
       "      <td>Ironman</td>\n",
       "      <td>Jarvis</td>\n",
       "    </tr>\n",
       "    <tr>\n",
       "      <th>7</th>\n",
       "      <td>12.0</td>\n",
       "      <td>1910-10-25</td>\n",
       "      <td>Spider-Man</td>\n",
       "      <td>Spider</td>\n",
       "    </tr>\n",
       "    <tr>\n",
       "      <th>8</th>\n",
       "      <td>4.0</td>\n",
       "      <td>1966-10-11</td>\n",
       "      <td>Aquaman</td>\n",
       "      <td>Fish</td>\n",
       "    </tr>\n",
       "    <tr>\n",
       "      <th>9</th>\n",
       "      <td>12.0</td>\n",
       "      <td>1923-02-12</td>\n",
       "      <td>Science Boy</td>\n",
       "      <td>Journal</td>\n",
       "    </tr>\n",
       "  </tbody>\n",
       "</table>\n",
       "</div>"
      ],
      "text/plain": [
       "    age       born         name      toy\n",
       "5  23.0        NaT     Superman      NaN\n",
       "6   4.0 1945-03-15      Ironman   Jarvis\n",
       "7  12.0 1910-10-25   Spider-Man   Spider\n",
       "8   4.0 1966-10-11      Aquaman     Fish\n",
       "9  12.0 1923-02-12  Science Boy  Journal"
      ]
     },
     "execution_count": 24,
     "metadata": {},
     "output_type": "execute_result"
    }
   ],
   "source": [
    "df.tail()"
   ]
  },
  {
   "cell_type": "markdown",
   "metadata": {},
   "source": [
    "Now, let's proceed to delete the null values"
   ]
  },
  {
   "cell_type": "code",
   "execution_count": 25,
   "metadata": {},
   "outputs": [
    {
     "data": {
      "text/html": [
       "<div>\n",
       "<style scoped>\n",
       "    .dataframe tbody tr th:only-of-type {\n",
       "        vertical-align: middle;\n",
       "    }\n",
       "\n",
       "    .dataframe tbody tr th {\n",
       "        vertical-align: top;\n",
       "    }\n",
       "\n",
       "    .dataframe thead th {\n",
       "        text-align: right;\n",
       "    }\n",
       "</style>\n",
       "<table border=\"1\" class=\"dataframe\">\n",
       "  <thead>\n",
       "    <tr style=\"text-align: right;\">\n",
       "      <th></th>\n",
       "      <th>age</th>\n",
       "      <th>born</th>\n",
       "      <th>name</th>\n",
       "      <th>toy</th>\n",
       "    </tr>\n",
       "  </thead>\n",
       "  <tbody>\n",
       "    <tr>\n",
       "      <th>1</th>\n",
       "      <td>6.0</td>\n",
       "      <td>1939-05-27</td>\n",
       "      <td>Batman</td>\n",
       "      <td>Batmobile</td>\n",
       "    </tr>\n",
       "    <tr>\n",
       "      <th>3</th>\n",
       "      <td>6.0</td>\n",
       "      <td>1930-09-09</td>\n",
       "      <td>Pinocchio</td>\n",
       "      <td>Woodstick</td>\n",
       "    </tr>\n",
       "    <tr>\n",
       "      <th>6</th>\n",
       "      <td>4.0</td>\n",
       "      <td>1945-03-15</td>\n",
       "      <td>Ironman</td>\n",
       "      <td>Jarvis</td>\n",
       "    </tr>\n",
       "    <tr>\n",
       "      <th>7</th>\n",
       "      <td>12.0</td>\n",
       "      <td>1910-10-25</td>\n",
       "      <td>Spider-Man</td>\n",
       "      <td>Spider</td>\n",
       "    </tr>\n",
       "    <tr>\n",
       "      <th>8</th>\n",
       "      <td>4.0</td>\n",
       "      <td>1966-10-11</td>\n",
       "      <td>Aquaman</td>\n",
       "      <td>Fish</td>\n",
       "    </tr>\n",
       "    <tr>\n",
       "      <th>9</th>\n",
       "      <td>12.0</td>\n",
       "      <td>1923-02-12</td>\n",
       "      <td>Science Boy</td>\n",
       "      <td>Journal</td>\n",
       "    </tr>\n",
       "  </tbody>\n",
       "</table>\n",
       "</div>"
      ],
      "text/plain": [
       "    age       born         name        toy\n",
       "1   6.0 1939-05-27       Batman  Batmobile\n",
       "3   6.0 1930-09-09    Pinocchio  Woodstick\n",
       "6   4.0 1945-03-15      Ironman     Jarvis\n",
       "7  12.0 1910-10-25   Spider-Man     Spider\n",
       "8   4.0 1966-10-11      Aquaman       Fish\n",
       "9  12.0 1923-02-12  Science Boy    Journal"
      ]
     },
     "execution_count": 25,
     "metadata": {},
     "output_type": "execute_result"
    }
   ],
   "source": [
    "df.dropna() "
   ]
  },
  {
   "cell_type": "markdown",
   "metadata": {},
   "source": [
    "By default, `dropna()` eliminates all the rows that has empty values. However, if you want to eliminate columns instead of rows, you can use the `axis` parameter. "
   ]
  },
  {
   "cell_type": "code",
   "execution_count": 26,
   "metadata": {},
   "outputs": [
    {
     "data": {
      "text/html": [
       "<div>\n",
       "<style scoped>\n",
       "    .dataframe tbody tr th:only-of-type {\n",
       "        vertical-align: middle;\n",
       "    }\n",
       "\n",
       "    .dataframe tbody tr th {\n",
       "        vertical-align: top;\n",
       "    }\n",
       "\n",
       "    .dataframe thead th {\n",
       "        text-align: right;\n",
       "    }\n",
       "</style>\n",
       "<table border=\"1\" class=\"dataframe\">\n",
       "  <thead>\n",
       "    <tr style=\"text-align: right;\">\n",
       "      <th></th>\n",
       "      <th>name</th>\n",
       "    </tr>\n",
       "  </thead>\n",
       "  <tbody>\n",
       "    <tr>\n",
       "      <th>0</th>\n",
       "      <td>Alfred</td>\n",
       "    </tr>\n",
       "    <tr>\n",
       "      <th>1</th>\n",
       "      <td>Batman</td>\n",
       "    </tr>\n",
       "    <tr>\n",
       "      <th>2</th>\n",
       "      <td>Joker</td>\n",
       "    </tr>\n",
       "    <tr>\n",
       "      <th>3</th>\n",
       "      <td>Pinocchio</td>\n",
       "    </tr>\n",
       "    <tr>\n",
       "      <th>4</th>\n",
       "      <td>Catwoman</td>\n",
       "    </tr>\n",
       "    <tr>\n",
       "      <th>5</th>\n",
       "      <td>Superman</td>\n",
       "    </tr>\n",
       "    <tr>\n",
       "      <th>6</th>\n",
       "      <td>Ironman</td>\n",
       "    </tr>\n",
       "    <tr>\n",
       "      <th>7</th>\n",
       "      <td>Spider-Man</td>\n",
       "    </tr>\n",
       "    <tr>\n",
       "      <th>8</th>\n",
       "      <td>Aquaman</td>\n",
       "    </tr>\n",
       "    <tr>\n",
       "      <th>9</th>\n",
       "      <td>Science Boy</td>\n",
       "    </tr>\n",
       "  </tbody>\n",
       "</table>\n",
       "</div>"
      ],
      "text/plain": [
       "          name\n",
       "0       Alfred\n",
       "1       Batman\n",
       "2        Joker\n",
       "3    Pinocchio\n",
       "4     Catwoman\n",
       "5     Superman\n",
       "6      Ironman\n",
       "7   Spider-Man\n",
       "8      Aquaman\n",
       "9  Science Boy"
      ]
     },
     "execution_count": 26,
     "metadata": {},
     "output_type": "execute_result"
    }
   ],
   "source": [
    "# Notice that after using the function, `df` remains the same, \n",
    "# so if you want to save the values you have to create o re-use a variable. \n",
    "\n",
    "df.dropna(axis=1)"
   ]
  },
  {
   "cell_type": "markdown",
   "metadata": {},
   "source": [
    "Additionally, you can set if the rows or columns are eliminated only when all the values matches NaN or only some of them, by using the `how` parameter. You can see more about how to use it in the documentation for [dropna()](https://pandas.pydata.org/pandas-docs/stable/reference/api/pandas.DataFrame.dropna.html)."
   ]
  },
  {
   "cell_type": "code",
   "execution_count": 27,
   "metadata": {},
   "outputs": [],
   "source": [
    "del df"
   ]
  },
  {
   "cell_type": "markdown",
   "metadata": {},
   "source": [
    "## Counting lengths "
   ]
  },
  {
   "cell_type": "markdown",
   "metadata": {},
   "source": [
    "If you have groups, Series or an Index from a DataFrame, you can count how many values you have inside by using `value_counts()`."
   ]
  },
  {
   "cell_type": "code",
   "execution_count": 13,
   "metadata": {},
   "outputs": [
    {
     "data": {
      "text/plain": [
       "3.0    2\n",
       "4.0    1\n",
       "2.0    1\n",
       "1.0    1\n",
       "dtype: int64"
      ]
     },
     "execution_count": 13,
     "metadata": {},
     "output_type": "execute_result"
    }
   ],
   "source": [
    "index = pd.Index([3, 1, 2, 3, 4, np.nan])\n",
    "index.value_counts()"
   ]
  },
  {
   "cell_type": "markdown",
   "metadata": {},
   "source": [
    "By default `value_counts()` does not include NaN values, so you can use a parameter to include them."
   ]
  },
  {
   "cell_type": "code",
   "execution_count": 14,
   "metadata": {},
   "outputs": [
    {
     "data": {
      "text/plain": [
       "3.0    2\n",
       "NaN    1\n",
       "4.0    1\n",
       "2.0    1\n",
       "1.0    1\n",
       "dtype: int64"
      ]
     },
     "execution_count": 14,
     "metadata": {},
     "output_type": "execute_result"
    }
   ],
   "source": [
    "index.value_counts(dropna=False)"
   ]
  },
  {
   "cell_type": "code",
   "execution_count": 15,
   "metadata": {},
   "outputs": [],
   "source": [
    "del index"
   ]
  },
  {
   "cell_type": "markdown",
   "metadata": {},
   "source": [
    "## Creating a boxplot\n",
    "\n",
    "We used `matplotlib` to plot different kind of graphics. A boxplot is really useful when you want to visualize the standard deviation and to spot outliers in a dataset. "
   ]
  },
  {
   "cell_type": "code",
   "execution_count": 165,
   "metadata": {},
   "outputs": [
    {
     "data": {
      "text/plain": [
       "(array([113.31586504, 107.15278974,  84.54599708,  99.9161615 ,\n",
       "        106.21335974,  92.79914439, 102.65511586, 101.08548526,\n",
       "        100.04291431,  98.25399789, 104.3302619 , 112.03037374,\n",
       "         90.34934329, 110.28274078, 102.2863013 , 104.45137613,\n",
       "         88.63397788, 101.35136878, 114.84537002,  89.20195114,\n",
       "         80.22271719,  82.56627704, 102.66070164, 123.84967331,\n",
       "        111.23691253, 116.72622213, 100.99149216, 113.97996377,\n",
       "         97.28752012, 106.13204185,  97.32682811,  94.50690986,\n",
       "        101.32708296,  95.23857985, 113.08473081, 101.95013279,\n",
       "        104.00209988,  96.62367663, 112.56472264,  92.68030498,\n",
       "        106.60231551,  96.49128109,  90.6056664 ,  95.10662783,\n",
       "         91.95408858,  97.87302361,  96.60859754, 103.12169936,\n",
       "        105.6515267 ,  98.52579742,  99.74094663, 102.89094204,\n",
       "         94.60120929, 107.0816002 , 108.42224738, 102.03580797,\n",
       "        123.94703665, 109.17458938,  98.87727529,  96.37819553,\n",
       "         97.67817744,  94.982711  , 111.28785153,  93.0218997 ,\n",
       "         99.18877816,  94.70703919, 110.46182857,  85.81443971,\n",
       "         96.37500817,  98.78094309, 103.19356421, 104.60902902,\n",
       "         97.84210108, 109.89072457, 103.14753779, 124.67651056,\n",
       "         84.91678513, 106.20600663,  89.54867462,  92.01991182,\n",
       "        119.85084591, 117.44814148,  81.43814519,  97.77226301,\n",
       "         99.34152152,  78.68287892,  99.51169489, 103.93341217,\n",
       "        102.17265145,  80.0560623 , 111.07708235, 102.44543977,\n",
       "         99.38087971,  92.46107039, 107.11959017, 109.18269151,\n",
       "         95.17906861, 100.89587613, 108.26998623,  80.4548788 ,\n",
       "        101.17475661,  80.92543112,  90.77090735, 104.69751434,\n",
       "         98.55633237,  95.99861648,  97.04016147, 108.48208609,\n",
       "        107.06830455,  92.12731074, 102.92940725,  95.29192749,\n",
       "        124.04325606,  92.60643261,  96.87171243,  96.51118082,\n",
       "         95.60973764, 101.41104168, 102.7304932 ,  83.81429252,\n",
       "         94.26886638,  86.79552454, 112.36205326, 124.65325082,\n",
       "        113.8323223 , 103.46233115, 110.22516107, 101.66810267,\n",
       "        116.56716624, 106.67889609,  97.70053356,  88.70448806,\n",
       "         93.60037396, 103.13830522,  87.74164019,  97.78206864,\n",
       "        113.3992631 , 100.29309711, 119.85385746, 114.47165601,\n",
       "         97.12370586,  86.40689427,  99.51958675,  95.1921266 ,\n",
       "        103.77753086, 116.14407974,  88.76895965,  96.11272053,\n",
       "        103.3234995 , 111.34973173, 105.10714411, 104.14297641,\n",
       "        113.44549423, 104.93515317,  97.62995815, 100.5728515 ,\n",
       "         92.92928553, 105.46664838, 109.42500409,  70.20403229,\n",
       "        112.1814885 ,  99.43479277, 104.60888452, 106.62374012,\n",
       "         77.04896671,  88.04070689,  96.66898838,  92.08609229,\n",
       "        102.74172781,  94.85090078,  82.88928803, 106.12297312,\n",
       "        111.00129374, 105.64352526,  92.87200563,  97.39140521,\n",
       "        105.48428066, 106.0319905 , 110.06861139,  97.05573993,\n",
       "         85.79119485,  93.21053225, 105.33884809, 107.43974404,\n",
       "        122.25049639, 101.1718142 , 102.4461452 ,  98.22701177,\n",
       "         95.94270472, 107.8177519 , 103.53477614,  97.92720514,\n",
       "         89.20302616,  98.76930171,  96.09017815, 112.55173732,\n",
       "        109.47126078,  89.77689308, 111.67168368,  94.28023187]),\n",
       " array([ 83.99412491, 116.08231622,  49.25741099,  84.81197489,\n",
       "         46.08574139,  21.76100957, 109.59793451,  80.84682102,\n",
       "         55.32897207,  32.40344717,  67.95581542, 120.26537853,\n",
       "         92.0740728 ,  68.81715751,  59.83929691,  83.17436248,\n",
       "         33.58083827, 120.34419532,  95.09567545, 115.83051807,\n",
       "         63.09482986, 105.64486269, 100.63714177,  34.00793845,\n",
       "         84.46882103,  89.45333505,  62.75247008,  69.19486597,\n",
       "         93.0855589 ,  78.86246354,  49.85850942,  97.7435926 ,\n",
       "         86.83452092,  87.47535974,  82.8728971 ,  93.47065192,\n",
       "         71.41993977,  54.11725102,  57.74525484, 113.16725408,\n",
       "         19.46844042,  96.21622139,  36.73103352,  31.73448911,\n",
       "         49.80294315,  72.27399126, 101.91522341,  29.04795527,\n",
       "        130.22226637, 114.91171101,  76.02279222,  71.29262574,\n",
       "         51.39402747,  97.64121781,  82.06404412, 122.36192913,\n",
       "         59.41353155,  96.43831781,  78.90852387,  54.58951241,\n",
       "        137.06912125,  88.38816177,  98.60763505,  47.94296875,\n",
       "         58.32137799,  82.52418666,  62.4663453 ,  98.06066812,\n",
       "         93.15095718,  56.52970417,  85.78807953,  80.12074736,\n",
       "         75.07774128,  45.53563207,  54.93474488,  86.31352185,\n",
       "        110.41953892,  50.89406531, 116.51544677,  85.47942136,\n",
       "         41.90541225,  89.70169789, 106.57324573,  87.93184075,\n",
       "        149.57381953,  89.2600302 , 106.77692095,  80.3306809 ,\n",
       "        109.40222384,   8.1328396 ,  54.27432455,  69.07165741,\n",
       "         95.11780704,  85.64993644, 112.55681221,  90.70817201,\n",
       "         86.21988702,  75.64806388,  84.91712758, 104.88537453,\n",
       "        102.65899874, 106.38457072,  72.80131104,  59.14830064,\n",
       "         65.85799751,  90.48429226, 128.34371882,  87.18017799,\n",
       "         94.55007884,  30.2418588 , 160.39730924,  46.89433606,\n",
       "        134.53347826,  63.31857975, 108.73133719, 104.45662044,\n",
       "         81.92958199,  75.00783885,  51.77870675,  78.39216495,\n",
       "        113.03408609,  91.16367636,  53.49617039, 114.74154715,\n",
       "         43.89039525,  86.29517426,  53.26439234,  56.51936759,\n",
       "        112.39192033,  66.11477343,  34.54772962,  63.83844405,\n",
       "        102.69865573,  58.11802333, 116.4434795 , 110.248489  ,\n",
       "         82.19849027, 115.2119724 , 135.88855002,  20.49090507,\n",
       "        114.7006679 ,  98.27846799,  70.30396303,  99.92436821,\n",
       "         91.90177979,  62.71649417, 124.64655176,  84.207406  ,\n",
       "        115.64950262,  72.62763837,  30.93240146,  87.34394266,\n",
       "         72.94753311,  42.17516583,  29.24096214,  98.49352767,\n",
       "        118.09073845, 121.9201393 ,  96.02674887,  80.12306116,\n",
       "         85.68259527,  81.34324056, 103.84055823,  65.20577776,\n",
       "         42.15230783,  73.42219208,  85.91816672,  72.34158638,\n",
       "         80.77422775, 146.02899313, 106.5310281 ,  38.39532396,\n",
       "         99.60986943,  14.70174096,  98.56846773,  94.31702909,\n",
       "         80.78289584,  50.90882982,  50.48815628,  92.37598147,\n",
       "         61.57085461, 105.11245326,  61.29142975,  69.10441396,\n",
       "        102.78413993,  78.98219001,  75.00797922,  88.0871727 ,\n",
       "         91.25916653,  77.48254267,  86.78379048,  76.52357808,\n",
       "         92.34807236,  88.63431303,  95.12814431, 104.12802073,\n",
       "         49.08175361,  39.2690732 ,  72.00494405,  74.86121607]))"
      ]
     },
     "execution_count": 165,
     "metadata": {},
     "output_type": "execute_result"
    }
   ],
   "source": [
    "#First, create new datasets\n",
    "np.random.seed(10)\n",
    "c1 = np.random.normal(100, 10, 200)\n",
    "c2 = np.random.normal(80, 30, 200)\n",
    "c1, c2"
   ]
  },
  {
   "cell_type": "code",
   "execution_count": 166,
   "metadata": {},
   "outputs": [
    {
     "data": {
      "image/png": "[encoded data removed]",
      "text/plain": [
       "<Figure size 432x288 with 1 Axes>"
      ]
     },
     "metadata": {
      "needs_background": "light"
     },
     "output_type": "display_data"
    },
    {
     "data": {
      "image/png": "[encoded data removed]",
      "text/plain": [
       "<Figure size 432x288 with 1 Axes>"
      ]
     },
     "metadata": {
      "needs_background": "light"
     },
     "output_type": "display_data"
    }
   ],
   "source": [
    "fig1, ax1 = pyplot.subplots()\n",
    "ax1.boxplot(c1)\n",
    "\n",
    "fig2, ax2 = pyplot.subplots()\n",
    "ax2.boxplot(c2)\n",
    "pyplot.show()"
   ]
  },
  {
   "cell_type": "markdown",
   "metadata": {},
   "source": [
    "## Label encoding"
   ]
  },
  {
   "cell_type": "markdown",
   "metadata": {},
   "source": [
    "The [label_encoder](https://scikit-learn.org/stable/modules/generated/sklearn.preprocessing.LabelEncoder.html) function allows to prepare the data for training. Encode target labels with value between 0 and n_classes-1. \n",
    "\n",
    "LabelEncoder can be used to normalize labels. And can also be used to transform non-numerical labels (as long as they are hashable and comparable) to numerical labels."
   ]
  },
  {
   "cell_type": "code",
   "execution_count": 198,
   "metadata": {},
   "outputs": [
    {
     "data": {
      "text/html": [
       "<div>\n",
       "<style scoped>\n",
       "    .dataframe tbody tr th:only-of-type {\n",
       "        vertical-align: middle;\n",
       "    }\n",
       "\n",
       "    .dataframe tbody tr th {\n",
       "        vertical-align: top;\n",
       "    }\n",
       "\n",
       "    .dataframe thead th {\n",
       "        text-align: right;\n",
       "    }\n",
       "</style>\n",
       "<table border=\"1\" class=\"dataframe\">\n",
       "  <thead>\n",
       "    <tr style=\"text-align: right;\">\n",
       "      <th></th>\n",
       "      <th>survived</th>\n",
       "      <th>pclass</th>\n",
       "      <th>sex</th>\n",
       "      <th>age</th>\n",
       "      <th>sibsp</th>\n",
       "      <th>parch</th>\n",
       "      <th>fare</th>\n",
       "      <th>embarked</th>\n",
       "      <th>class</th>\n",
       "      <th>who</th>\n",
       "      <th>adult_male</th>\n",
       "      <th>deck</th>\n",
       "      <th>embark_town</th>\n",
       "      <th>alive</th>\n",
       "      <th>alone</th>\n",
       "    </tr>\n",
       "  </thead>\n",
       "  <tbody>\n",
       "    <tr>\n",
       "      <th>0</th>\n",
       "      <td>0</td>\n",
       "      <td>3</td>\n",
       "      <td>male</td>\n",
       "      <td>22.0</td>\n",
       "      <td>1</td>\n",
       "      <td>0</td>\n",
       "      <td>7.2500</td>\n",
       "      <td>S</td>\n",
       "      <td>Third</td>\n",
       "      <td>man</td>\n",
       "      <td>True</td>\n",
       "      <td>NaN</td>\n",
       "      <td>Southampton</td>\n",
       "      <td>no</td>\n",
       "      <td>False</td>\n",
       "    </tr>\n",
       "    <tr>\n",
       "      <th>1</th>\n",
       "      <td>1</td>\n",
       "      <td>1</td>\n",
       "      <td>female</td>\n",
       "      <td>38.0</td>\n",
       "      <td>1</td>\n",
       "      <td>0</td>\n",
       "      <td>71.2833</td>\n",
       "      <td>C</td>\n",
       "      <td>First</td>\n",
       "      <td>woman</td>\n",
       "      <td>False</td>\n",
       "      <td>C</td>\n",
       "      <td>Cherbourg</td>\n",
       "      <td>yes</td>\n",
       "      <td>False</td>\n",
       "    </tr>\n",
       "    <tr>\n",
       "      <th>2</th>\n",
       "      <td>1</td>\n",
       "      <td>3</td>\n",
       "      <td>female</td>\n",
       "      <td>26.0</td>\n",
       "      <td>0</td>\n",
       "      <td>0</td>\n",
       "      <td>7.9250</td>\n",
       "      <td>S</td>\n",
       "      <td>Third</td>\n",
       "      <td>woman</td>\n",
       "      <td>False</td>\n",
       "      <td>NaN</td>\n",
       "      <td>Southampton</td>\n",
       "      <td>yes</td>\n",
       "      <td>True</td>\n",
       "    </tr>\n",
       "  </tbody>\n",
       "</table>\n",
       "</div>"
      ],
      "text/plain": [
       "   survived  pclass     sex   age  sibsp  parch     fare embarked  class  \\\n",
       "0         0       3    male  22.0      1      0   7.2500        S  Third   \n",
       "1         1       1  female  38.0      1      0  71.2833        C  First   \n",
       "2         1       3  female  26.0      0      0   7.9250        S  Third   \n",
       "\n",
       "     who  adult_male deck  embark_town alive  alone  \n",
       "0    man        True  NaN  Southampton    no  False  \n",
       "1  woman       False    C    Cherbourg   yes  False  \n",
       "2  woman       False  NaN  Southampton   yes   True  "
      ]
     },
     "execution_count": 198,
     "metadata": {},
     "output_type": "execute_result"
    }
   ],
   "source": [
    "# Importing a dataFrame to play with\n",
    "titanic = sns.load_dataset(\"titanic\")\n",
    "titanic.head(3)"
   ]
  },
  {
   "cell_type": "code",
   "execution_count": 178,
   "metadata": {},
   "outputs": [
    {
     "data": {
      "text/plain": [
       "array(['Southampton', 'Cherbourg', 'Queenstown', nan], dtype=object)"
      ]
     },
     "execution_count": 178,
     "metadata": {},
     "output_type": "execute_result"
    }
   ],
   "source": [
    "# We will use the age as an example,\n",
    "# let's see the unique values\n",
    "titanic.embark_town.unique()"
   ]
  },
  {
   "cell_type": "code",
   "execution_count": 179,
   "metadata": {},
   "outputs": [],
   "source": [
    "# let's delet the empty values\n",
    "t = titanic.embark_town.dropna()"
   ]
  },
  {
   "cell_type": "code",
   "execution_count": 180,
   "metadata": {},
   "outputs": [
    {
     "data": {
      "text/plain": [
       "array(['Cherbourg', 'Queenstown', 'Southampton'], dtype=object)"
      ]
     },
     "execution_count": 180,
     "metadata": {},
     "output_type": "execute_result"
    }
   ],
   "source": [
    "le = LabelEncoder()\n",
    "le.fit_transform(t)\n",
    "le.classes_ # The method classes_ holds the label for each class."
   ]
  },
  {
   "cell_type": "markdown",
   "metadata": {},
   "source": [
    "Like other preprocessing methods, you can use `fit` and `transform` functions separately. "
   ]
  },
  {
   "cell_type": "markdown",
   "metadata": {},
   "source": [
    "## Splitting the dataset"
   ]
  },
  {
   "cell_type": "markdown",
   "metadata": {},
   "source": [
    "Once you have your dataset clean and your labels are correctly encoded, you can split your dataset into different groups in order to test the result of the training. The [train_test_split](https://scikit-learn.org/stable/modules/generated/sklearn.model_selection.train_test_split.html#sklearn.model_selection.train_test_split) function split arrays or matrices into random train and test subsets."
   ]
  },
  {
   "cell_type": "code",
   "execution_count": 216,
   "metadata": {},
   "outputs": [
    {
     "data": {
      "text/html": [
       "<div>\n",
       "<style scoped>\n",
       "    .dataframe tbody tr th:only-of-type {\n",
       "        vertical-align: middle;\n",
       "    }\n",
       "\n",
       "    .dataframe tbody tr th {\n",
       "        vertical-align: top;\n",
       "    }\n",
       "\n",
       "    .dataframe thead th {\n",
       "        text-align: right;\n",
       "    }\n",
       "</style>\n",
       "<table border=\"1\" class=\"dataframe\">\n",
       "  <thead>\n",
       "    <tr style=\"text-align: right;\">\n",
       "      <th></th>\n",
       "      <th>survived</th>\n",
       "      <th>pclass</th>\n",
       "      <th>age</th>\n",
       "      <th>fare</th>\n",
       "    </tr>\n",
       "  </thead>\n",
       "  <tbody>\n",
       "    <tr>\n",
       "      <th>0</th>\n",
       "      <td>0</td>\n",
       "      <td>3</td>\n",
       "      <td>22.0</td>\n",
       "      <td>7.2500</td>\n",
       "    </tr>\n",
       "    <tr>\n",
       "      <th>1</th>\n",
       "      <td>1</td>\n",
       "      <td>1</td>\n",
       "      <td>38.0</td>\n",
       "      <td>71.2833</td>\n",
       "    </tr>\n",
       "    <tr>\n",
       "      <th>2</th>\n",
       "      <td>1</td>\n",
       "      <td>3</td>\n",
       "      <td>26.0</td>\n",
       "      <td>7.9250</td>\n",
       "    </tr>\n",
       "    <tr>\n",
       "      <th>3</th>\n",
       "      <td>1</td>\n",
       "      <td>1</td>\n",
       "      <td>35.0</td>\n",
       "      <td>53.1000</td>\n",
       "    </tr>\n",
       "    <tr>\n",
       "      <th>4</th>\n",
       "      <td>0</td>\n",
       "      <td>3</td>\n",
       "      <td>35.0</td>\n",
       "      <td>8.0500</td>\n",
       "    </tr>\n",
       "    <tr>\n",
       "      <th>...</th>\n",
       "      <td>...</td>\n",
       "      <td>...</td>\n",
       "      <td>...</td>\n",
       "      <td>...</td>\n",
       "    </tr>\n",
       "    <tr>\n",
       "      <th>885</th>\n",
       "      <td>0</td>\n",
       "      <td>3</td>\n",
       "      <td>39.0</td>\n",
       "      <td>29.1250</td>\n",
       "    </tr>\n",
       "    <tr>\n",
       "      <th>886</th>\n",
       "      <td>0</td>\n",
       "      <td>2</td>\n",
       "      <td>27.0</td>\n",
       "      <td>13.0000</td>\n",
       "    </tr>\n",
       "    <tr>\n",
       "      <th>887</th>\n",
       "      <td>1</td>\n",
       "      <td>1</td>\n",
       "      <td>19.0</td>\n",
       "      <td>30.0000</td>\n",
       "    </tr>\n",
       "    <tr>\n",
       "      <th>889</th>\n",
       "      <td>1</td>\n",
       "      <td>1</td>\n",
       "      <td>26.0</td>\n",
       "      <td>30.0000</td>\n",
       "    </tr>\n",
       "    <tr>\n",
       "      <th>890</th>\n",
       "      <td>0</td>\n",
       "      <td>3</td>\n",
       "      <td>32.0</td>\n",
       "      <td>7.7500</td>\n",
       "    </tr>\n",
       "  </tbody>\n",
       "</table>\n",
       "<p>714 rows × 4 columns</p>\n",
       "</div>"
      ],
      "text/plain": [
       "     survived  pclass   age     fare\n",
       "0           0       3  22.0   7.2500\n",
       "1           1       1  38.0  71.2833\n",
       "2           1       3  26.0   7.9250\n",
       "3           1       1  35.0  53.1000\n",
       "4           0       3  35.0   8.0500\n",
       "..        ...     ...   ...      ...\n",
       "885         0       3  39.0  29.1250\n",
       "886         0       2  27.0  13.0000\n",
       "887         1       1  19.0  30.0000\n",
       "889         1       1  26.0  30.0000\n",
       "890         0       3  32.0   7.7500\n",
       "\n",
       "[714 rows x 4 columns]"
      ]
     },
     "execution_count": 216,
     "metadata": {},
     "output_type": "execute_result"
    }
   ],
   "source": [
    "# Here we will use the column survived from the titanic dataset to do a binary classification.\n",
    "# From the dataset, we will only select the numerical varibles to simplify the example.\n",
    "cols = ['survived', 'pclass', 'age', 'fare']\n",
    "t = titanic[cols].dropna()"
   ]
  },
  {
   "cell_type": "code",
   "execution_count": 218,
   "metadata": {},
   "outputs": [
    {
     "data": {
      "text/plain": [
       "571"
      ]
     },
     "execution_count": 218,
     "metadata": {},
     "output_type": "execute_result"
    }
   ],
   "source": [
    "xTrain, xTest, yTrain, yTest = train_test_split(t, t['survived'], test_size = 0.2, random_state = 0)\n",
    "# You can specify the test_size and the train_size as fractions (from 0.0 to 1.0)\n",
    "# The random_state receives an int that will act as the seed for the random number generator during the split\n",
    "len(yTrain) #You can check how many elements are in each group"
   ]
  },
  {
   "cell_type": "markdown",
   "metadata": {},
   "source": [
    "You can visualize the balance of the split by generating an histogram with `hist()`."
   ]
  },
  {
   "cell_type": "code",
   "execution_count": 219,
   "metadata": {},
   "outputs": [
    {
     "data": {
      "text/plain": [
       "(array([345.,   0.,   0.,   0.,   0.,   0.,   0.,   0.,   0., 226.]),\n",
       " array([0. , 0.1, 0.2, 0.3, 0.4, 0.5, 0.6, 0.7, 0.8, 0.9, 1. ]),\n",
       " <a list of 10 Patch objects>)"
      ]
     },
     "execution_count": 219,
     "metadata": {},
     "output_type": "execute_result"
    },
    {
     "data": {
      "image/png": "[encoded data removed]",
      "text/plain": [
       "<Figure size 432x288 with 1 Axes>"
      ]
     },
     "metadata": {
      "needs_background": "light"
     },
     "output_type": "display_data"
    }
   ],
   "source": [
    "plt.hist(yTrain)"
   ]
  },
  {
   "cell_type": "markdown",
   "metadata": {},
   "source": [
    "## Using Classifiers"
   ]
  },
  {
   "cell_type": "markdown",
   "metadata": {},
   "source": [
    "In the P01 you will need to use different classifiers from the `sklearn` package. We will show you how to use them. As you will see the way that they are used are very similar between them. You have a comparison of classifiers in the [Sklearn documentation](https://scikit-learn.org/stable/auto_examples/classification/plot_classifier_comparison.html). \n"
   ]
  },
  {
   "cell_type": "code",
   "execution_count": 233,
   "metadata": {},
   "outputs": [
    {
     "name": "stdout",
     "output_type": "stream",
     "text": [
      "SVC Accuracy: 0.6573426573426573\n",
      "DT Accuracy: 1.0\n",
      "NB Accuracy: 1.0\n"
     ]
    }
   ],
   "source": [
    "#### --- Support Vector Classification ==> SVC()\n",
    "model_SVC = SVC() #Create the model based SVC and kernel by defaul is \"rbf\"\n",
    "model_SVC.fit(xTrain, yTrain) #Train the model with the training samples: X_train and y_train\n",
    "y_pred_SVC=model_SVC.predict(xTest) #Test the trained model with test samples\n",
    "result_SVC=model_SVC.score(xTest, yTest) #Print the score of the trained model\n",
    "print(\"SVC Accuracy:\", result_SVC)\n",
    "\n",
    "#### --- Decission Tree Classifier ==> DecisionTreeClassifier()\n",
    "model_DT = DecisionTreeClassifier()\n",
    "model_DT.fit(xTrain, yTrain)\n",
    "y_pred_DT=model_DT.predict(xTest)\n",
    "result_DT=model_DT.score(xTest, yTest)\n",
    "print(\"DT Accuracy:\", result_DT)\n",
    "\n",
    "#### --- Gaussian Naive Bayes ==>\n",
    "model_NB = GaussianNB()\n",
    "model_NB.fit(xTrain, yTrain)\n",
    "y_pred_NB=model_NB.predict(xTest)\n",
    "result_NB=model_NB.score(xTest, yTest)\n",
    "print(\"NB Accuracy:\", result_NB)"
   ]
  },
  {
   "cell_type": "markdown",
   "metadata": {},
   "source": [
    "## Sklearn Metrics"
   ]
  },
  {
   "cell_type": "markdown",
   "metadata": {},
   "source": [
    "Apart from the accuracy score from each classifier, we have different tools to evaluate them. As you will see at the P02, accuracy is not the only metrics that matters in Machine Learning.\n",
    "\n",
    "In this example we will use only the SVM example, but you can try the metrics with the other classification methods to compare them."
   ]
  },
  {
   "cell_type": "markdown",
   "metadata": {},
   "source": [
    "### Confusion Matrix"
   ]
  },
  {
   "cell_type": "markdown",
   "metadata": {},
   "source": [
    "The first of the two metrics that we will use for analyse classification methods is the [confusion matrix](https://scikit-learn.org/stable/modules/generated/sklearn.metrics.confusion_matrix.html). \n",
    "It is used for evaluating the accuracy of the classification. In binary classification, it can help to spot the true positives, true negatives, false positives and false negatives. "
   ]
  },
  {
   "cell_type": "code",
   "execution_count": 234,
   "metadata": {},
   "outputs": [
    {
     "data": {
      "text/plain": [
       "array([[69, 10],\n",
       "       [39, 25]])"
      ]
     },
     "execution_count": 234,
     "metadata": {},
     "output_type": "execute_result"
    }
   ],
   "source": [
    "confusion_matrix(yTest, y_pred_SVC) #The inputs are the test dataset and the predicted from the classifier. "
   ]
  },
  {
   "cell_type": "markdown",
   "metadata": {},
   "source": [
    "### Classification Report"
   ]
  },
  {
   "cell_type": "markdown",
   "metadata": {},
   "source": [
    "Classification report is used to evaluate a model’s predictive power. It is one of the most critical step in machine learning. After you have trained and fitted your machine learning model it is important to evaluate the model’s performance.\n",
    "\n",
    "One way to do this is by using sklearn’s [classification report](https://scikit-learn.org/stable/modules/generated/sklearn.metrics.classification_report.html).  It returns four important values: Precision, Recall, F1-score and Support."
   ]
  },
  {
   "cell_type": "code",
   "execution_count": 235,
   "metadata": {},
   "outputs": [
    {
     "name": "stdout",
     "output_type": "stream",
     "text": [
      "              precision    recall  f1-score   support\n",
      "\n",
      "           0       0.64      0.87      0.74        79\n",
      "           1       0.71      0.39      0.51        64\n",
      "\n",
      "    accuracy                           0.66       143\n",
      "   macro avg       0.68      0.63      0.62       143\n",
      "weighted avg       0.67      0.66      0.63       143\n",
      "\n"
     ]
    }
   ],
   "source": [
    "print(classification_report(yTest,y_pred_SVC))"
   ]
  },
  {
   "cell_type": "markdown",
   "metadata": {},
   "source": [
    "You can see here that on average the model has predicted 68% of the classification correctly.\n",
    "\n",
    "For Class 0 it has predicted 64% of the test data correctly."
   ]
  },
  {
   "cell_type": "markdown",
   "metadata": {},
   "source": [
    "Classification_report is also useful when comparing two models with different specifications against each other and determining which model is better to use. "
   ]
  },
  {
   "cell_type": "markdown",
   "metadata": {},
   "source": [
    "## Model comparison and validation"
   ]
  },
  {
   "cell_type": "markdown",
   "metadata": {},
   "source": [
    "In order to compare the performance of different models, it is possible to use Sklearn's [cross_validation](https://scikit-learn.org/stable/modules/cross_validation.html) suite. Here you may use an iterative approach to test each model and compare them afterwards. \n",
    "\n",
    "Cross-validation is a resampling procedure used to evaluate machine learning models on a limited data sample.\n",
    "\n",
    "The procedure has a single parameter called k that refers to the number of groups that a given data sample is to be split into. As such, the procedure is often called k-fold cross-validation. When a specific value for k is chosen, it may be used in place of k in the reference to the model, such as k=10 becoming 10-fold cross-validation.\n",
    "\n",
    "Cross-validation is primarily used in applied machine learning to estimate the skill of a machine learning model on unseen data. That is, to use a limited sample in order to estimate how the model is expected to perform in general when used to make predictions on data not used during the training of the model.\n",
    "\n",
    "It is a popular method because it is simple to understand and because it generally results in a less biased or less optimistic estimate of the model skill than other methods, such as a simple train/test split."
   ]
  },
  {
   "cell_type": "code",
   "execution_count": 231,
   "metadata": {
    "scrolled": false
   },
   "outputs": [
    {
     "name": "stderr",
     "output_type": "stream",
     "text": [
      "/Library/Frameworks/Python.framework/Versions/3.6/lib/python3.6/site-packages/sklearn/model_selection/_split.py:296: FutureWarning: Setting a random_state has no effect since shuffle is False. This will raise an error in 0.24. You should leave random_state to its default (None), or set shuffle=True.\n",
      "  FutureWarning\n",
      "/Library/Frameworks/Python.framework/Versions/3.6/lib/python3.6/site-packages/sklearn/model_selection/_split.py:296: FutureWarning: Setting a random_state has no effect since shuffle is False. This will raise an error in 0.24. You should leave random_state to its default (None), or set shuffle=True.\n",
      "  FutureWarning\n",
      "/Library/Frameworks/Python.framework/Versions/3.6/lib/python3.6/site-packages/sklearn/model_selection/_split.py:296: FutureWarning: Setting a random_state has no effect since shuffle is False. This will raise an error in 0.24. You should leave random_state to its default (None), or set shuffle=True.\n",
      "  FutureWarning\n"
     ]
    },
    {
     "name": "stdout",
     "output_type": "stream",
     "text": [
      "Model SVM with accuracy (mean): 0.6814113849765258 and accuracy (std): 0.04524121149711485\n",
      "Model Naive_Bayes with accuracy (mean): 1.0 and accuracy (std): 0.0\n",
      "Model Decision_trees with accuracy (mean): 1.0 and accuracy (std): 0.0\n"
     ]
    }
   ],
   "source": [
    "#Models definition\n",
    "models=[]\n",
    "models.append(('SVM', SVC()))\n",
    "models.append(('Naive_Bayes', GaussianNB()))\n",
    "models.append(('Decision_trees', DecisionTreeClassifier()))\n",
    "#Evaluate each models\n",
    "results=[]\n",
    "names=[]\n",
    "scoring_metric='accuracy'\n",
    "for name_model, model in models:\n",
    "    kfold= KFold(n_splits=8, random_state=10)\n",
    "    cv_results=cross_val_score(model, xTrain, yTrain, cv=kfold, scoring=scoring_metric)\n",
    "    results.append(cv_results)\n",
    "    names.append(name_model)\n",
    "    print (\"Model\", name_model, \"with accuracy (mean):\", cv_results.mean(), \"and accuracy (std):\", cv_results.std())"
   ]
  },
  {
   "cell_type": "code",
   "execution_count": 232,
   "metadata": {},
   "outputs": [
    {
     "data": {
      "image/png": "[encoded data removed]",
      "text/plain": [
       "<Figure size 432x288 with 1 Axes>"
      ]
     },
     "metadata": {
      "needs_background": "light"
     },
     "output_type": "display_data"
    }
   ],
   "source": [
    "fig=pyplot.figure()\n",
    "fig.suptitle (\"Algorithm accuracy comparison\")\n",
    "ax=fig.add_subplot(111)\n",
    "pyplot.boxplot(results)\n",
    "ax.set_xticklabels(names)\n",
    "pyplot.show()"
   ]
  },
  {
   "cell_type": "markdown",
   "metadata": {},
   "source": [
    "As you can compare, SVM is very inefficient in our accuracy comparison. If the situation were different, we can refine and improve our models in different ways. That will be the purpose of the Project 2. So, let's ahead! "
   ]
  },
  {
   "cell_type": "code",
   "execution_count": null,
   "metadata": {},
   "outputs": [],
   "source": []
  }
 ],
 "metadata": {
  "kernelspec": {
   "display_name": "Python 3",
   "language": "python",
   "name": "python3"
  },
  "language_info": {
   "codemirror_mode": {
    "name": "ipython",
    "version": 3
   },
   "file_extension": ".py",
   "mimetype": "text/x-python",
   "name": "python",
   "nbconvert_exporter": "python",
   "pygments_lexer": "ipython3",
   "version": "3.6.5"
  }
 },
 "nbformat": 4,
 "nbformat_minor": 2
}
