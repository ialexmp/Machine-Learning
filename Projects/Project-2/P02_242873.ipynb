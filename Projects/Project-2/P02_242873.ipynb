{
  "cells": [
    {
      "cell_type": "markdown",
      "metadata": {
        "id": "EzfnlG_gKLhF"
      },
      "source": [
        "# <center> Project 02: Application of classification in Marketing and Sales </center>"
      ]
    },
    {
      "cell_type": "markdown",
      "source": [
        "**Àlex Montoya Pérez (242873)**"
      ],
      "metadata": {
        "id": "9V0zo-_UXqa9"
      }
    },
    {
      "cell_type": "markdown",
      "metadata": {
        "id": "jdPg2j8dKLhG"
      },
      "source": [
        "# Seminar goals:\n",
        "In this project, we will develop and apply different supervised classification tecnhiques. These methodologies are broadly used in business to multiple use cases as:\n",
        "- identify **new customers** in the market\n",
        "- identify customers in our internal Data Warehouse with **more likely** to buy a new product\n",
        "- identify unsatisfied customers and thus, likely to be **churners**\n",
        "- classify text into categories for spam identification or to process messages or emails from our customers\n",
        "\n",
        "During this project we will follow the end-to-end Machine Learning process: from data gathering and cleaning, exploratory data analysis, feature engineering and finally, training and prediction. In particular, the main sections of this project are:\n",
        "1. Data understanding and preparation: exploration of the dataset and feature engineering (missing values, outlier identification, categorical variables management) \n",
        "2. Model Training: training the baseline SVM and Decision Trees. Analysis of metrics (recall, precision, confusion metrics) and improvement the classification through several techniques as undersampling to balance or ensemble of models\n",
        "3. Creating a Business opportunity with Machine Learning: selection of the best model and identification of the most important features\n",
        "\n",
        "\n",
        "\n",
        "We will apply all these techniques to identify new customers to capture and improve sales in a **marketing use case**."
      ]
    },
    {
      "cell_type": "markdown",
      "metadata": {
        "id": "UYAFrceqKLhH"
      },
      "source": [
        "### Due date: up to June 17th, 23:55h. \n",
        "### Submission procedure: via Moodle."
      ]
    },
    {
      "cell_type": "markdown",
      "metadata": {
        "id": "-A4_3DZEKLhI"
      },
      "source": [
        "*******"
      ]
    },
    {
      "cell_type": "markdown",
      "metadata": {
        "id": "FZY4NReQKLhI"
      },
      "source": [
        "# 0. Context:  Using Machine Learning to increase our customers base"
      ]
    },
    {
      "cell_type": "markdown",
      "metadata": {
        "id": "diyA2X3aKLhJ"
      },
      "source": [
        "We work as a head of data science and AI in a new Internet of Things (IoT) company. Our company designs, builds and implements wireless IoT products.\n",
        "\n",
        "Our marketing colleagues are planning to launch a new commercial campaign for capturing new customers. We have to decide which companies are the target to be visited by our sales managers. As the cost to send a sales manager to visit a potential customer is quite high, we have to select from the total market base, those companies that are more likely to buy any of our products and become a new customer. \n",
        "\n",
        "To support this new campaign, we are **using several of the most important classification techniques**. We will manage key evaluation aspects of a classification as **recall, precision, false positive, etc...** to decide which are the best potential customers. \n"
      ]
    },
    {
      "cell_type": "markdown",
      "metadata": {
        "id": "1hxQ0QtwKLhK"
      },
      "source": [
        "## 0.1 Dataset"
      ]
    },
    {
      "cell_type": "markdown",
      "metadata": {
        "id": "uRr4nn5-KLhK"
      },
      "source": [
        "In this practice we are using a new dataset named `market_dt.csv`. This file contains information of **IoT market**, i.e. companies that could be interested to buy IoT products or they have already. In particular, the detailed information for each customer is:\n",
        "- *City*: Name of the city where the company is located\n",
        "- *Customer_Flag*: It is a flag that is 1 for current customers and 0 for non-customers\n",
        "- *Revenue*: The annual incomes of the company\n",
        "- *Sector*: It's an integer that identifies the sector of the company's activity\n",
        "- *CNT_EMPLOYEE*: Number of employees of the company\n",
        "- *CNT_CB_DENSITY*: Number of companies close\n",
        "- *CNT_CB_MOB_DENSITY*: Number of companies with mobile services\n",
        "- *CNT_CB_FN_DENSITY*: Number of companies with fixed services\n",
        "- *Legal_Form_Code*: It's an integer that identifies the legal type of the company: big, small or medium company\n",
        "- *Mobile potential*: It's an estimation of the total annual expense that a company can do in telco services, including IoT"
      ]
    },
    {
      "cell_type": "markdown",
      "metadata": {
        "id": "6U4Sxn_kKLhL"
      },
      "source": [
        "## 0.2. Imports"
      ]
    },
    {
      "cell_type": "code",
      "execution_count": 161,
      "metadata": {
        "id": "t4bx2UI5KLhM"
      },
      "outputs": [],
      "source": [
        "import pandas as pd\n",
        "import numpy as np\n",
        "import matplotlib.pyplot as plt\n",
        "from matplotlib import pyplot\n",
        "import matplotlib.cm as cm\n",
        "import seaborn as sns\n",
        "from scipy.stats import iqr\n",
        "from scipy.stats import chi2_contingency\n",
        "from sklearn.preprocessing import StandardScaler\n",
        "from sklearn.preprocessing import Normalizer\n",
        "from sklearn.preprocessing import MinMaxScaler\n",
        "from sklearn.preprocessing import LabelEncoder\n",
        "from sklearn.model_selection import train_test_split\n",
        "from sklearn.linear_model import SGDClassifier\n",
        "from sklearn.svm import SVC\n",
        "from sklearn.model_selection import train_test_split\n",
        "from sklearn.metrics import accuracy_score, auc, roc_curve, classification_report, confusion_matrix, precision_score, recall_score, precision_recall_curve\n",
        "from sklearn.tree import DecisionTreeClassifier\n",
        "from sklearn.ensemble import RandomForestClassifier, GradientBoostingClassifier, VotingClassifier, AdaBoostClassifier \n",
        "from sklearn.model_selection import KFold\n",
        "from sklearn.model_selection import cross_val_score\n",
        "from sklearn.model_selection import StratifiedKFold"
      ]
    },
    {
      "cell_type": "markdown",
      "metadata": {
        "id": "o7OfXFAoKLhP"
      },
      "source": [
        "# 1. Data understanding and preparation"
      ]
    },
    {
      "cell_type": "markdown",
      "metadata": {
        "id": "T0GEXTMZKLhQ"
      },
      "source": [
        "The first stage in any Machine Learning project is to have a clear understanding of the dataset from a statistical point of view but also from the perspective of the value of their variables to solve the use case or problem. To achieve this goal we need to \"clean\" and \"transform\" the data. All this process is known as **Data Wrangling**. In particular, the whole data wrangling process implies:\n",
        "- Define and apply an strategy for nulls and coding for categorical variables\n",
        "- Analyze the variables distribution and correlation between them\n",
        "- Remove outliers\n",
        "- etc....\n"
      ]
    },
    {
      "cell_type": "markdown",
      "metadata": {
        "id": "tzaVBJ98KLhQ"
      },
      "source": [
        "Let's open the csv with separator \";\" and assign to a dataframe variable (use read_csv from Pandas library). Let's see the top 5 elements."
      ]
    },
    {
      "cell_type": "code",
      "execution_count": 162,
      "metadata": {
        "id": "t7w8v94aKLhR",
        "outputId": "af5cd859-c3ae-479c-cbba-38e2ccb8d8aa",
        "colab": {
          "base_uri": "https://localhost:8080/",
          "height": 0
        }
      },
      "outputs": [
        {
          "output_type": "execute_result",
          "data": {
            "text/plain": [
              "        City  Customer_Flag     Revenue  Sector  Legal_Form_Code  \\\n",
              "0     Bremen              0  21339309.0    26.0             14.0   \n",
              "1  Steinfurt              0         NaN    74.0              4.0   \n",
              "2  Magdeburg              0         NaN    83.0             28.0   \n",
              "3    Leipzig              0         NaN    61.0             28.0   \n",
              "4       Tamm              0         NaN    74.0              4.0   \n",
              "\n",
              "   CNT_EMPLOYEE  CNT_CB_DENSITY  CNT_CB_MOB_DENSITY  CNT_CB_FN_DENSITY  \\\n",
              "0            28           161.0               154.0               10.0   \n",
              "1            52            41.0                41.0                1.0   \n",
              "2            29           188.0               187.0                6.0   \n",
              "3            13           597.0               594.0               21.0   \n",
              "4            40           336.0               334.0               10.0   \n",
              "\n",
              "   Mobile_potential  \n",
              "0       2505.609457  \n",
              "1       2714.197904  \n",
              "2       2245.828787  \n",
              "3       2163.784785  \n",
              "4       2338.611264  "
            ],
            "text/html": [
              "\n",
              "  <div id=\"df-48eac483-a88c-4b42-9010-08b6d766204c\">\n",
              "    <div class=\"colab-df-container\">\n",
              "      <div>\n",
              "<style scoped>\n",
              "    .dataframe tbody tr th:only-of-type {\n",
              "        vertical-align: middle;\n",
              "    }\n",
              "\n",
              "    .dataframe tbody tr th {\n",
              "        vertical-align: top;\n",
              "    }\n",
              "\n",
              "    .dataframe thead th {\n",
              "        text-align: right;\n",
              "    }\n",
              "</style>\n",
              "<table border=\"1\" class=\"dataframe\">\n",
              "  <thead>\n",
              "    <tr style=\"text-align: right;\">\n",
              "      <th></th>\n",
              "      <th>City</th>\n",
              "      <th>Customer_Flag</th>\n",
              "      <th>Revenue</th>\n",
              "      <th>Sector</th>\n",
              "      <th>Legal_Form_Code</th>\n",
              "      <th>CNT_EMPLOYEE</th>\n",
              "      <th>CNT_CB_DENSITY</th>\n",
              "      <th>CNT_CB_MOB_DENSITY</th>\n",
              "      <th>CNT_CB_FN_DENSITY</th>\n",
              "      <th>Mobile_potential</th>\n",
              "    </tr>\n",
              "  </thead>\n",
              "  <tbody>\n",
              "    <tr>\n",
              "      <th>0</th>\n",
              "      <td>Bremen</td>\n",
              "      <td>0</td>\n",
              "      <td>21339309.0</td>\n",
              "      <td>26.0</td>\n",
              "      <td>14.0</td>\n",
              "      <td>28</td>\n",
              "      <td>161.0</td>\n",
              "      <td>154.0</td>\n",
              "      <td>10.0</td>\n",
              "      <td>2505.609457</td>\n",
              "    </tr>\n",
              "    <tr>\n",
              "      <th>1</th>\n",
              "      <td>Steinfurt</td>\n",
              "      <td>0</td>\n",
              "      <td>NaN</td>\n",
              "      <td>74.0</td>\n",
              "      <td>4.0</td>\n",
              "      <td>52</td>\n",
              "      <td>41.0</td>\n",
              "      <td>41.0</td>\n",
              "      <td>1.0</td>\n",
              "      <td>2714.197904</td>\n",
              "    </tr>\n",
              "    <tr>\n",
              "      <th>2</th>\n",
              "      <td>Magdeburg</td>\n",
              "      <td>0</td>\n",
              "      <td>NaN</td>\n",
              "      <td>83.0</td>\n",
              "      <td>28.0</td>\n",
              "      <td>29</td>\n",
              "      <td>188.0</td>\n",
              "      <td>187.0</td>\n",
              "      <td>6.0</td>\n",
              "      <td>2245.828787</td>\n",
              "    </tr>\n",
              "    <tr>\n",
              "      <th>3</th>\n",
              "      <td>Leipzig</td>\n",
              "      <td>0</td>\n",
              "      <td>NaN</td>\n",
              "      <td>61.0</td>\n",
              "      <td>28.0</td>\n",
              "      <td>13</td>\n",
              "      <td>597.0</td>\n",
              "      <td>594.0</td>\n",
              "      <td>21.0</td>\n",
              "      <td>2163.784785</td>\n",
              "    </tr>\n",
              "    <tr>\n",
              "      <th>4</th>\n",
              "      <td>Tamm</td>\n",
              "      <td>0</td>\n",
              "      <td>NaN</td>\n",
              "      <td>74.0</td>\n",
              "      <td>4.0</td>\n",
              "      <td>40</td>\n",
              "      <td>336.0</td>\n",
              "      <td>334.0</td>\n",
              "      <td>10.0</td>\n",
              "      <td>2338.611264</td>\n",
              "    </tr>\n",
              "  </tbody>\n",
              "</table>\n",
              "</div>\n",
              "      <button class=\"colab-df-convert\" onclick=\"convertToInteractive('df-48eac483-a88c-4b42-9010-08b6d766204c')\"\n",
              "              title=\"Convert this dataframe to an interactive table.\"\n",
              "              style=\"display:none;\">\n",
              "        \n",
              "  <svg xmlns=\"http://www.w3.org/2000/svg\" height=\"24px\"viewBox=\"0 0 24 24\"\n",
              "       width=\"24px\">\n",
              "    <path d=\"M0 0h24v24H0V0z\" fill=\"none\"/>\n",
              "    <path d=\"M18.56 5.44l.94 2.06.94-2.06 2.06-.94-2.06-.94-.94-2.06-.94 2.06-2.06.94zm-11 1L8.5 8.5l.94-2.06 2.06-.94-2.06-.94L8.5 2.5l-.94 2.06-2.06.94zm10 10l.94 2.06.94-2.06 2.06-.94-2.06-.94-.94-2.06-.94 2.06-2.06.94z\"/><path d=\"M17.41 7.96l-1.37-1.37c-.4-.4-.92-.59-1.43-.59-.52 0-1.04.2-1.43.59L10.3 9.45l-7.72 7.72c-.78.78-.78 2.05 0 2.83L4 21.41c.39.39.9.59 1.41.59.51 0 1.02-.2 1.41-.59l7.78-7.78 2.81-2.81c.8-.78.8-2.07 0-2.86zM5.41 20L4 18.59l7.72-7.72 1.47 1.35L5.41 20z\"/>\n",
              "  </svg>\n",
              "      </button>\n",
              "      \n",
              "  <style>\n",
              "    .colab-df-container {\n",
              "      display:flex;\n",
              "      flex-wrap:wrap;\n",
              "      gap: 12px;\n",
              "    }\n",
              "\n",
              "    .colab-df-convert {\n",
              "      background-color: #E8F0FE;\n",
              "      border: none;\n",
              "      border-radius: 50%;\n",
              "      cursor: pointer;\n",
              "      display: none;\n",
              "      fill: #1967D2;\n",
              "      height: 32px;\n",
              "      padding: 0 0 0 0;\n",
              "      width: 32px;\n",
              "    }\n",
              "\n",
              "    .colab-df-convert:hover {\n",
              "      background-color: #E2EBFA;\n",
              "      box-shadow: 0px 1px 2px rgba(60, 64, 67, 0.3), 0px 1px 3px 1px rgba(60, 64, 67, 0.15);\n",
              "      fill: #174EA6;\n",
              "    }\n",
              "\n",
              "    [theme=dark] .colab-df-convert {\n",
              "      background-color: #3B4455;\n",
              "      fill: #D2E3FC;\n",
              "    }\n",
              "\n",
              "    [theme=dark] .colab-df-convert:hover {\n",
              "      background-color: #434B5C;\n",
              "      box-shadow: 0px 1px 3px 1px rgba(0, 0, 0, 0.15);\n",
              "      filter: drop-shadow(0px 1px 2px rgba(0, 0, 0, 0.3));\n",
              "      fill: #FFFFFF;\n",
              "    }\n",
              "  </style>\n",
              "\n",
              "      <script>\n",
              "        const buttonEl =\n",
              "          document.querySelector('#df-48eac483-a88c-4b42-9010-08b6d766204c button.colab-df-convert');\n",
              "        buttonEl.style.display =\n",
              "          google.colab.kernel.accessAllowed ? 'block' : 'none';\n",
              "\n",
              "        async function convertToInteractive(key) {\n",
              "          const element = document.querySelector('#df-48eac483-a88c-4b42-9010-08b6d766204c');\n",
              "          const dataTable =\n",
              "            await google.colab.kernel.invokeFunction('convertToInteractive',\n",
              "                                                     [key], {});\n",
              "          if (!dataTable) return;\n",
              "\n",
              "          const docLinkHtml = 'Like what you see? Visit the ' +\n",
              "            '<a target=\"_blank\" href=https://colab.research.google.com/notebooks/data_table.ipynb>data table notebook</a>'\n",
              "            + ' to learn more about interactive tables.';\n",
              "          element.innerHTML = '';\n",
              "          dataTable['output_type'] = 'display_data';\n",
              "          await google.colab.output.renderOutput(dataTable, element);\n",
              "          const docLink = document.createElement('div');\n",
              "          docLink.innerHTML = docLinkHtml;\n",
              "          element.appendChild(docLink);\n",
              "        }\n",
              "      </script>\n",
              "    </div>\n",
              "  </div>\n",
              "  "
            ]
          },
          "metadata": {},
          "execution_count": 162
        }
      ],
      "source": [
        "market_dt = pd.read_csv('market_dt.csv', usecols={'City', 'Customer_Flag', 'Revenue', 'Sector', 'CNT_EMPLOYEE',\n",
        "                                                 'CNT_CB_DENSITY', 'CNT_CB_MOB_DENSITY', 'CNT_CB_FN_DENSITY',\n",
        "                                                 'Legal_Form_Code','Mobile_potential'}, sep=\";\")\n",
        "market_dt.head()"
      ]
    },
    {
      "cell_type": "markdown",
      "metadata": {
        "id": "osFK9XOAKLhV"
      },
      "source": [
        "[**EX1**] [**REPORT**] Let's identify the type of the variables (integer, float, chart...) and the size of the dataset and the file. Which are the variable with more nulls? And with no nulls? Why 'City' variables is considered as object type?\n",
        "\n",
        "Tip: [.info()](https://www.geeksforgeeks.org/python-pandas-dataframe-info/) is a function that reports the main characteristics of a dataframe."
      ]
    },
    {
      "cell_type": "code",
      "source": [
        "# Mostramos información sobre el market_dt. (número de columnas, etiquetas de columna, tipos de datos de columna, uso de memoria, índice de rango y el número de celdas en cada columna (valores no nulos).\n",
        "market_dt.info()"
      ],
      "metadata": {
        "colab": {
          "base_uri": "https://localhost:8080/"
        },
        "id": "AygcADErwYL2",
        "outputId": "9f010f52-b52f-4731-b213-f1b18266c7a5"
      },
      "execution_count": 163,
      "outputs": [
        {
          "output_type": "stream",
          "name": "stdout",
          "text": [
            "<class 'pandas.core.frame.DataFrame'>\n",
            "RangeIndex: 13335 entries, 0 to 13334\n",
            "Data columns (total 10 columns):\n",
            " #   Column              Non-Null Count  Dtype  \n",
            "---  ------              --------------  -----  \n",
            " 0   City                13335 non-null  object \n",
            " 1   Customer_Flag       13335 non-null  int64  \n",
            " 2   Revenue             8589 non-null   float64\n",
            " 3   Sector              13235 non-null  float64\n",
            " 4   Legal_Form_Code     13229 non-null  float64\n",
            " 5   CNT_EMPLOYEE        13335 non-null  int64  \n",
            " 6   CNT_CB_DENSITY      10265 non-null  float64\n",
            " 7   CNT_CB_MOB_DENSITY  10265 non-null  float64\n",
            " 8   CNT_CB_FN_DENSITY   10265 non-null  float64\n",
            " 9   Mobile_potential    13335 non-null  float64\n",
            "dtypes: float64(7), int64(2), object(1)\n",
            "memory usage: 1.0+ MB\n"
          ]
        }
      ]
    },
    {
      "cell_type": "markdown",
      "metadata": {
        "id": "rnjxSOlfKLhZ"
      },
      "source": [
        "Once we have the first contact with the dataset, next step is to decide the strategy to apply to **nulls** values. There are several options as removing the rows with any **null**, assigning a constant value (e.g. median or mean value), etc.... In our case, we are removing the rows with **null** in any of the values."
      ]
    },
    {
      "cell_type": "markdown",
      "metadata": {
        "id": "j6WN5zKGKLhZ"
      },
      "source": [
        "[**EX2**] [**CODE**] Eliminate those rows which has nulls in any variable. Let's check that there is no nulls in any variable. Which is the size of the resulting dataset? "
      ]
    },
    {
      "cell_type": "code",
      "source": [
        "market_dt = market_dt.dropna() # con el método .dropna() eliminamos la filas que contienen valores Nulos\n",
        "market_dt.info() # Mostramos la info una vez eliminados los valores NULL\n",
        "print('\\nEl tamaño del dataset resultante es: ', market_dt.shape)"
      ],
      "metadata": {
        "colab": {
          "base_uri": "https://localhost:8080/"
        },
        "id": "8z52VKszy8KJ",
        "outputId": "90050529-c946-4771-e93e-0832b9a83915"
      },
      "execution_count": 164,
      "outputs": [
        {
          "output_type": "stream",
          "name": "stdout",
          "text": [
            "<class 'pandas.core.frame.DataFrame'>\n",
            "Int64Index: 6987 entries, 0 to 13321\n",
            "Data columns (total 10 columns):\n",
            " #   Column              Non-Null Count  Dtype  \n",
            "---  ------              --------------  -----  \n",
            " 0   City                6987 non-null   object \n",
            " 1   Customer_Flag       6987 non-null   int64  \n",
            " 2   Revenue             6987 non-null   float64\n",
            " 3   Sector              6987 non-null   float64\n",
            " 4   Legal_Form_Code     6987 non-null   float64\n",
            " 5   CNT_EMPLOYEE        6987 non-null   int64  \n",
            " 6   CNT_CB_DENSITY      6987 non-null   float64\n",
            " 7   CNT_CB_MOB_DENSITY  6987 non-null   float64\n",
            " 8   CNT_CB_FN_DENSITY   6987 non-null   float64\n",
            " 9   Mobile_potential    6987 non-null   float64\n",
            "dtypes: float64(7), int64(2), object(1)\n",
            "memory usage: 600.4+ KB\n",
            "\n",
            "El tamaño del dataset resultante es:  (6987, 10)\n"
          ]
        }
      ]
    },
    {
      "cell_type": "markdown",
      "metadata": {
        "id": "jMAZKlkpKLhf"
      },
      "source": [
        "Your output should look like this:"
      ]
    },
    {
      "cell_type": "code",
      "execution_count": 165,
      "metadata": {
        "id": "H2dXqQbfKLhf",
        "outputId": "2f6543d4-ca29-43ac-8547-9f1fba9c0400",
        "colab": {
          "base_uri": "https://localhost:8080/"
        }
      },
      "outputs": [
        {
          "output_type": "stream",
          "name": "stdout",
          "text": [
            "<class 'pandas.core.frame.DataFrame'>\n",
            "Int64Index: 6987 entries, 0 to 13321\n",
            "Data columns (total 10 columns):\n",
            " #   Column              Non-Null Count  Dtype  \n",
            "---  ------              --------------  -----  \n",
            " 0   City                6987 non-null   object \n",
            " 1   Customer_Flag       6987 non-null   int64  \n",
            " 2   Revenue             6987 non-null   float64\n",
            " 3   Sector              6987 non-null   float64\n",
            " 4   Legal_Form_Code     6987 non-null   float64\n",
            " 5   CNT_EMPLOYEE        6987 non-null   int64  \n",
            " 6   CNT_CB_DENSITY      6987 non-null   float64\n",
            " 7   CNT_CB_MOB_DENSITY  6987 non-null   float64\n",
            " 8   CNT_CB_FN_DENSITY   6987 non-null   float64\n",
            " 9   Mobile_potential    6987 non-null   float64\n",
            "dtypes: float64(7), int64(2), object(1)\n",
            "memory usage: 600.4+ KB\n"
          ]
        }
      ],
      "source": [
        "market_dt.info()"
      ]
    },
    {
      "cell_type": "markdown",
      "metadata": {
        "id": "uR4UCXz6KLhj"
      },
      "source": [
        "In Machine Learning, it is key to analyze the variables from a statistical point of view: knowing the distribution of each variable, their mean and median are key to identify any transformation to apply before training the model. \n",
        "Furthermore, due to we are training a classifier (in our case, to classify between ***customers*** and ***non customers***), this analysis should be done for both classes separetly."
      ]
    },
    {
      "cell_type": "markdown",
      "metadata": {
        "id": "L2r-IQ7OKLhj"
      },
      "source": [
        "[**EX3**] [**REPORT**] Create a `customer_dt`and `noncustomer_dt`datasets based on the `Customer_Flag`variable (`Customer_Flag`=1 for **customers** and 0 for **noncustomers**). Build a boxplot for the `Revenue`, `CNT_EMPLOYEE`, `Mobile_potential` and `CNT_CB_Density` numeric variables for both datasets. Which are the main differences between `customer_dt`and `noncustomer_dt` datasets comparing these variables. Which is the dataset with `CNT_EMPLOYEE` higher? Which datasets have more outliers in `Revenues`? Which is the Q1, median (=Q2) and Q3 for `Revenues`and `Mobile_potential`?\n",
        "\n",
        "\n",
        "Tip: you may have to use the [boxplot](https://matplotlib.org/3.1.1/api/_as_gen/matplotlib.pyplot.boxplot.html) function."
      ]
    },
    {
      "cell_type": "markdown",
      "metadata": {
        "id": "P4LaqjUyKLhm"
      },
      "source": [
        "As we observe from the boxplots, some of them present outliers. There are several mechanisms to eliminate outliers. One option is to eliminate the values higher than a statistical value for each numerical variable."
      ]
    },
    {
      "cell_type": "code",
      "source": [
        "# Customer_Flag = 1 --> customers | Customer_Flag = 0 --> non-customers\n",
        "customer_dt = market_dt[market_dt['Customer_Flag']==1]\n",
        "noncustomer_dt = market_dt[market_dt['Customer_Flag']==0]\n",
        "\n",
        "# Definiremos una función para crear cada uno de los casos que se nos pide:\n",
        "\n",
        "# Función para hacer el boxplot del customer dataset\n",
        "def c_boxplot(var_name):\n",
        "    fig1, ax1 = pyplot.subplots()\n",
        "    ax1.set_title(\"Customer \" + var_name)\n",
        "    ax1.boxplot(customer_dt[var_name])\n",
        "    ax1.set_yscale('log')\n",
        "    pyplot.show()\n",
        "    \n",
        "# Función para hacer el boxplot del non-customer dataset   \n",
        "def nc_boxplot(var_name): \n",
        "    fig1, ax1 = pyplot.subplots()\n",
        "    ax1.set_title(\"Non-Customer \" + var_name)\n",
        "    ax1.boxplot(noncustomer_dt[var_name])\n",
        "    ax1.set_yscale('log')\n",
        "    pyplot.show()"
      ],
      "metadata": {
        "id": "U6XH3FQo0PXj"
      },
      "execution_count": 166,
      "outputs": []
    },
    {
      "cell_type": "markdown",
      "source": [
        "# **CUSTOMER BOXPLOTS**"
      ],
      "metadata": {
        "id": "xnvfr2y81EEc"
      }
    },
    {
      "cell_type": "code",
      "source": [
        "#Utilizamos la función c_boxplot creada previamente para crear los boxplots de customer con cada una de las variables\n",
        "c_boxplot(\"Revenue\")\n",
        "c_boxplot(\"CNT_EMPLOYEE\")\n",
        "c_boxplot(\"Mobile_potential\")\n",
        "c_boxplot(\"CNT_CB_DENSITY\")"
      ],
      "metadata": {
        "id": "T0S8k2V309KU",
        "colab": {
          "base_uri": "https://localhost:8080/",
          "height": 0
        },
        "outputId": "b351afb5-d1d5-4ad1-cee7-d6dec299ed68"
      },
      "execution_count": 167,
      "outputs": [
        {
          "output_type": "display_data",
          "data": {
            "text/plain": [
              "<Figure size 432x288 with 1 Axes>"
            ],
            "image/png": "[encoded data removed]"
          },
          "metadata": {
            "needs_background": "light"
          }
        },
        {
          "output_type": "display_data",
          "data": {
            "text/plain": [
              "<Figure size 432x288 with 1 Axes>"
            ],
            "image/png": "[encoded data removed]"
          },
          "metadata": {
            "needs_background": "light"
          }
        },
        {
          "output_type": "display_data",
          "data": {
            "text/plain": [
              "<Figure size 432x288 with 1 Axes>"
            ],
            "image/png": "[encoded data removed]"
          },
          "metadata": {
            "needs_background": "light"
          }
        },
        {
          "output_type": "display_data",
          "data": {
            "text/plain": [
              "<Figure size 432x288 with 1 Axes>"
            ],
            "image/png": "[encoded data removed]"
          },
          "metadata": {
            "needs_background": "light"
          }
        }
      ]
    },
    {
      "cell_type": "markdown",
      "source": [
        "# **NON-CUSTOMER BOXPLOTS**"
      ],
      "metadata": {
        "id": "v-QLcgmp08t0"
      }
    },
    {
      "cell_type": "code",
      "source": [
        "#Utilizamos la función nc_boxplot creada previamente para crear los boxplots de non-customer con cada una de las variables\n",
        "nc_boxplot(\"Revenue\")\n",
        "nc_boxplot(\"CNT_EMPLOYEE\")\n",
        "nc_boxplot(\"Mobile_potential\")\n",
        "nc_boxplot(\"CNT_CB_DENSITY\")"
      ],
      "metadata": {
        "colab": {
          "base_uri": "https://localhost:8080/",
          "height": 0
        },
        "id": "tRD3lUwZmSE9",
        "outputId": "17766704-d6f8-4ce3-8014-b5c3d71adb93"
      },
      "execution_count": 168,
      "outputs": [
        {
          "output_type": "display_data",
          "data": {
            "text/plain": [
              "<Figure size 432x288 with 1 Axes>"
            ],
            "image/png": "[encoded data removed]"
          },
          "metadata": {
            "needs_background": "light"
          }
        },
        {
          "output_type": "display_data",
          "data": {
            "text/plain": [
              "<Figure size 432x288 with 1 Axes>"
            ],
            "image/png": "[encoded data removed]"
          },
          "metadata": {
            "needs_background": "light"
          }
        },
        {
          "output_type": "display_data",
          "data": {
            "text/plain": [
              "<Figure size 432x288 with 1 Axes>"
            ],
            "image/png": "[encoded data removed]"
          },
          "metadata": {
            "needs_background": "light"
          }
        },
        {
          "output_type": "display_data",
          "data": {
            "text/plain": [
              "<Figure size 432x288 with 1 Axes>"
            ],
            "image/png": "[encoded data removed]"
          },
          "metadata": {
            "needs_background": "light"
          }
        }
      ]
    },
    {
      "cell_type": "code",
      "source": [
        "#### REVENUE ### \n",
        "\n",
        "# Calculos de los cuartiles para customer (Revenue) ------------------------------|\n",
        "\n",
        "Q1_c = customer_dt['Revenue'].quantile(0.25)\n",
        "Q2_c = customer_dt['Revenue'].quantile(0.5)\n",
        "Q3_c = customer_dt['Revenue'].quantile(0.75)\n",
        "\n",
        "print('Customer Revenue (Q1): ', Q1_c)\n",
        "print('Customer Revenue (Q2): ', Q2_c)\n",
        "print('Customer Revenue (Q3): ', Q3_c)\n",
        "\n",
        "# Calculos de los cuartiles para non-customer (Revenue) --------------------------|\n",
        "\n",
        "Q1_nc = noncustomer_dt['Revenue'].quantile(0.25)\n",
        "Q2_nc = noncustomer_dt['Revenue'].quantile(0.5)\n",
        "Q3_nc = noncustomer_dt['Revenue'].quantile(0.75)\n",
        "\n",
        "print('Non-Customer Revenue (Q1): ', Q1_nc)\n",
        "print('Non-Customer Revenue (Q2): ', Q2_nc)\n",
        "print('Non-Customer Revenue (Q3): ', Q3_nc)\n",
        "\n",
        "# Calculos de los outliers para (Revenue) --------------------------|\n",
        "IQR_customer = Q3_c - Q1_c\n",
        "IQR_noncustomer = Q3_nc - Q1_nc;\n",
        "\n",
        "outliers_max = (customer_dt['Revenue'] > Q3_c + 1.5*IQR_customer)\n",
        "outliers_min = (customer_dt['Revenue'] < Q1_c - 1.5*IQR_customer)\n",
        "print('Customer Outliers (Revenue): ',np.sum(outliers_max)+np.sum(outliers_min))\n",
        "outliers_max = (noncustomer_dt['Revenue'] > Q3_nc + 1.5*IQR_noncustomer)\n",
        "outliers_min = (noncustomer_dt['Revenue'] < Q1_nc - 1.5*IQR_noncustomer)\n",
        "print('Non-customer Outliers (Revenue):',np.sum(outliers_max)+np.sum(outliers_min))\n",
        "\n"
      ],
      "metadata": {
        "colab": {
          "base_uri": "https://localhost:8080/"
        },
        "id": "cz8371gqoTRE",
        "outputId": "df334747-b9a0-4a27-caaa-76de11b76e5d"
      },
      "execution_count": 169,
      "outputs": [
        {
          "output_type": "stream",
          "name": "stdout",
          "text": [
            "Customer Revenue (Q1):  1047500.0\n",
            "Customer Revenue (Q2):  2200000.0\n",
            "Customer Revenue (Q3):  4195000.0\n",
            "Non-Customer Revenue (Q1):  902986.0\n",
            "Non-Customer Revenue (Q2):  1750000.0\n",
            "Non-Customer Revenue (Q3):  3501123.5\n",
            "Customer Outliers (Revenue):  95\n",
            "Non-customer Outliers (Revenue): 569\n"
          ]
        }
      ]
    },
    {
      "cell_type": "code",
      "source": [
        "#### MOBILE_POTENTIAL ### \n",
        "\n",
        "# Calculos de los cuartiles para customer (Mobile_potential) ---------------------|\n",
        "\n",
        "Q1_c = customer_dt['Mobile_potential'].quantile(0.25)\n",
        "Q2_c = customer_dt['Mobile_potential'].quantile(0.5)\n",
        "Q3_c = customer_dt['Mobile_potential'].quantile(0.75)\n",
        "\n",
        "print('Customer Mobile_potential (Q1): ', Q1_c)\n",
        "print('Customer Mobile_potential (Q2): ', Q2_c)\n",
        "print('Customer Mobile_potential (Q3): ', Q3_c)\n",
        "\n",
        "# Calculos de los cuartiles para non-customer (Mobile_potential) -----------------|\n",
        "\n",
        "Q1_nc = noncustomer_dt['Mobile_potential'].quantile(0.25)\n",
        "Q2_nc = noncustomer_dt['Mobile_potential'].quantile(0.5)\n",
        "Q3_nc = noncustomer_dt['Mobile_potential'].quantile(0.75)\n",
        "\n",
        "print('Non-Customer Mobile_potential (Q1): ', Q1_nc)\n",
        "print('Non-Customer Mobile_potential (Q2): ', Q2_nc)\n",
        "print('Non-Customer Mobile_potential (Q3): ', Q3_nc)"
      ],
      "metadata": {
        "colab": {
          "base_uri": "https://localhost:8080/"
        },
        "id": "IVCg4NnHvkIC",
        "outputId": "e27c7984-019c-4a8d-c60b-85d5af1e758f"
      },
      "execution_count": 170,
      "outputs": [
        {
          "output_type": "stream",
          "name": "stdout",
          "text": [
            "Customer Mobile_potential (Q1):  2090.6967281537\n",
            "Customer Mobile_potential (Q2):  2401.464692530968\n",
            "Customer Mobile_potential (Q3):  2826.2351826061667\n",
            "Non-Customer Mobile_potential (Q1):  1975.5165190653966\n",
            "Non-Customer Mobile_potential (Q2):  2277.9727974861535\n",
            "Non-Customer Mobile_potential (Q3):  2631.926166103982\n"
          ]
        }
      ]
    },
    {
      "cell_type": "code",
      "source": [
        "### CNT_EMPLOYEE ###\n",
        "\n",
        "print('Customer [CNT_EMPLOYEE]: ', customer_dt['CNT_EMPLOYEE'].max())\n",
        "print('Non-customer [CNT_EMPLOYEE]: ', noncustomer_dt['CNT_EMPLOYEE'].max())"
      ],
      "metadata": {
        "colab": {
          "base_uri": "https://localhost:8080/"
        },
        "id": "k_ZHED3cwUnM",
        "outputId": "d2f5319c-3e89-4f24-bd69-863788c0ec15"
      },
      "execution_count": 171,
      "outputs": [
        {
          "output_type": "stream",
          "name": "stdout",
          "text": [
            "Customer [CNT_EMPLOYEE]:  55\n",
            "Non-customer [CNT_EMPLOYEE]:  55\n"
          ]
        }
      ]
    },
    {
      "cell_type": "markdown",
      "metadata": {
        "id": "puFRcL_-KLhn"
      },
      "source": [
        "[**EX4**] [**CODE**] Remove the values higher than 5* IQR for each variable: `Revenue`, `CNT_EMPLOYEE`, `Mobile_potential`, `CNT_CB_DENSITY`, `CNT_CB_MOB_DENSITY`and `CNT_CB_FN_DENSITY`. Compare with the boxplot of the previous exercise [**EX3**] and explain the differences."
      ]
    },
    {
      "cell_type": "code",
      "source": [
        "# Eliminamos los valores mas grandes que 5*IQR para las siguientes variables ('Revenue', 'CNT_EMPLOYEE', 'Mobile_potential', 'CNT_CB_DENSITY', 'CNT_CB_MOB_DENSITY', 'CNT_CB_FN_DENSITY' )\n",
        "var_names = ['Revenue', 'CNT_EMPLOYEE', 'Mobile_potential', 'CNT_CB_DENSITY', 'CNT_CB_MOB_DENSITY', 'CNT_CB_FN_DENSITY']\n",
        "IQR_customer = np.array([5*iqr(customer_dt[i]) for i in var_names])\n",
        "IQR_noncustomer = np.array([5*iqr(noncustomer_dt[i]) for i in var_names])\n",
        "\n",
        "for i in range(0,len(var_names)):\n",
        "    customer_dt = customer_dt.drop(customer_dt[customer_dt[var_names[i]] > IQR_customer[i]].index)\n",
        "    noncustomer_dt = noncustomer_dt.drop(noncustomer_dt[noncustomer_dt[var_names[i]] > IQR_noncustomer[i]].index)\n",
        "    \n",
        "# Una vez eliminados , volvemos a hacer los boxplots de cada variable para comparar con los resultados obtenidos en el ejercicio anterior\n",
        "customer_dt.info()\n",
        "noncustomer_dt.info()\n"
      ],
      "metadata": {
        "id": "Mg0i2rm-50YB",
        "colab": {
          "base_uri": "https://localhost:8080/"
        },
        "outputId": "9c730bdb-aed8-4fc0-d08f-a1c909cb9be0"
      },
      "execution_count": 172,
      "outputs": [
        {
          "output_type": "stream",
          "name": "stdout",
          "text": [
            "<class 'pandas.core.frame.DataFrame'>\n",
            "Int64Index: 956 entries, 11548 to 13321\n",
            "Data columns (total 10 columns):\n",
            " #   Column              Non-Null Count  Dtype  \n",
            "---  ------              --------------  -----  \n",
            " 0   City                956 non-null    object \n",
            " 1   Customer_Flag       956 non-null    int64  \n",
            " 2   Revenue             956 non-null    float64\n",
            " 3   Sector              956 non-null    float64\n",
            " 4   Legal_Form_Code     956 non-null    float64\n",
            " 5   CNT_EMPLOYEE        956 non-null    int64  \n",
            " 6   CNT_CB_DENSITY      956 non-null    float64\n",
            " 7   CNT_CB_MOB_DENSITY  956 non-null    float64\n",
            " 8   CNT_CB_FN_DENSITY   956 non-null    float64\n",
            " 9   Mobile_potential    956 non-null    float64\n",
            "dtypes: float64(7), int64(2), object(1)\n",
            "memory usage: 82.2+ KB\n",
            "<class 'pandas.core.frame.DataFrame'>\n",
            "Int64Index: 4909 entries, 5 to 11546\n",
            "Data columns (total 10 columns):\n",
            " #   Column              Non-Null Count  Dtype  \n",
            "---  ------              --------------  -----  \n",
            " 0   City                4909 non-null   object \n",
            " 1   Customer_Flag       4909 non-null   int64  \n",
            " 2   Revenue             4909 non-null   float64\n",
            " 3   Sector              4909 non-null   float64\n",
            " 4   Legal_Form_Code     4909 non-null   float64\n",
            " 5   CNT_EMPLOYEE        4909 non-null   int64  \n",
            " 6   CNT_CB_DENSITY      4909 non-null   float64\n",
            " 7   CNT_CB_MOB_DENSITY  4909 non-null   float64\n",
            " 8   CNT_CB_FN_DENSITY   4909 non-null   float64\n",
            " 9   Mobile_potential    4909 non-null   float64\n",
            "dtypes: float64(7), int64(2), object(1)\n",
            "memory usage: 421.9+ KB\n"
          ]
        }
      ]
    },
    {
      "cell_type": "markdown",
      "source": [
        "# **CUSTOMER BOXPLOTS**"
      ],
      "metadata": {
        "id": "909yxEGW60Kx"
      }
    },
    {
      "cell_type": "code",
      "source": [
        "#Utilizamos la función c_boxplot creada previamente para crear los boxplots de customer con cada una de las variables\n",
        "c_boxplot(\"Revenue\")\n",
        "c_boxplot(\"CNT_EMPLOYEE\")\n",
        "c_boxplot(\"Mobile_potential\")\n",
        "c_boxplot(\"CNT_CB_DENSITY\")\n",
        "c_boxplot(\"CNT_CB_MOB_DENSITY\")\n",
        "c_boxplot(\"CNT_CB_FN_DENSITY\")"
      ],
      "metadata": {
        "colab": {
          "base_uri": "https://localhost:8080/",
          "height": 0
        },
        "id": "7MjO_NxE7Cxy",
        "outputId": "61d8026f-f802-4fe3-fff7-471b57d99f4c"
      },
      "execution_count": 173,
      "outputs": [
        {
          "output_type": "display_data",
          "data": {
            "text/plain": [
              "<Figure size 432x288 with 1 Axes>"
            ],
            "image/png": "[encoded data removed]"
          },
          "metadata": {
            "needs_background": "light"
          }
        },
        {
          "output_type": "display_data",
          "data": {
            "text/plain": [
              "<Figure size 432x288 with 1 Axes>"
            ],
            "image/png": "[encoded data removed]"
          },
          "metadata": {
            "needs_background": "light"
          }
        },
        {
          "output_type": "display_data",
          "data": {
            "text/plain": [
              "<Figure size 432x288 with 1 Axes>"
            ],
            "image/png": "[encoded data removed]"
          },
          "metadata": {
            "needs_background": "light"
          }
        },
        {
          "output_type": "display_data",
          "data": {
            "text/plain": [
              "<Figure size 432x288 with 1 Axes>"
            ],
            "image/png": "[encoded data removed]"
          },
          "metadata": {
            "needs_background": "light"
          }
        },
        {
          "output_type": "display_data",
          "data": {
            "text/plain": [
              "<Figure size 432x288 with 1 Axes>"
            ],
            "image/png": "[encoded data removed]"
          },
          "metadata": {
            "needs_background": "light"
          }
        },
        {
          "output_type": "display_data",
          "data": {
            "text/plain": [
              "<Figure size 432x288 with 1 Axes>"
            ],
            "image/png": "[encoded data removed]"
          },
          "metadata": {
            "needs_background": "light"
          }
        }
      ]
    },
    {
      "cell_type": "markdown",
      "source": [
        "# **NON-CUSTOMER BOXPLOTS**"
      ],
      "metadata": {
        "id": "cL5_yPyW6vFb"
      }
    },
    {
      "cell_type": "code",
      "source": [
        "#Utilizamos la función nc_boxplot creada previamente para crear los boxplots de non-customer con cada una de las variables\n",
        "nc_boxplot(\"Revenue\")\n",
        "nc_boxplot(\"CNT_EMPLOYEE\")\n",
        "nc_boxplot(\"Mobile_potential\")\n",
        "nc_boxplot(\"CNT_CB_DENSITY\")\n",
        "nc_boxplot(\"CNT_CB_MOB_DENSITY\")\n",
        "nc_boxplot(\"CNT_CB_FN_DENSITY\")"
      ],
      "metadata": {
        "colab": {
          "base_uri": "https://localhost:8080/",
          "height": 0
        },
        "id": "8u-5uTlD7GxC",
        "outputId": "cc46094f-8410-40bc-c126-19390912b812"
      },
      "execution_count": 174,
      "outputs": [
        {
          "output_type": "display_data",
          "data": {
            "text/plain": [
              "<Figure size 432x288 with 1 Axes>"
            ],
            "image/png": "[encoded data removed]"
          },
          "metadata": {
            "needs_background": "light"
          }
        },
        {
          "output_type": "display_data",
          "data": {
            "text/plain": [
              "<Figure size 432x288 with 1 Axes>"
            ],
            "image/png": "[encoded data removed]"
          },
          "metadata": {
            "needs_background": "light"
          }
        },
        {
          "output_type": "display_data",
          "data": {
            "text/plain": [
              "<Figure size 432x288 with 1 Axes>"
            ],
            "image/png": "[encoded data removed]"
          },
          "metadata": {
            "needs_background": "light"
          }
        },
        {
          "output_type": "display_data",
          "data": {
            "text/plain": [
              "<Figure size 432x288 with 1 Axes>"
            ],
            "image/png": "[encoded data removed]"
          },
          "metadata": {
            "needs_background": "light"
          }
        },
        {
          "output_type": "display_data",
          "data": {
            "text/plain": [
              "<Figure size 432x288 with 1 Axes>"
            ],
            "image/png": "[encoded data removed]"
          },
          "metadata": {
            "needs_background": "light"
          }
        },
        {
          "output_type": "display_data",
          "data": {
            "text/plain": [
              "<Figure size 432x288 with 1 Axes>"
            ],
            "image/png": "[encoded data removed]"
          },
          "metadata": {
            "needs_background": "light"
          }
        }
      ]
    },
    {
      "cell_type": "markdown",
      "source": [
        "# **DIFERÉNCIAS RESPECTO AL EJERCICIO 3**"
      ],
      "metadata": {
        "id": "FZrX41jv9V6u"
      }
    },
    {
      "cell_type": "markdown",
      "source": [
        "Podemos ver que el número de outliers disminuye considerablemente respecto al ejercicio anterior, debido a que hemos eliminado todos los valores mayores a 5*IQR en ambos datasets , aunque seguiremos teniendo outliers. \n",
        "\n",
        "Tambien podemos ver que como al eliminar los valores mas grandes a 5*IQR de cada una de las variables alguna ha sufrido alguna pequeña modificación , aunque cabe recalcar que la modificación es pequeña debido a que la media no es muy sensible con los outliers \n"
      ],
      "metadata": {
        "id": "-AYtoshI8K7M"
      }
    },
    {
      "cell_type": "markdown",
      "metadata": {
        "id": "QT-ULfjoKLhv"
      },
      "source": [
        "On the other hand, before applying any classification algorithm, it is necessary to transform non-numerical variables. The most common transformations are **coding as integer** or **coding as dummies**. Before deciding the mechanism it is important to analyze, for each categorical variable, their number of different values and their frequencies. In case of high number of possible values in comparision with the size of the dataset, **dummy** transformation could generate sparse matrix."
      ]
    },
    {
      "cell_type": "markdown",
      "metadata": {
        "id": "TfWf0K_-KLhv"
      },
      "source": [
        "[**EX5**] [**REPORT**] Calculate the ratio of the values of `City` for `customer_dt` and `noncustomer_dt` datasets. Compare the ratio of each category of each dataset."
      ]
    },
    {
      "cell_type": "markdown",
      "source": [
        "# **RATIO CUSTOMER**"
      ],
      "metadata": {
        "id": "XWscjvdJAiXS"
      }
    },
    {
      "cell_type": "code",
      "source": [
        "# RATIO CUSTOMER -----------------|\n",
        "customer_dt['City'].value_counts(normalize=True)"
      ],
      "metadata": {
        "colab": {
          "base_uri": "https://localhost:8080/"
        },
        "id": "rR_IklSVAXY-",
        "outputId": "6e540abc-41ff-47f5-d577-e931ffb8fec1"
      },
      "execution_count": 175,
      "outputs": [
        {
          "output_type": "execute_result",
          "data": {
            "text/plain": [
              "München         0.024059\n",
              "Köln            0.020921\n",
              "Chemnitz        0.017782\n",
              "Dresden         0.015690\n",
              "Berlin          0.015690\n",
              "                  ...   \n",
              "Hiddenhausen    0.001046\n",
              "Eppelheim       0.001046\n",
              "Flörsheim       0.001046\n",
              "Bad Abbach      0.001046\n",
              "Wedemark        0.001046\n",
              "Name: City, Length: 557, dtype: float64"
            ]
          },
          "metadata": {},
          "execution_count": 175
        }
      ]
    },
    {
      "cell_type": "markdown",
      "source": [
        "# **RATIO NON-CUSTOMER**"
      ],
      "metadata": {
        "id": "4p5ZUM0WAnFO"
      }
    },
    {
      "cell_type": "code",
      "source": [
        "# RATIO NON CUSTOMER -----------------|\n",
        "noncustomer_dt['City'].value_counts(normalize=True)"
      ],
      "metadata": {
        "colab": {
          "base_uri": "https://localhost:8080/"
        },
        "id": "nS4oTm8zAZcC",
        "outputId": "c75ff4b0-6dfb-45ae-a496-e47135345380"
      },
      "execution_count": 176,
      "outputs": [
        {
          "output_type": "execute_result",
          "data": {
            "text/plain": [
              "Köln          0.016093\n",
              "Bremen        0.009982\n",
              "Stuttgart     0.009778\n",
              "Dortmund      0.009371\n",
              "Dresden       0.009167\n",
              "                ...   \n",
              "Salzbergen    0.000204\n",
              "Bonstetten    0.000204\n",
              "Neusäß        0.000204\n",
              "Wolfhagen     0.000204\n",
              "Solms         0.000204\n",
              "Name: City, Length: 2126, dtype: float64"
            ]
          },
          "metadata": {},
          "execution_count": 176
        }
      ]
    },
    {
      "cell_type": "markdown",
      "metadata": {
        "id": "0bCyWWPTKLhy"
      },
      "source": [
        "As the number of distinct values is high, we will apply a **integer** encoding through the LabelEncoder() transformation as follows:"
      ]
    },
    {
      "cell_type": "code",
      "execution_count": 177,
      "metadata": {
        "id": "d3cN00r-KLhz"
      },
      "outputs": [],
      "source": [
        "City_Categ=customer_dt['City'].append(noncustomer_dt['City'])"
      ]
    },
    {
      "cell_type": "code",
      "execution_count": 178,
      "metadata": {
        "id": "9fKR-_uXKLh2"
      },
      "outputs": [],
      "source": [
        "city_encoder=LabelEncoder()\n",
        "city_encoder.fit(City_Categ.values)\n",
        "customer_dt['City_coded']=city_encoder.transform(customer_dt['City'].values)\n",
        "noncustomer_dt['City_coded']=city_encoder.transform(noncustomer_dt['City'].values)"
      ]
    },
    {
      "cell_type": "code",
      "execution_count": 179,
      "metadata": {
        "id": "azGmQ302KLh4",
        "colab": {
          "base_uri": "https://localhost:8080/",
          "height": 0
        },
        "outputId": "253f9623-0df3-4566-ab52-62c548f82b1b"
      },
      "outputs": [
        {
          "output_type": "execute_result",
          "data": {
            "text/plain": [
              "            City  Customer_Flag     Revenue  Sector  Legal_Form_Code  \\\n",
              "11548       Haar              1   4000000.0    42.0             14.0   \n",
              "11551    Greding              1  11780000.0    74.0              4.0   \n",
              "11553      Dörth              1   2050000.0    43.0             14.0   \n",
              "11554  Frankfurt              1    853500.0    63.0             14.0   \n",
              "11565  Benningen              1  10680000.0    74.0              4.0   \n",
              "\n",
              "       CNT_EMPLOYEE  CNT_CB_DENSITY  CNT_CB_MOB_DENSITY  CNT_CB_FN_DENSITY  \\\n",
              "11548            17           891.0               867.0               62.0   \n",
              "11551            53             7.0                 7.0                0.0   \n",
              "11553            16            30.0                30.0                1.0   \n",
              "11554            14           870.0               842.0               77.0   \n",
              "11565            17           319.0               317.0               10.0   \n",
              "\n",
              "       Mobile_potential  City_coded  \n",
              "11548       1846.104451         785  \n",
              "11551       2083.941040         723  \n",
              "11553       2209.827333         443  \n",
              "11554       2401.464693         592  \n",
              "11565       2579.765989         205  "
            ],
            "text/html": [
              "\n",
              "  <div id=\"df-dc2aac08-ac83-4685-848b-f1ce05f70b84\">\n",
              "    <div class=\"colab-df-container\">\n",
              "      <div>\n",
              "<style scoped>\n",
              "    .dataframe tbody tr th:only-of-type {\n",
              "        vertical-align: middle;\n",
              "    }\n",
              "\n",
              "    .dataframe tbody tr th {\n",
              "        vertical-align: top;\n",
              "    }\n",
              "\n",
              "    .dataframe thead th {\n",
              "        text-align: right;\n",
              "    }\n",
              "</style>\n",
              "<table border=\"1\" class=\"dataframe\">\n",
              "  <thead>\n",
              "    <tr style=\"text-align: right;\">\n",
              "      <th></th>\n",
              "      <th>City</th>\n",
              "      <th>Customer_Flag</th>\n",
              "      <th>Revenue</th>\n",
              "      <th>Sector</th>\n",
              "      <th>Legal_Form_Code</th>\n",
              "      <th>CNT_EMPLOYEE</th>\n",
              "      <th>CNT_CB_DENSITY</th>\n",
              "      <th>CNT_CB_MOB_DENSITY</th>\n",
              "      <th>CNT_CB_FN_DENSITY</th>\n",
              "      <th>Mobile_potential</th>\n",
              "      <th>City_coded</th>\n",
              "    </tr>\n",
              "  </thead>\n",
              "  <tbody>\n",
              "    <tr>\n",
              "      <th>11548</th>\n",
              "      <td>Haar</td>\n",
              "      <td>1</td>\n",
              "      <td>4000000.0</td>\n",
              "      <td>42.0</td>\n",
              "      <td>14.0</td>\n",
              "      <td>17</td>\n",
              "      <td>891.0</td>\n",
              "      <td>867.0</td>\n",
              "      <td>62.0</td>\n",
              "      <td>1846.104451</td>\n",
              "      <td>785</td>\n",
              "    </tr>\n",
              "    <tr>\n",
              "      <th>11551</th>\n",
              "      <td>Greding</td>\n",
              "      <td>1</td>\n",
              "      <td>11780000.0</td>\n",
              "      <td>74.0</td>\n",
              "      <td>4.0</td>\n",
              "      <td>53</td>\n",
              "      <td>7.0</td>\n",
              "      <td>7.0</td>\n",
              "      <td>0.0</td>\n",
              "      <td>2083.941040</td>\n",
              "      <td>723</td>\n",
              "    </tr>\n",
              "    <tr>\n",
              "      <th>11553</th>\n",
              "      <td>Dörth</td>\n",
              "      <td>1</td>\n",
              "      <td>2050000.0</td>\n",
              "      <td>43.0</td>\n",
              "      <td>14.0</td>\n",
              "      <td>16</td>\n",
              "      <td>30.0</td>\n",
              "      <td>30.0</td>\n",
              "      <td>1.0</td>\n",
              "      <td>2209.827333</td>\n",
              "      <td>443</td>\n",
              "    </tr>\n",
              "    <tr>\n",
              "      <th>11554</th>\n",
              "      <td>Frankfurt</td>\n",
              "      <td>1</td>\n",
              "      <td>853500.0</td>\n",
              "      <td>63.0</td>\n",
              "      <td>14.0</td>\n",
              "      <td>14</td>\n",
              "      <td>870.0</td>\n",
              "      <td>842.0</td>\n",
              "      <td>77.0</td>\n",
              "      <td>2401.464693</td>\n",
              "      <td>592</td>\n",
              "    </tr>\n",
              "    <tr>\n",
              "      <th>11565</th>\n",
              "      <td>Benningen</td>\n",
              "      <td>1</td>\n",
              "      <td>10680000.0</td>\n",
              "      <td>74.0</td>\n",
              "      <td>4.0</td>\n",
              "      <td>17</td>\n",
              "      <td>319.0</td>\n",
              "      <td>317.0</td>\n",
              "      <td>10.0</td>\n",
              "      <td>2579.765989</td>\n",
              "      <td>205</td>\n",
              "    </tr>\n",
              "  </tbody>\n",
              "</table>\n",
              "</div>\n",
              "      <button class=\"colab-df-convert\" onclick=\"convertToInteractive('df-dc2aac08-ac83-4685-848b-f1ce05f70b84')\"\n",
              "              title=\"Convert this dataframe to an interactive table.\"\n",
              "              style=\"display:none;\">\n",
              "        \n",
              "  <svg xmlns=\"http://www.w3.org/2000/svg\" height=\"24px\"viewBox=\"0 0 24 24\"\n",
              "       width=\"24px\">\n",
              "    <path d=\"M0 0h24v24H0V0z\" fill=\"none\"/>\n",
              "    <path d=\"M18.56 5.44l.94 2.06.94-2.06 2.06-.94-2.06-.94-.94-2.06-.94 2.06-2.06.94zm-11 1L8.5 8.5l.94-2.06 2.06-.94-2.06-.94L8.5 2.5l-.94 2.06-2.06.94zm10 10l.94 2.06.94-2.06 2.06-.94-2.06-.94-.94-2.06-.94 2.06-2.06.94z\"/><path d=\"M17.41 7.96l-1.37-1.37c-.4-.4-.92-.59-1.43-.59-.52 0-1.04.2-1.43.59L10.3 9.45l-7.72 7.72c-.78.78-.78 2.05 0 2.83L4 21.41c.39.39.9.59 1.41.59.51 0 1.02-.2 1.41-.59l7.78-7.78 2.81-2.81c.8-.78.8-2.07 0-2.86zM5.41 20L4 18.59l7.72-7.72 1.47 1.35L5.41 20z\"/>\n",
              "  </svg>\n",
              "      </button>\n",
              "      \n",
              "  <style>\n",
              "    .colab-df-container {\n",
              "      display:flex;\n",
              "      flex-wrap:wrap;\n",
              "      gap: 12px;\n",
              "    }\n",
              "\n",
              "    .colab-df-convert {\n",
              "      background-color: #E8F0FE;\n",
              "      border: none;\n",
              "      border-radius: 50%;\n",
              "      cursor: pointer;\n",
              "      display: none;\n",
              "      fill: #1967D2;\n",
              "      height: 32px;\n",
              "      padding: 0 0 0 0;\n",
              "      width: 32px;\n",
              "    }\n",
              "\n",
              "    .colab-df-convert:hover {\n",
              "      background-color: #E2EBFA;\n",
              "      box-shadow: 0px 1px 2px rgba(60, 64, 67, 0.3), 0px 1px 3px 1px rgba(60, 64, 67, 0.15);\n",
              "      fill: #174EA6;\n",
              "    }\n",
              "\n",
              "    [theme=dark] .colab-df-convert {\n",
              "      background-color: #3B4455;\n",
              "      fill: #D2E3FC;\n",
              "    }\n",
              "\n",
              "    [theme=dark] .colab-df-convert:hover {\n",
              "      background-color: #434B5C;\n",
              "      box-shadow: 0px 1px 3px 1px rgba(0, 0, 0, 0.15);\n",
              "      filter: drop-shadow(0px 1px 2px rgba(0, 0, 0, 0.3));\n",
              "      fill: #FFFFFF;\n",
              "    }\n",
              "  </style>\n",
              "\n",
              "      <script>\n",
              "        const buttonEl =\n",
              "          document.querySelector('#df-dc2aac08-ac83-4685-848b-f1ce05f70b84 button.colab-df-convert');\n",
              "        buttonEl.style.display =\n",
              "          google.colab.kernel.accessAllowed ? 'block' : 'none';\n",
              "\n",
              "        async function convertToInteractive(key) {\n",
              "          const element = document.querySelector('#df-dc2aac08-ac83-4685-848b-f1ce05f70b84');\n",
              "          const dataTable =\n",
              "            await google.colab.kernel.invokeFunction('convertToInteractive',\n",
              "                                                     [key], {});\n",
              "          if (!dataTable) return;\n",
              "\n",
              "          const docLinkHtml = 'Like what you see? Visit the ' +\n",
              "            '<a target=\"_blank\" href=https://colab.research.google.com/notebooks/data_table.ipynb>data table notebook</a>'\n",
              "            + ' to learn more about interactive tables.';\n",
              "          element.innerHTML = '';\n",
              "          dataTable['output_type'] = 'display_data';\n",
              "          await google.colab.output.renderOutput(dataTable, element);\n",
              "          const docLink = document.createElement('div');\n",
              "          docLink.innerHTML = docLinkHtml;\n",
              "          element.appendChild(docLink);\n",
              "        }\n",
              "      </script>\n",
              "    </div>\n",
              "  </div>\n",
              "  "
            ]
          },
          "metadata": {},
          "execution_count": 179
        }
      ],
      "source": [
        "customer_dt.head()"
      ]
    },
    {
      "cell_type": "markdown",
      "metadata": {
        "id": "i5BjRBWgKLh7"
      },
      "source": [
        "[**EX5**] [**CODE**] Finally before entering in the training stage,  let's create a `final_dataset` that is the result of stacking `customer_dt`and `noncustomer_dt`considering the following variables: `City_coded`, `Revenue`, `Sector`, `Legal_Form_Code`, `CNT_EMPLOYEE`, `CNT_CB_DENSITY`, `CNT_CB_MOB_DENSITY`, `CNT_CB_FN_DENSITY`and `Mobile_potential`. The 'final_dataset' should include a new variable, `Target`, that takes value **0** for noncustomers and **1** for customers registers. The `Target` will distiguish the two classes to train the model."
      ]
    },
    {
      "cell_type": "code",
      "source": [
        "# Juntamos ambos datasets en un dataset final\n",
        "final_dataset = customer_dt.append(noncustomer_dt)\n",
        "final_dataset['Target'] = customer_dt['Customer_Flag'].append(noncustomer_dt['Customer_Flag'])\n",
        "\n",
        "var_names = ['City_coded', 'Revenue', 'Sector', 'Legal_Form_Code', 'CNT_EMPLOYEE', 'CNT_CB_DENSITY', 'CNT_CB_MOB_DENSITY', 'CNT_CB_FN_DENSITY', 'Mobile_potential', 'Target']\n",
        "final_dataset = final_dataset[var_names]\n",
        "\n",
        "# Mostramos el nuevo dataset final:\n"
      ],
      "metadata": {
        "id": "4DqPGdzyBI58"
      },
      "execution_count": 180,
      "outputs": []
    },
    {
      "cell_type": "markdown",
      "metadata": {
        "id": "yKmKSuHlKLh-"
      },
      "source": [
        "The output should look like this:"
      ]
    },
    {
      "cell_type": "code",
      "execution_count": 181,
      "metadata": {
        "id": "m4o5gxjCKLh_",
        "colab": {
          "base_uri": "https://localhost:8080/",
          "height": 0
        },
        "outputId": "8fbb1b20-c385-4923-a5f9-c8fe45428153"
      },
      "outputs": [
        {
          "output_type": "execute_result",
          "data": {
            "text/plain": [
              "       City_coded     Revenue  Sector  Legal_Form_Code  CNT_EMPLOYEE  \\\n",
              "11548         785   4000000.0    42.0             14.0            17   \n",
              "11551         723  11780000.0    74.0              4.0            53   \n",
              "11553         443   2050000.0    43.0             14.0            16   \n",
              "11554         592    853500.0    63.0             14.0            14   \n",
              "11565         205  10680000.0    74.0              4.0            17   \n",
              "\n",
              "       CNT_CB_DENSITY  CNT_CB_MOB_DENSITY  CNT_CB_FN_DENSITY  \\\n",
              "11548           891.0               867.0               62.0   \n",
              "11551             7.0                 7.0                0.0   \n",
              "11553            30.0                30.0                1.0   \n",
              "11554           870.0               842.0               77.0   \n",
              "11565           319.0               317.0               10.0   \n",
              "\n",
              "       Mobile_potential  Target  \n",
              "11548       1846.104451       1  \n",
              "11551       2083.941040       1  \n",
              "11553       2209.827333       1  \n",
              "11554       2401.464693       1  \n",
              "11565       2579.765989       1  "
            ],
            "text/html": [
              "\n",
              "  <div id=\"df-d1f9c09f-218f-4baf-8ca7-15836947d4bf\">\n",
              "    <div class=\"colab-df-container\">\n",
              "      <div>\n",
              "<style scoped>\n",
              "    .dataframe tbody tr th:only-of-type {\n",
              "        vertical-align: middle;\n",
              "    }\n",
              "\n",
              "    .dataframe tbody tr th {\n",
              "        vertical-align: top;\n",
              "    }\n",
              "\n",
              "    .dataframe thead th {\n",
              "        text-align: right;\n",
              "    }\n",
              "</style>\n",
              "<table border=\"1\" class=\"dataframe\">\n",
              "  <thead>\n",
              "    <tr style=\"text-align: right;\">\n",
              "      <th></th>\n",
              "      <th>City_coded</th>\n",
              "      <th>Revenue</th>\n",
              "      <th>Sector</th>\n",
              "      <th>Legal_Form_Code</th>\n",
              "      <th>CNT_EMPLOYEE</th>\n",
              "      <th>CNT_CB_DENSITY</th>\n",
              "      <th>CNT_CB_MOB_DENSITY</th>\n",
              "      <th>CNT_CB_FN_DENSITY</th>\n",
              "      <th>Mobile_potential</th>\n",
              "      <th>Target</th>\n",
              "    </tr>\n",
              "  </thead>\n",
              "  <tbody>\n",
              "    <tr>\n",
              "      <th>11548</th>\n",
              "      <td>785</td>\n",
              "      <td>4000000.0</td>\n",
              "      <td>42.0</td>\n",
              "      <td>14.0</td>\n",
              "      <td>17</td>\n",
              "      <td>891.0</td>\n",
              "      <td>867.0</td>\n",
              "      <td>62.0</td>\n",
              "      <td>1846.104451</td>\n",
              "      <td>1</td>\n",
              "    </tr>\n",
              "    <tr>\n",
              "      <th>11551</th>\n",
              "      <td>723</td>\n",
              "      <td>11780000.0</td>\n",
              "      <td>74.0</td>\n",
              "      <td>4.0</td>\n",
              "      <td>53</td>\n",
              "      <td>7.0</td>\n",
              "      <td>7.0</td>\n",
              "      <td>0.0</td>\n",
              "      <td>2083.941040</td>\n",
              "      <td>1</td>\n",
              "    </tr>\n",
              "    <tr>\n",
              "      <th>11553</th>\n",
              "      <td>443</td>\n",
              "      <td>2050000.0</td>\n",
              "      <td>43.0</td>\n",
              "      <td>14.0</td>\n",
              "      <td>16</td>\n",
              "      <td>30.0</td>\n",
              "      <td>30.0</td>\n",
              "      <td>1.0</td>\n",
              "      <td>2209.827333</td>\n",
              "      <td>1</td>\n",
              "    </tr>\n",
              "    <tr>\n",
              "      <th>11554</th>\n",
              "      <td>592</td>\n",
              "      <td>853500.0</td>\n",
              "      <td>63.0</td>\n",
              "      <td>14.0</td>\n",
              "      <td>14</td>\n",
              "      <td>870.0</td>\n",
              "      <td>842.0</td>\n",
              "      <td>77.0</td>\n",
              "      <td>2401.464693</td>\n",
              "      <td>1</td>\n",
              "    </tr>\n",
              "    <tr>\n",
              "      <th>11565</th>\n",
              "      <td>205</td>\n",
              "      <td>10680000.0</td>\n",
              "      <td>74.0</td>\n",
              "      <td>4.0</td>\n",
              "      <td>17</td>\n",
              "      <td>319.0</td>\n",
              "      <td>317.0</td>\n",
              "      <td>10.0</td>\n",
              "      <td>2579.765989</td>\n",
              "      <td>1</td>\n",
              "    </tr>\n",
              "  </tbody>\n",
              "</table>\n",
              "</div>\n",
              "      <button class=\"colab-df-convert\" onclick=\"convertToInteractive('df-d1f9c09f-218f-4baf-8ca7-15836947d4bf')\"\n",
              "              title=\"Convert this dataframe to an interactive table.\"\n",
              "              style=\"display:none;\">\n",
              "        \n",
              "  <svg xmlns=\"http://www.w3.org/2000/svg\" height=\"24px\"viewBox=\"0 0 24 24\"\n",
              "       width=\"24px\">\n",
              "    <path d=\"M0 0h24v24H0V0z\" fill=\"none\"/>\n",
              "    <path d=\"M18.56 5.44l.94 2.06.94-2.06 2.06-.94-2.06-.94-.94-2.06-.94 2.06-2.06.94zm-11 1L8.5 8.5l.94-2.06 2.06-.94-2.06-.94L8.5 2.5l-.94 2.06-2.06.94zm10 10l.94 2.06.94-2.06 2.06-.94-2.06-.94-.94-2.06-.94 2.06-2.06.94z\"/><path d=\"M17.41 7.96l-1.37-1.37c-.4-.4-.92-.59-1.43-.59-.52 0-1.04.2-1.43.59L10.3 9.45l-7.72 7.72c-.78.78-.78 2.05 0 2.83L4 21.41c.39.39.9.59 1.41.59.51 0 1.02-.2 1.41-.59l7.78-7.78 2.81-2.81c.8-.78.8-2.07 0-2.86zM5.41 20L4 18.59l7.72-7.72 1.47 1.35L5.41 20z\"/>\n",
              "  </svg>\n",
              "      </button>\n",
              "      \n",
              "  <style>\n",
              "    .colab-df-container {\n",
              "      display:flex;\n",
              "      flex-wrap:wrap;\n",
              "      gap: 12px;\n",
              "    }\n",
              "\n",
              "    .colab-df-convert {\n",
              "      background-color: #E8F0FE;\n",
              "      border: none;\n",
              "      border-radius: 50%;\n",
              "      cursor: pointer;\n",
              "      display: none;\n",
              "      fill: #1967D2;\n",
              "      height: 32px;\n",
              "      padding: 0 0 0 0;\n",
              "      width: 32px;\n",
              "    }\n",
              "\n",
              "    .colab-df-convert:hover {\n",
              "      background-color: #E2EBFA;\n",
              "      box-shadow: 0px 1px 2px rgba(60, 64, 67, 0.3), 0px 1px 3px 1px rgba(60, 64, 67, 0.15);\n",
              "      fill: #174EA6;\n",
              "    }\n",
              "\n",
              "    [theme=dark] .colab-df-convert {\n",
              "      background-color: #3B4455;\n",
              "      fill: #D2E3FC;\n",
              "    }\n",
              "\n",
              "    [theme=dark] .colab-df-convert:hover {\n",
              "      background-color: #434B5C;\n",
              "      box-shadow: 0px 1px 3px 1px rgba(0, 0, 0, 0.15);\n",
              "      filter: drop-shadow(0px 1px 2px rgba(0, 0, 0, 0.3));\n",
              "      fill: #FFFFFF;\n",
              "    }\n",
              "  </style>\n",
              "\n",
              "      <script>\n",
              "        const buttonEl =\n",
              "          document.querySelector('#df-d1f9c09f-218f-4baf-8ca7-15836947d4bf button.colab-df-convert');\n",
              "        buttonEl.style.display =\n",
              "          google.colab.kernel.accessAllowed ? 'block' : 'none';\n",
              "\n",
              "        async function convertToInteractive(key) {\n",
              "          const element = document.querySelector('#df-d1f9c09f-218f-4baf-8ca7-15836947d4bf');\n",
              "          const dataTable =\n",
              "            await google.colab.kernel.invokeFunction('convertToInteractive',\n",
              "                                                     [key], {});\n",
              "          if (!dataTable) return;\n",
              "\n",
              "          const docLinkHtml = 'Like what you see? Visit the ' +\n",
              "            '<a target=\"_blank\" href=https://colab.research.google.com/notebooks/data_table.ipynb>data table notebook</a>'\n",
              "            + ' to learn more about interactive tables.';\n",
              "          element.innerHTML = '';\n",
              "          dataTable['output_type'] = 'display_data';\n",
              "          await google.colab.output.renderOutput(dataTable, element);\n",
              "          const docLink = document.createElement('div');\n",
              "          docLink.innerHTML = docLinkHtml;\n",
              "          element.appendChild(docLink);\n",
              "        }\n",
              "      </script>\n",
              "    </div>\n",
              "  </div>\n",
              "  "
            ]
          },
          "metadata": {},
          "execution_count": 181
        }
      ],
      "source": [
        "final_dataset.head()"
      ]
    },
    {
      "cell_type": "code",
      "execution_count": 182,
      "metadata": {
        "id": "zcWcoMGbKLiB",
        "colab": {
          "base_uri": "https://localhost:8080/",
          "height": 0
        },
        "outputId": "1b9414cd-95e7-40f9-d408-c04c16b8a1c2"
      },
      "outputs": [
        {
          "output_type": "execute_result",
          "data": {
            "text/plain": [
              "       City_coded    Revenue  Sector  Legal_Form_Code  CNT_EMPLOYEE  \\\n",
              "11542         734  6391606.0    60.0             20.0            24   \n",
              "11543        1867   305000.0    60.0              4.0            13   \n",
              "11544         596  4200000.0    23.0             14.0            54   \n",
              "11545        1913  1336495.0    60.0             16.0            20   \n",
              "11546         982  4593054.0    64.0             14.0            44   \n",
              "\n",
              "       CNT_CB_DENSITY  CNT_CB_MOB_DENSITY  CNT_CB_FN_DENSITY  \\\n",
              "11542            57.0                57.0                0.0   \n",
              "11543             9.0                 9.0                0.0   \n",
              "11544            62.0                62.0                6.0   \n",
              "11545            63.0                61.0                2.0   \n",
              "11546            90.0                90.0                5.0   \n",
              "\n",
              "       Mobile_potential  Target  \n",
              "11542       2102.700888       0  \n",
              "11543       1548.889725       0  \n",
              "11544       2388.407248       0  \n",
              "11545       2657.602909       0  \n",
              "11546       2126.540797       0  "
            ],
            "text/html": [
              "\n",
              "  <div id=\"df-26b9034b-d1b7-4fd6-93d3-a388fcdc31b7\">\n",
              "    <div class=\"colab-df-container\">\n",
              "      <div>\n",
              "<style scoped>\n",
              "    .dataframe tbody tr th:only-of-type {\n",
              "        vertical-align: middle;\n",
              "    }\n",
              "\n",
              "    .dataframe tbody tr th {\n",
              "        vertical-align: top;\n",
              "    }\n",
              "\n",
              "    .dataframe thead th {\n",
              "        text-align: right;\n",
              "    }\n",
              "</style>\n",
              "<table border=\"1\" class=\"dataframe\">\n",
              "  <thead>\n",
              "    <tr style=\"text-align: right;\">\n",
              "      <th></th>\n",
              "      <th>City_coded</th>\n",
              "      <th>Revenue</th>\n",
              "      <th>Sector</th>\n",
              "      <th>Legal_Form_Code</th>\n",
              "      <th>CNT_EMPLOYEE</th>\n",
              "      <th>CNT_CB_DENSITY</th>\n",
              "      <th>CNT_CB_MOB_DENSITY</th>\n",
              "      <th>CNT_CB_FN_DENSITY</th>\n",
              "      <th>Mobile_potential</th>\n",
              "      <th>Target</th>\n",
              "    </tr>\n",
              "  </thead>\n",
              "  <tbody>\n",
              "    <tr>\n",
              "      <th>11542</th>\n",
              "      <td>734</td>\n",
              "      <td>6391606.0</td>\n",
              "      <td>60.0</td>\n",
              "      <td>20.0</td>\n",
              "      <td>24</td>\n",
              "      <td>57.0</td>\n",
              "      <td>57.0</td>\n",
              "      <td>0.0</td>\n",
              "      <td>2102.700888</td>\n",
              "      <td>0</td>\n",
              "    </tr>\n",
              "    <tr>\n",
              "      <th>11543</th>\n",
              "      <td>1867</td>\n",
              "      <td>305000.0</td>\n",
              "      <td>60.0</td>\n",
              "      <td>4.0</td>\n",
              "      <td>13</td>\n",
              "      <td>9.0</td>\n",
              "      <td>9.0</td>\n",
              "      <td>0.0</td>\n",
              "      <td>1548.889725</td>\n",
              "      <td>0</td>\n",
              "    </tr>\n",
              "    <tr>\n",
              "      <th>11544</th>\n",
              "      <td>596</td>\n",
              "      <td>4200000.0</td>\n",
              "      <td>23.0</td>\n",
              "      <td>14.0</td>\n",
              "      <td>54</td>\n",
              "      <td>62.0</td>\n",
              "      <td>62.0</td>\n",
              "      <td>6.0</td>\n",
              "      <td>2388.407248</td>\n",
              "      <td>0</td>\n",
              "    </tr>\n",
              "    <tr>\n",
              "      <th>11545</th>\n",
              "      <td>1913</td>\n",
              "      <td>1336495.0</td>\n",
              "      <td>60.0</td>\n",
              "      <td>16.0</td>\n",
              "      <td>20</td>\n",
              "      <td>63.0</td>\n",
              "      <td>61.0</td>\n",
              "      <td>2.0</td>\n",
              "      <td>2657.602909</td>\n",
              "      <td>0</td>\n",
              "    </tr>\n",
              "    <tr>\n",
              "      <th>11546</th>\n",
              "      <td>982</td>\n",
              "      <td>4593054.0</td>\n",
              "      <td>64.0</td>\n",
              "      <td>14.0</td>\n",
              "      <td>44</td>\n",
              "      <td>90.0</td>\n",
              "      <td>90.0</td>\n",
              "      <td>5.0</td>\n",
              "      <td>2126.540797</td>\n",
              "      <td>0</td>\n",
              "    </tr>\n",
              "  </tbody>\n",
              "</table>\n",
              "</div>\n",
              "      <button class=\"colab-df-convert\" onclick=\"convertToInteractive('df-26b9034b-d1b7-4fd6-93d3-a388fcdc31b7')\"\n",
              "              title=\"Convert this dataframe to an interactive table.\"\n",
              "              style=\"display:none;\">\n",
              "        \n",
              "  <svg xmlns=\"http://www.w3.org/2000/svg\" height=\"24px\"viewBox=\"0 0 24 24\"\n",
              "       width=\"24px\">\n",
              "    <path d=\"M0 0h24v24H0V0z\" fill=\"none\"/>\n",
              "    <path d=\"M18.56 5.44l.94 2.06.94-2.06 2.06-.94-2.06-.94-.94-2.06-.94 2.06-2.06.94zm-11 1L8.5 8.5l.94-2.06 2.06-.94-2.06-.94L8.5 2.5l-.94 2.06-2.06.94zm10 10l.94 2.06.94-2.06 2.06-.94-2.06-.94-.94-2.06-.94 2.06-2.06.94z\"/><path d=\"M17.41 7.96l-1.37-1.37c-.4-.4-.92-.59-1.43-.59-.52 0-1.04.2-1.43.59L10.3 9.45l-7.72 7.72c-.78.78-.78 2.05 0 2.83L4 21.41c.39.39.9.59 1.41.59.51 0 1.02-.2 1.41-.59l7.78-7.78 2.81-2.81c.8-.78.8-2.07 0-2.86zM5.41 20L4 18.59l7.72-7.72 1.47 1.35L5.41 20z\"/>\n",
              "  </svg>\n",
              "      </button>\n",
              "      \n",
              "  <style>\n",
              "    .colab-df-container {\n",
              "      display:flex;\n",
              "      flex-wrap:wrap;\n",
              "      gap: 12px;\n",
              "    }\n",
              "\n",
              "    .colab-df-convert {\n",
              "      background-color: #E8F0FE;\n",
              "      border: none;\n",
              "      border-radius: 50%;\n",
              "      cursor: pointer;\n",
              "      display: none;\n",
              "      fill: #1967D2;\n",
              "      height: 32px;\n",
              "      padding: 0 0 0 0;\n",
              "      width: 32px;\n",
              "    }\n",
              "\n",
              "    .colab-df-convert:hover {\n",
              "      background-color: #E2EBFA;\n",
              "      box-shadow: 0px 1px 2px rgba(60, 64, 67, 0.3), 0px 1px 3px 1px rgba(60, 64, 67, 0.15);\n",
              "      fill: #174EA6;\n",
              "    }\n",
              "\n",
              "    [theme=dark] .colab-df-convert {\n",
              "      background-color: #3B4455;\n",
              "      fill: #D2E3FC;\n",
              "    }\n",
              "\n",
              "    [theme=dark] .colab-df-convert:hover {\n",
              "      background-color: #434B5C;\n",
              "      box-shadow: 0px 1px 3px 1px rgba(0, 0, 0, 0.15);\n",
              "      filter: drop-shadow(0px 1px 2px rgba(0, 0, 0, 0.3));\n",
              "      fill: #FFFFFF;\n",
              "    }\n",
              "  </style>\n",
              "\n",
              "      <script>\n",
              "        const buttonEl =\n",
              "          document.querySelector('#df-26b9034b-d1b7-4fd6-93d3-a388fcdc31b7 button.colab-df-convert');\n",
              "        buttonEl.style.display =\n",
              "          google.colab.kernel.accessAllowed ? 'block' : 'none';\n",
              "\n",
              "        async function convertToInteractive(key) {\n",
              "          const element = document.querySelector('#df-26b9034b-d1b7-4fd6-93d3-a388fcdc31b7');\n",
              "          const dataTable =\n",
              "            await google.colab.kernel.invokeFunction('convertToInteractive',\n",
              "                                                     [key], {});\n",
              "          if (!dataTable) return;\n",
              "\n",
              "          const docLinkHtml = 'Like what you see? Visit the ' +\n",
              "            '<a target=\"_blank\" href=https://colab.research.google.com/notebooks/data_table.ipynb>data table notebook</a>'\n",
              "            + ' to learn more about interactive tables.';\n",
              "          element.innerHTML = '';\n",
              "          dataTable['output_type'] = 'display_data';\n",
              "          await google.colab.output.renderOutput(dataTable, element);\n",
              "          const docLink = document.createElement('div');\n",
              "          docLink.innerHTML = docLinkHtml;\n",
              "          element.appendChild(docLink);\n",
              "        }\n",
              "      </script>\n",
              "    </div>\n",
              "  </div>\n",
              "  "
            ]
          },
          "metadata": {},
          "execution_count": 182
        }
      ],
      "source": [
        "final_dataset.tail()"
      ]
    },
    {
      "cell_type": "markdown",
      "metadata": {
        "id": "riT4OdRHKLiD"
      },
      "source": [
        "To measure the quality of our classifiers, it is necessary to train and test the models with different datasets. For this objective we will use [train_test_split](https://scikit-learn.org/stable/modules/generated/sklearn.model_selection.train_test_split.html) function to generate 4 new datasets: 2 for training and 2 for test: \n",
        "- `X_train`: contains all variables except `Target` for the 80% of `final_dataset`,\n",
        "- `y_train`: contains `Target`variables for the 80% of `final_dataset`, \n",
        "- `X_test`: contains all variables except `Target` for the 20% of `final_dataset`,\n",
        "- `y_test`: contains `Target`variables for the 20% of `final_dataset`."
      ]
    },
    {
      "cell_type": "code",
      "execution_count": 183,
      "metadata": {
        "id": "53-vr7DKKLiD"
      },
      "outputs": [],
      "source": [
        "X_train, X_test, y_train, y_test= train_test_split (final_dataset.iloc[:,:-1], final_dataset.iloc[:,-1], test_size=0.20, random_state=42)  # Modificamos el test_size a 0,20"
      ]
    },
    {
      "cell_type": "markdown",
      "metadata": {
        "id": "n-pLvA3EKLiJ"
      },
      "source": [
        "[**EX6**] [**REPORT**] Calculate the lenght of `X_train` and `X_test` datasets. Is it aligned with the `test_size`value selected in the split?"
      ]
    },
    {
      "cell_type": "code",
      "source": [
        "# Con la funcion len podemos obtener las longitudes de cada uno de los datasets\n",
        "print(\"Longitud de X_train: \", len(X_train))\n",
        "print(\"Longitud de X_test: \", len(X_test))\n",
        "\n",
        "# Printamos tambien la longitud del 20% y el 80% del dataset final para poder verificar que corresponde con la longitud del x_test y x_train respectivamente\n",
        "print(\"Longitud de final_dataset (20%): \", len(final_dataset)*0.2)\n",
        "print(\"Longitud de final_dataset (80%): \", len(final_dataset)*0.8)\n"
      ],
      "metadata": {
        "colab": {
          "base_uri": "https://localhost:8080/"
        },
        "id": "tdm1Cah9XC4W",
        "outputId": "4987b337-83f0-4a44-cfdb-8135194a2c78"
      },
      "execution_count": 184,
      "outputs": [
        {
          "output_type": "stream",
          "name": "stdout",
          "text": [
            "Longitud de X_train:  4692\n",
            "Longitud de X_test:  1173\n",
            "Longitud de final_dataset (20%):  1173.0\n",
            "Longitud de final_dataset (80%):  4692.0\n"
          ]
        }
      ]
    },
    {
      "cell_type": "code",
      "source": [
        "X_train"
      ],
      "metadata": {
        "colab": {
          "base_uri": "https://localhost:8080/",
          "height": 0
        },
        "id": "wzDEDJd-vzlA",
        "outputId": "2a2d002a-f732-4c92-9fa4-c04d88704afa"
      },
      "execution_count": 185,
      "outputs": [
        {
          "output_type": "execute_result",
          "data": {
            "text/plain": [
              "       City_coded     Revenue  Sector  Legal_Form_Code  CNT_EMPLOYEE  \\\n",
              "7960         1046    600000.0    76.0              4.0            11   \n",
              "3666          828    650000.0    43.0             31.0            13   \n",
              "11891        1126  10293108.0    62.0             14.0            45   \n",
              "2687           15    800000.0    47.0             14.0            15   \n",
              "10970         106   2150000.0    23.0             14.0            20   \n",
              "...           ...         ...     ...              ...           ...   \n",
              "5330          596   1000000.0    63.0             14.0            14   \n",
              "8496         1347     65000.0    31.0              4.0            22   \n",
              "8940         1283   1500000.0    44.0             31.0            19   \n",
              "10511         431  11789764.0    42.0             14.0            15   \n",
              "12917        1495   4300000.0    41.0             14.0            11   \n",
              "\n",
              "       CNT_CB_DENSITY  CNT_CB_MOB_DENSITY  CNT_CB_FN_DENSITY  Mobile_potential  \n",
              "7960            151.0               147.0               12.0       1972.354419  \n",
              "3666             26.0                26.0                0.0       1621.528745  \n",
              "11891          1062.0              1046.0               49.0       2389.105026  \n",
              "2687            216.0               183.0               63.0       1999.283002  \n",
              "10970             9.0                 9.0                0.0       2276.088037  \n",
              "...               ...                 ...                ...               ...  \n",
              "5330             62.0                62.0                6.0       1505.291561  \n",
              "8496            415.0               412.0               22.0       2445.165717  \n",
              "8940            571.0               560.0               37.0       2556.494244  \n",
              "10511           493.0               481.0               29.0       2543.417778  \n",
              "12917           441.0               430.0               41.0       2521.253153  \n",
              "\n",
              "[4692 rows x 9 columns]"
            ],
            "text/html": [
              "\n",
              "  <div id=\"df-64aacb4d-6ce3-4782-98a3-bb9504191305\">\n",
              "    <div class=\"colab-df-container\">\n",
              "      <div>\n",
              "<style scoped>\n",
              "    .dataframe tbody tr th:only-of-type {\n",
              "        vertical-align: middle;\n",
              "    }\n",
              "\n",
              "    .dataframe tbody tr th {\n",
              "        vertical-align: top;\n",
              "    }\n",
              "\n",
              "    .dataframe thead th {\n",
              "        text-align: right;\n",
              "    }\n",
              "</style>\n",
              "<table border=\"1\" class=\"dataframe\">\n",
              "  <thead>\n",
              "    <tr style=\"text-align: right;\">\n",
              "      <th></th>\n",
              "      <th>City_coded</th>\n",
              "      <th>Revenue</th>\n",
              "      <th>Sector</th>\n",
              "      <th>Legal_Form_Code</th>\n",
              "      <th>CNT_EMPLOYEE</th>\n",
              "      <th>CNT_CB_DENSITY</th>\n",
              "      <th>CNT_CB_MOB_DENSITY</th>\n",
              "      <th>CNT_CB_FN_DENSITY</th>\n",
              "      <th>Mobile_potential</th>\n",
              "    </tr>\n",
              "  </thead>\n",
              "  <tbody>\n",
              "    <tr>\n",
              "      <th>7960</th>\n",
              "      <td>1046</td>\n",
              "      <td>600000.0</td>\n",
              "      <td>76.0</td>\n",
              "      <td>4.0</td>\n",
              "      <td>11</td>\n",
              "      <td>151.0</td>\n",
              "      <td>147.0</td>\n",
              "      <td>12.0</td>\n",
              "      <td>1972.354419</td>\n",
              "    </tr>\n",
              "    <tr>\n",
              "      <th>3666</th>\n",
              "      <td>828</td>\n",
              "      <td>650000.0</td>\n",
              "      <td>43.0</td>\n",
              "      <td>31.0</td>\n",
              "      <td>13</td>\n",
              "      <td>26.0</td>\n",
              "      <td>26.0</td>\n",
              "      <td>0.0</td>\n",
              "      <td>1621.528745</td>\n",
              "    </tr>\n",
              "    <tr>\n",
              "      <th>11891</th>\n",
              "      <td>1126</td>\n",
              "      <td>10293108.0</td>\n",
              "      <td>62.0</td>\n",
              "      <td>14.0</td>\n",
              "      <td>45</td>\n",
              "      <td>1062.0</td>\n",
              "      <td>1046.0</td>\n",
              "      <td>49.0</td>\n",
              "      <td>2389.105026</td>\n",
              "    </tr>\n",
              "    <tr>\n",
              "      <th>2687</th>\n",
              "      <td>15</td>\n",
              "      <td>800000.0</td>\n",
              "      <td>47.0</td>\n",
              "      <td>14.0</td>\n",
              "      <td>15</td>\n",
              "      <td>216.0</td>\n",
              "      <td>183.0</td>\n",
              "      <td>63.0</td>\n",
              "      <td>1999.283002</td>\n",
              "    </tr>\n",
              "    <tr>\n",
              "      <th>10970</th>\n",
              "      <td>106</td>\n",
              "      <td>2150000.0</td>\n",
              "      <td>23.0</td>\n",
              "      <td>14.0</td>\n",
              "      <td>20</td>\n",
              "      <td>9.0</td>\n",
              "      <td>9.0</td>\n",
              "      <td>0.0</td>\n",
              "      <td>2276.088037</td>\n",
              "    </tr>\n",
              "    <tr>\n",
              "      <th>...</th>\n",
              "      <td>...</td>\n",
              "      <td>...</td>\n",
              "      <td>...</td>\n",
              "      <td>...</td>\n",
              "      <td>...</td>\n",
              "      <td>...</td>\n",
              "      <td>...</td>\n",
              "      <td>...</td>\n",
              "      <td>...</td>\n",
              "    </tr>\n",
              "    <tr>\n",
              "      <th>5330</th>\n",
              "      <td>596</td>\n",
              "      <td>1000000.0</td>\n",
              "      <td>63.0</td>\n",
              "      <td>14.0</td>\n",
              "      <td>14</td>\n",
              "      <td>62.0</td>\n",
              "      <td>62.0</td>\n",
              "      <td>6.0</td>\n",
              "      <td>1505.291561</td>\n",
              "    </tr>\n",
              "    <tr>\n",
              "      <th>8496</th>\n",
              "      <td>1347</td>\n",
              "      <td>65000.0</td>\n",
              "      <td>31.0</td>\n",
              "      <td>4.0</td>\n",
              "      <td>22</td>\n",
              "      <td>415.0</td>\n",
              "      <td>412.0</td>\n",
              "      <td>22.0</td>\n",
              "      <td>2445.165717</td>\n",
              "    </tr>\n",
              "    <tr>\n",
              "      <th>8940</th>\n",
              "      <td>1283</td>\n",
              "      <td>1500000.0</td>\n",
              "      <td>44.0</td>\n",
              "      <td>31.0</td>\n",
              "      <td>19</td>\n",
              "      <td>571.0</td>\n",
              "      <td>560.0</td>\n",
              "      <td>37.0</td>\n",
              "      <td>2556.494244</td>\n",
              "    </tr>\n",
              "    <tr>\n",
              "      <th>10511</th>\n",
              "      <td>431</td>\n",
              "      <td>11789764.0</td>\n",
              "      <td>42.0</td>\n",
              "      <td>14.0</td>\n",
              "      <td>15</td>\n",
              "      <td>493.0</td>\n",
              "      <td>481.0</td>\n",
              "      <td>29.0</td>\n",
              "      <td>2543.417778</td>\n",
              "    </tr>\n",
              "    <tr>\n",
              "      <th>12917</th>\n",
              "      <td>1495</td>\n",
              "      <td>4300000.0</td>\n",
              "      <td>41.0</td>\n",
              "      <td>14.0</td>\n",
              "      <td>11</td>\n",
              "      <td>441.0</td>\n",
              "      <td>430.0</td>\n",
              "      <td>41.0</td>\n",
              "      <td>2521.253153</td>\n",
              "    </tr>\n",
              "  </tbody>\n",
              "</table>\n",
              "<p>4692 rows × 9 columns</p>\n",
              "</div>\n",
              "      <button class=\"colab-df-convert\" onclick=\"convertToInteractive('df-64aacb4d-6ce3-4782-98a3-bb9504191305')\"\n",
              "              title=\"Convert this dataframe to an interactive table.\"\n",
              "              style=\"display:none;\">\n",
              "        \n",
              "  <svg xmlns=\"http://www.w3.org/2000/svg\" height=\"24px\"viewBox=\"0 0 24 24\"\n",
              "       width=\"24px\">\n",
              "    <path d=\"M0 0h24v24H0V0z\" fill=\"none\"/>\n",
              "    <path d=\"M18.56 5.44l.94 2.06.94-2.06 2.06-.94-2.06-.94-.94-2.06-.94 2.06-2.06.94zm-11 1L8.5 8.5l.94-2.06 2.06-.94-2.06-.94L8.5 2.5l-.94 2.06-2.06.94zm10 10l.94 2.06.94-2.06 2.06-.94-2.06-.94-.94-2.06-.94 2.06-2.06.94z\"/><path d=\"M17.41 7.96l-1.37-1.37c-.4-.4-.92-.59-1.43-.59-.52 0-1.04.2-1.43.59L10.3 9.45l-7.72 7.72c-.78.78-.78 2.05 0 2.83L4 21.41c.39.39.9.59 1.41.59.51 0 1.02-.2 1.41-.59l7.78-7.78 2.81-2.81c.8-.78.8-2.07 0-2.86zM5.41 20L4 18.59l7.72-7.72 1.47 1.35L5.41 20z\"/>\n",
              "  </svg>\n",
              "      </button>\n",
              "      \n",
              "  <style>\n",
              "    .colab-df-container {\n",
              "      display:flex;\n",
              "      flex-wrap:wrap;\n",
              "      gap: 12px;\n",
              "    }\n",
              "\n",
              "    .colab-df-convert {\n",
              "      background-color: #E8F0FE;\n",
              "      border: none;\n",
              "      border-radius: 50%;\n",
              "      cursor: pointer;\n",
              "      display: none;\n",
              "      fill: #1967D2;\n",
              "      height: 32px;\n",
              "      padding: 0 0 0 0;\n",
              "      width: 32px;\n",
              "    }\n",
              "\n",
              "    .colab-df-convert:hover {\n",
              "      background-color: #E2EBFA;\n",
              "      box-shadow: 0px 1px 2px rgba(60, 64, 67, 0.3), 0px 1px 3px 1px rgba(60, 64, 67, 0.15);\n",
              "      fill: #174EA6;\n",
              "    }\n",
              "\n",
              "    [theme=dark] .colab-df-convert {\n",
              "      background-color: #3B4455;\n",
              "      fill: #D2E3FC;\n",
              "    }\n",
              "\n",
              "    [theme=dark] .colab-df-convert:hover {\n",
              "      background-color: #434B5C;\n",
              "      box-shadow: 0px 1px 3px 1px rgba(0, 0, 0, 0.15);\n",
              "      filter: drop-shadow(0px 1px 2px rgba(0, 0, 0, 0.3));\n",
              "      fill: #FFFFFF;\n",
              "    }\n",
              "  </style>\n",
              "\n",
              "      <script>\n",
              "        const buttonEl =\n",
              "          document.querySelector('#df-64aacb4d-6ce3-4782-98a3-bb9504191305 button.colab-df-convert');\n",
              "        buttonEl.style.display =\n",
              "          google.colab.kernel.accessAllowed ? 'block' : 'none';\n",
              "\n",
              "        async function convertToInteractive(key) {\n",
              "          const element = document.querySelector('#df-64aacb4d-6ce3-4782-98a3-bb9504191305');\n",
              "          const dataTable =\n",
              "            await google.colab.kernel.invokeFunction('convertToInteractive',\n",
              "                                                     [key], {});\n",
              "          if (!dataTable) return;\n",
              "\n",
              "          const docLinkHtml = 'Like what you see? Visit the ' +\n",
              "            '<a target=\"_blank\" href=https://colab.research.google.com/notebooks/data_table.ipynb>data table notebook</a>'\n",
              "            + ' to learn more about interactive tables.';\n",
              "          element.innerHTML = '';\n",
              "          dataTable['output_type'] = 'display_data';\n",
              "          await google.colab.output.renderOutput(dataTable, element);\n",
              "          const docLink = document.createElement('div');\n",
              "          docLink.innerHTML = docLinkHtml;\n",
              "          element.appendChild(docLink);\n",
              "        }\n",
              "      </script>\n",
              "    </div>\n",
              "  </div>\n",
              "  "
            ]
          },
          "metadata": {},
          "execution_count": 185
        }
      ]
    },
    {
      "cell_type": "markdown",
      "metadata": {
        "id": "0Doge9L_KLiM"
      },
      "source": [
        "[**EX7**] [**REPORT**] Draw the histograms of `y_train`and `y_test`. Is the dataset balanced (similar number of rows for each class or Target) or imbalanced ? How do you think it could affect to quality of the classifier?"
      ]
    },
    {
      "cell_type": "markdown",
      "source": [
        "# **HISTOGRAMA y_train** "
      ],
      "metadata": {
        "id": "p3IpR2mVl7tn"
      }
    },
    {
      "cell_type": "code",
      "source": [
        "plt.hist(y_train)\n",
        "plt.title('TRAIN HISTOGRAM')\n",
        "plt.show()"
      ],
      "metadata": {
        "colab": {
          "base_uri": "https://localhost:8080/",
          "height": 0
        },
        "id": "xdJx7dI1l4ih",
        "outputId": "db4ce85d-2ed7-4238-c925-641699e6f2f7"
      },
      "execution_count": 186,
      "outputs": [
        {
          "output_type": "display_data",
          "data": {
            "text/plain": [
              "<Figure size 432x288 with 1 Axes>"
            ],
            "image/png": "[encoded data removed]"
          },
          "metadata": {
            "needs_background": "light"
          }
        }
      ]
    },
    {
      "cell_type": "markdown",
      "source": [
        "# **HISTOGRAMA y_test** "
      ],
      "metadata": {
        "id": "T6K4GcuAmF08"
      }
    },
    {
      "cell_type": "code",
      "source": [
        "plt.hist(y_test)\n",
        "plt.title('TEST HISTOGRAM')\n",
        "plt.show()"
      ],
      "metadata": {
        "colab": {
          "base_uri": "https://localhost:8080/",
          "height": 0
        },
        "id": "v7NYJGS8l6RA",
        "outputId": "a538315d-50d6-4f23-feef-a1bd2ee15da7"
      },
      "execution_count": 187,
      "outputs": [
        {
          "output_type": "display_data",
          "data": {
            "text/plain": [
              "<Figure size 432x288 with 1 Axes>"
            ],
            "image/png": "[encoded data removed]"
          },
          "metadata": {
            "needs_background": "light"
          }
        }
      ]
    },
    {
      "cell_type": "markdown",
      "source": [
        "# **HISTOGRAMA y_train (azul) vs HISTOGRAMA y_Test (naranja)** "
      ],
      "metadata": {
        "id": "kXbPL573mJ_o"
      }
    },
    {
      "cell_type": "code",
      "source": [
        "plt.hist(y_train)\n",
        "plt.hist(y_test)\n",
        "plt.title('TRAIN VS TEST')\n",
        "plt.show()"
      ],
      "metadata": {
        "colab": {
          "base_uri": "https://localhost:8080/",
          "height": 0
        },
        "id": "mH3pU-gUlydb",
        "outputId": "b3545b12-3c4b-414f-ae39-01a520d76ed5"
      },
      "execution_count": 188,
      "outputs": [
        {
          "output_type": "display_data",
          "data": {
            "text/plain": [
              "<Figure size 432x288 with 1 Axes>"
            ],
            "image/png": "[encoded data removed]"
          },
          "metadata": {
            "needs_background": "light"
          }
        }
      ]
    },
    {
      "cell_type": "markdown",
      "metadata": {
        "id": "pVofh0d-KLiT"
      },
      "source": [
        "# 2. Model Training: from baseline models to ensemble¶"
      ]
    },
    {
      "cell_type": "markdown",
      "metadata": {
        "id": "P58EvGU1KLiT"
      },
      "source": [
        "Now we are ready to enter in the training stage of the machine learning models. The common way to procedure is starting with baseline models (i.e. SVM, Decision Trees, Naive Bayes, etc....) and later, try to improve it adjusting hyperparameters of the models or creating more complex models architectures as ensembles."
      ]
    },
    {
      "cell_type": "markdown",
      "metadata": {
        "id": "hKyfjGlmKLiU"
      },
      "source": [
        "## 2.1. Baseline of models: Training and evaluation"
      ]
    },
    {
      "cell_type": "markdown",
      "metadata": {
        "id": "eWN0sijJKLiU"
      },
      "source": [
        "In the following section we are training a SVM, Decision Tree and Naive Bayes algorithms. To do it, we will use the `X_train`and `y_train`datasets.\n",
        "Later on we will evaluate the performance (i.e. **accuracy**, **confusion matrix**, **recall** and **precision**) of each model with the `test`dataset, i.e. `X_test`and `y_test`.\n",
        "\n",
        "\n",
        "Tip 1: You may use [classification_report()](https://scikit-learn.org/stable/modules/generated/sklearn.metrics.classification_report.html) from Sklearn library to calculate the **precision**, **recall** of the model.\n",
        "\n",
        "Tip 2: You may use [confusion_matrix()](https://scikit-learn.org/stable/modules/generated/sklearn.metrics.confusion_matrix.html) from Sklearn library to calculate the confusion matrix of a model.\n",
        "\n",
        "Tip 3: When using Sklearn library, you may use the function **.score(X_test, y_test)** to calculate the accuracy value."
      ]
    },
    {
      "cell_type": "markdown",
      "metadata": {
        "id": "2zQCoC5JKLiV"
      },
      "source": [
        "### Classification with a SVM model"
      ]
    },
    {
      "cell_type": "markdown",
      "metadata": {
        "id": "VnWGf-D6KLiV"
      },
      "source": [
        "[**EX8**] [**CODE**] Train the SVM classifier of the Sklearn library. Evaluate the following metrics for kernel=\"rbf\":\n",
        "- Which is **precision**, **recall** and **accuracy** of the algorithm?\n",
        "- Which is the **confusion matrix**?\n",
        "- Is the algorithm classifying both classes (Target=0 and Target=1) in a similar way? Why?\n",
        "- Compare the **precision** and **recall** of the **training** dataset (i.e.`X_train`and `y_train`) vs the **test** dataset (i.e. `X_test`and `y_test`). Which is better? Why? Which is the correct measure to estimate the performance for other unseen datasets? Why?"
      ]
    },
    {
      "cell_type": "markdown",
      "source": [
        "# **TRAINING**"
      ],
      "metadata": {
        "id": "3SdLmMtnqU52"
      }
    },
    {
      "cell_type": "code",
      "source": [
        "#### --- Support Vector Classification ==> SVC()\n",
        "model_SVC = SVC() #Create the model based SVC and kernel by defaul is \"rbf\"\n",
        "model_SVC.fit(X_train, y_train) #Train the model with the training samples: X_train and y_train\n",
        "y_pred_SVC=model_SVC.predict(X_test) #Test the trained model with test samples\n",
        "result_SVC=model_SVC.score(X_test, y_test) #Print the score of the trained model\n",
        "print(\"SVC Accuracy:\", result_SVC, \"\\n\")\n",
        "print(classification_report(y_test,y_pred_SVC), \"\\n\")\n",
        "\n",
        "# Calculamos la confusion matrix\n",
        "conf_matrix = confusion_matrix(y_test, y_pred_SVC)\n",
        "print(\" Confusion Matrix: \")\n",
        "print(conf_matrix, \"\\n\")\n"
      ],
      "metadata": {
        "colab": {
          "base_uri": "https://localhost:8080/"
        },
        "id": "oj3koqqCqQ5O",
        "outputId": "5713a605-4521-4826-9b71-61a46fe8f745"
      },
      "execution_count": 189,
      "outputs": [
        {
          "output_type": "stream",
          "name": "stdout",
          "text": [
            "SVC Accuracy: 0.8277919863597613 \n",
            "\n",
            "              precision    recall  f1-score   support\n",
            "\n",
            "           0       0.83      1.00      0.91       968\n",
            "           1       1.00      0.01      0.03       205\n",
            "\n",
            "    accuracy                           0.83      1173\n",
            "   macro avg       0.91      0.51      0.47      1173\n",
            "weighted avg       0.86      0.83      0.75      1173\n",
            " \n",
            "\n",
            " Confusion Matrix: \n",
            "[[968   0]\n",
            " [202   3]] \n",
            "\n"
          ]
        }
      ]
    },
    {
      "cell_type": "markdown",
      "source": [
        "# **TEST**"
      ],
      "metadata": {
        "id": "qlrVszkgqZpr"
      }
    },
    {
      "cell_type": "code",
      "source": [
        "#### --- Support Vector Classification ==> SVC()\n",
        "model_SVC = SVC() #Create the model based SVC and kernel by defaul is \"rbf\"\n",
        "model_SVC.fit(X_test, y_test) #Train the model with the training samples: X_train and y_train\n",
        "y_pred_SVC=model_SVC.predict(X_train) #Test the trained model with test samples\n",
        "result_SVC=model_SVC.score(X_train, y_train) #Print the score of the trained model\n",
        "print(\"SVC Accuracy:\", result_SVC, \"\\n\")\n",
        "print(classification_report(y_train,y_pred_SVC), \"\\n\")\n",
        "\n",
        "# Calculamos la confusion matrix\n",
        "conf_matrix = confusion_matrix(y_train, y_pred_SVC)\n",
        "print(\" Confusion Matrix: \")\n",
        "print(conf_matrix, \"\\n\")\n"
      ],
      "metadata": {
        "colab": {
          "base_uri": "https://localhost:8080/"
        },
        "id": "GbjcW7XXpK4W",
        "outputId": "0c5d512b-9b09-4aa3-e4b4-26ed497dc677"
      },
      "execution_count": 190,
      "outputs": [
        {
          "output_type": "stream",
          "name": "stdout",
          "text": [
            "SVC Accuracy: 0.8412190963341859 \n",
            "\n",
            "              precision    recall  f1-score   support\n",
            "\n",
            "           0       0.84      1.00      0.91      3941\n",
            "           1       1.00      0.01      0.02       751\n",
            "\n",
            "    accuracy                           0.84      4692\n",
            "   macro avg       0.92      0.50      0.46      4692\n",
            "weighted avg       0.87      0.84      0.77      4692\n",
            " \n",
            "\n",
            " Confusion Matrix: \n",
            "[[3941    0]\n",
            " [ 745    6]] \n",
            "\n"
          ]
        }
      ]
    },
    {
      "cell_type": "markdown",
      "source": [
        "Podemos ver como entrenar nuestro modelo con los datos del train obtenemos mejores resultados que con el dataset de test,donde tenemos una mayor cantidad de falsos positivos. Esto es debido a que el dataset de train tiene una mayor cantidad de datos, concretamente un 80%, lo que implica que nuestro modelo pueda entrenar mejor, por ende tener un mejor redimiento para enfrentar las unseendatasets"
      ],
      "metadata": {
        "id": "j7eUsAGyen_R"
      }
    },
    {
      "cell_type": "markdown",
      "metadata": {
        "id": "jBTK-h4cKLiY"
      },
      "source": [
        "### Classification with a Decision Tree model"
      ]
    },
    {
      "cell_type": "markdown",
      "metadata": {
        "id": "DMRkY9uvKLiY"
      },
      "source": [
        "[**EX9**] [**CODE**] Train the Decision Tree algorithm from Sklearn library. Evaluate the following metrics:\n",
        "- Which is **precision**, **recall** and **accuracy** of the algorithm?\n",
        "- Which is the **confusion matrix**?\n",
        "- Is Decision Tree algorithm working better than SVM? Why?"
      ]
    },
    {
      "cell_type": "markdown",
      "source": [
        "# **TRAINING**"
      ],
      "metadata": {
        "id": "Aa7SSqz6wdb5"
      }
    },
    {
      "cell_type": "code",
      "source": [
        "#### --- Decision Tree Classifier ==> DecisionTreeClassifier()\n",
        "model_DT = DecisionTreeClassifier()\n",
        "model_DT.fit(X_train, y_train)\n",
        "y_pred_DT=model_DT.predict(X_test)\n",
        "result_DT=model_DT.score(X_test, y_test)\n",
        "print(\"DT Accuracy:\", result_DT, \"\\n\")\n",
        "print(classification_report(y_test, y_pred_DT))\n",
        "\n",
        "# Calculamos la confusion matrix\n",
        "conf_matrix = confusion_matrix(y_test, y_pred_DT)\n",
        "print(\" Confusion Matrix: \")\n",
        "print(conf_matrix, \"\\n\")"
      ],
      "metadata": {
        "colab": {
          "base_uri": "https://localhost:8080/"
        },
        "id": "MS3sN2KzwYW0",
        "outputId": "d814d465-5e17-4b45-939c-ce4a0af12912"
      },
      "execution_count": 191,
      "outputs": [
        {
          "output_type": "stream",
          "name": "stdout",
          "text": [
            "DT Accuracy: 0.7638533674339301 \n",
            "\n",
            "              precision    recall  f1-score   support\n",
            "\n",
            "           0       0.86      0.85      0.86       968\n",
            "           1       0.33      0.35      0.34       205\n",
            "\n",
            "    accuracy                           0.76      1173\n",
            "   macro avg       0.60      0.60      0.60      1173\n",
            "weighted avg       0.77      0.76      0.77      1173\n",
            "\n",
            " Confusion Matrix: \n",
            "[[824 144]\n",
            " [133  72]] \n",
            "\n"
          ]
        }
      ]
    },
    {
      "cell_type": "markdown",
      "source": [
        "# **TEST**\n"
      ],
      "metadata": {
        "id": "0_wa4ac6welk"
      }
    },
    {
      "cell_type": "code",
      "source": [
        "#### --- Decision Tree Classifier ==> DecisionTreeClassifier()\n",
        "model_DT = DecisionTreeClassifier()\n",
        "model_DT.fit(X_test, y_test)\n",
        "y_pred_DT=model_DT.predict(X_train)\n",
        "result_DT=model_DT.score(X_train, y_train)\n",
        "print(\"DT Accuracy:\", result_DT, \"\\n\")\n",
        "print(classification_report(y_train, y_pred_DT))\n",
        "\n",
        "# Calculamos la confusion matrix\n",
        "conf_matrix = confusion_matrix(y_train, y_pred_DT)\n",
        "print(\" Confusion Matrix: \")\n",
        "print(conf_matrix, \"\\n\")"
      ],
      "metadata": {
        "colab": {
          "base_uri": "https://localhost:8080/"
        },
        "id": "A65YsKEIxObg",
        "outputId": "215605d8-989f-4ddb-e495-242fb30a52ee"
      },
      "execution_count": 192,
      "outputs": [
        {
          "output_type": "stream",
          "name": "stdout",
          "text": [
            "DT Accuracy: 0.7453111679454391 \n",
            "\n",
            "              precision    recall  f1-score   support\n",
            "\n",
            "           0       0.86      0.84      0.85      3941\n",
            "           1       0.24      0.27      0.25       751\n",
            "\n",
            "    accuracy                           0.75      4692\n",
            "   macro avg       0.55      0.55      0.55      4692\n",
            "weighted avg       0.76      0.75      0.75      4692\n",
            "\n",
            " Confusion Matrix: \n",
            "[[3296  645]\n",
            " [ 550  201]] \n",
            "\n"
          ]
        }
      ]
    },
    {
      "cell_type": "markdown",
      "source": [
        "# **Comparación de resultados SVM vs Decision Tree**"
      ],
      "metadata": {
        "id": "caS-A2bD6HbM"
      }
    },
    {
      "cell_type": "markdown",
      "source": [
        "Comparando los resultados del Decision Tree con los de SVM , podemos ver lo siguiente:\n",
        "\n",
        "*  Si miramos las Confusion Matrix obtenidas podemos ver que en el caso del DT obtenemos una menor cantidad de falsos positivos y falsos negativos respecto al SVM\n",
        "* Podemos ver como el accuracy obtenido con el DT es un poco superior al que obtenemos con el SVM\n",
        "\n",
        "**Conclusion:** Podriamos concluir que en este caso el Decision Tree seria un mejor modelo que el SVM debido a que este no discrimina tantos datos como en el caso de SVM.\n",
        "\n"
      ],
      "metadata": {
        "id": "d1EYZ8Nm4kL1"
      }
    },
    {
      "cell_type": "markdown",
      "metadata": {
        "id": "VxSee22YKLiy"
      },
      "source": [
        "### Comparing algorithm consistenly: KFold cross-validation"
      ]
    },
    {
      "cell_type": "markdown",
      "metadata": {
        "id": "K-n_MHhvKLiz"
      },
      "source": [
        "When we are looking for the best algorithm to classify a dataset, it is very useful to compare all of them. Besides, to protect the training from **overfitting** and calculate the performance with less variance than a single train-test split, it is uselful to apply **K-Fold cross-validation**. The way that KFolds works is splitting the dataset into k-parts or **fold** (e.g. k = 3, 5 or k = 10). The algorithm is trained on k − 1 folds with one held back and tested on the held back fold."
      ]
    },
    {
      "cell_type": "markdown",
      "metadata": {
        "id": "23xG-yXNKLiz"
      },
      "source": [
        "[**EX10**] [**CODE**] Train a SVM and Decision Tree algorithms using a KFold cross-validation with **k=5** and calculate the **mean** and **standard deviation** of the **accuracy**. Plot a boxplot of the accuracy for every model. Which is the model with better mean value of the accuracy? Which is the algorithm with less deviation on the accuracy?  \n",
        "\n",
        "Tip 1: You may use [KFold](https://scikit-learn.org/stable/modules/generated/sklearn.model_selection.KFold.html) to apply cross-validation."
      ]
    },
    {
      "cell_type": "code",
      "source": [
        "#Models definition\n",
        "models=[]\n",
        "models.append(('SVM', SVC()))\n",
        "models.append(('Decision_trees', DecisionTreeClassifier()))\n",
        "#Evaluate each models\n",
        "results=[]\n",
        "names=[]\n",
        "scoring_metric='accuracy'\n",
        "for name_model, model in models:\n",
        "    kfold= KFold(n_splits=5, random_state=10,shuffle = True) # n_splits = 5,  shuffle = True\n",
        "    cv_results=cross_val_score(model, X_train, y_train, cv=kfold, scoring=scoring_metric)\n",
        "    results.append(cv_results)\n",
        "    names.append(name_model)\n",
        "    print (\"Model\", name_model, \"with accuracy (mean):\", cv_results.mean(), \"and accuracy (std):\", cv_results.std())"
      ],
      "metadata": {
        "colab": {
          "base_uri": "https://localhost:8080/"
        },
        "id": "vVZQaaF70wF7",
        "outputId": "67392b21-743b-4168-c062-d970651ec0e5"
      },
      "execution_count": 193,
      "outputs": [
        {
          "output_type": "stream",
          "name": "stdout",
          "text": [
            "Model SVM with accuracy (mean): 0.8412226862038507 and accuracy (std): 0.012236269697255806\n",
            "Model Decision_trees with accuracy (mean): 0.7604496912970519 and accuracy (std): 0.018817166447284026\n"
          ]
        }
      ]
    },
    {
      "cell_type": "markdown",
      "metadata": {
        "id": "_aEAtktzKLi2"
      },
      "source": [
        "The output of the boxplots should look like this:"
      ]
    },
    {
      "cell_type": "code",
      "execution_count": 194,
      "metadata": {
        "id": "bynq6I3OKLi3",
        "scrolled": true,
        "colab": {
          "base_uri": "https://localhost:8080/",
          "height": 0
        },
        "outputId": "19bf3fd7-c58a-4e7a-bfd1-fe228811cd2a"
      },
      "outputs": [
        {
          "output_type": "display_data",
          "data": {
            "text/plain": [
              "<Figure size 432x288 with 1 Axes>"
            ],
            "image/png": "[encoded data removed]"
          },
          "metadata": {
            "needs_background": "light"
          }
        }
      ],
      "source": [
        "#boxplot for algorithm comparison\n",
        "fig=pyplot.figure()\n",
        "fig.suptitle (\"Algorithm accuracy comparison\")\n",
        "ax=fig.add_subplot(111)\n",
        "pyplot.boxplot(results)\n",
        "ax.set_xticklabels(names)\n",
        "pyplot.show()"
      ]
    },
    {
      "cell_type": "markdown",
      "source": [
        "**CONCLUSIÓN**"
      ],
      "metadata": {
        "id": "KE__u-GTB7PD"
      }
    },
    {
      "cell_type": "markdown",
      "source": [
        "Podemos observar como el modelo con mejor media para la accuracy es el SVM , lo que significa que será mas exacto a la hora de clasificar los datos.\n",
        "En cuanto a la accuracy de la std , podemos ver como obtenemos unos valores muy similares, siendo minimamente mas pequeño el del SVM"
      ],
      "metadata": {
        "id": "jWsesKkKAQNx"
      }
    },
    {
      "cell_type": "markdown",
      "metadata": {
        "id": "5h_URjohKLi6"
      },
      "source": [
        "## 2.2 Improving the model"
      ]
    },
    {
      "cell_type": "markdown",
      "metadata": {
        "id": "zDgLSJn_KLi7"
      },
      "source": [
        "As we observe from the baseline models, even though the accuracy is over 70% the classifiers don't distinguish properly both classes, i.e. **Target=1** and **Target=0**.  \n",
        "In this scenario, we should apply another strategies to improve the perfomance. There are several options: from adjusting the balance of the classes or doing the fine tuning of the hyperparameters of the models (for instance the type of kernel in SVM or the minimum number of samples per leaf in Decision Tree) to combine differents models to create ensembles.\n",
        "In this section, we will evaluate our classifiers in two ways:\n",
        "- Forcing the balancing of both classes\n",
        "- Building ensembles of models"
      ]
    },
    {
      "cell_type": "markdown",
      "metadata": {
        "id": "0xGX62GJKLi8"
      },
      "source": [
        "### Balancing the dataset"
      ]
    },
    {
      "cell_type": "markdown",
      "metadata": {
        "id": "7HL7D2DvKLi8"
      },
      "source": [
        "Let's check the type of balancing we have in our training and test datasets."
      ]
    },
    {
      "cell_type": "markdown",
      "metadata": {
        "id": "EV6OfIKgKLi9"
      },
      "source": [
        "[**EX11**][**CODE**] Split the previous `final_dataset`in two datasets: `customer_dt` for class 1 and `noncustomer_dt`for class 0. Calculate the number of samples for the **customers** class (i.e. Target=1) and for the **noncustomers** class (i.e. Target=0). Is the `final_dataset`balanced or imbalanced? Explain two options to match both datasets.\n"
      ]
    },
    {
      "cell_type": "code",
      "source": [
        "customer_dt = final_dataset[(final_dataset['Target']==1)]\n",
        "print(\"The number of samples in noncustomer dataset is:\", len(noncustomer_dt))\n",
        "\n",
        "noncustomer_dt = final_dataset[(final_dataset['Target']==0)]\n",
        "print(\"The number of samples in customer dataset is:\", len(customer_dt))\n"
      ],
      "metadata": {
        "colab": {
          "base_uri": "https://localhost:8080/"
        },
        "id": "ZHi_LvA3Cu4h",
        "outputId": "7fabac06-0daa-495f-cfff-033fe8f31a7f"
      },
      "execution_count": 195,
      "outputs": [
        {
          "output_type": "stream",
          "name": "stdout",
          "text": [
            "The number of samples in noncustomer dataset is: 4909\n",
            "The number of samples in customer dataset is: 956\n"
          ]
        }
      ]
    },
    {
      "cell_type": "markdown",
      "metadata": {
        "id": "w9rVOQ5iKLjD"
      },
      "source": [
        "Let's undersample the `noncustomer_dt` to balance both datasets:"
      ]
    },
    {
      "cell_type": "code",
      "execution_count": 196,
      "metadata": {
        "id": "8a9L5o8iKLjE",
        "colab": {
          "base_uri": "https://localhost:8080/"
        },
        "outputId": "e8a846c4-0323-46e7-a5b5-ba45945ce196"
      },
      "outputs": [
        {
          "output_type": "stream",
          "name": "stdout",
          "text": [
            "The new number of samples in noncustomer dataset is: 956\n"
          ]
        }
      ],
      "source": [
        "noncustomer_dt_sample=noncustomer_dt.sample(956) #cambiamos 840 por 956 para balancear correctamente\n",
        "print(\"The new number of samples in noncustomer dataset is:\", len(noncustomer_dt_sample))"
      ]
    },
    {
      "cell_type": "markdown",
      "metadata": {
        "id": "P2l66X4jKLjG"
      },
      "source": [
        "If we append both datasets, the **customer_dt** and the **noncustomer_dt_sample**, the new `final_dataset`looks like:"
      ]
    },
    {
      "cell_type": "code",
      "execution_count": 197,
      "metadata": {
        "id": "C0WTasz3KLjH",
        "colab": {
          "base_uri": "https://localhost:8080/",
          "height": 0
        },
        "outputId": "16441c1c-bce4-4b77-d71d-b6b039388332"
      },
      "outputs": [
        {
          "output_type": "execute_result",
          "data": {
            "text/plain": [
              "<matplotlib.axes._subplots.AxesSubplot at 0x7fe79cef5150>"
            ]
          },
          "metadata": {},
          "execution_count": 197
        },
        {
          "output_type": "display_data",
          "data": {
            "text/plain": [
              "<Figure size 432x288 with 1 Axes>"
            ],
            "image/png": "[encoded data removed]"
          },
          "metadata": {
            "needs_background": "light"
          }
        }
      ],
      "source": [
        "final_dataset=customer_dt.append(noncustomer_dt_sample).reset_index().drop('index', axis=1)\n",
        "final_dataset=final_dataset.loc[:,['City_coded', 'Revenue', 'Sector', 'Legal_Form_Code', 'CNT_EMPLOYEE', 'CNT_CB_DENSITY',\n",
        "                            'CNT_CB_MOB_DENSITY', 'CNT_CB_FN_DENSITY', 'Mobile_potential','Target']]\n",
        "final_dataset.Target.hist()"
      ]
    },
    {
      "cell_type": "markdown",
      "source": [
        "**Conclusión**"
      ],
      "metadata": {
        "id": "n8ktFpSDEtZC"
      }
    },
    {
      "cell_type": "markdown",
      "source": [
        "Para este apartado hemos disminuido la cantidad de datos de non-customer para balancearlo con la cantidad de datos que tenemos de customer (956)\n",
        "Con esto conseguiremos que los datos esten balanceados, peró a la vez estaremos perdiendo una gran cantidad de información respecto a los non-customers"
      ],
      "metadata": {
        "id": "6Pc-wgSfDwly"
      }
    },
    {
      "cell_type": "markdown",
      "metadata": {
        "id": "ZQ0HyRiOKLjJ"
      },
      "source": [
        "[**EX12**][**CODE**][**REPORT**] Train a SVC and Decision Tree algorithm with the new `final_dataset`. Evaluate the **recall**, **precision** and **confusion matrix** of all 3 models.\n",
        "- Which has better accuracy?\n",
        "- Which is the model with better recall? And accuracy?\n",
        "- Which model you recommend to classify both classes? Justify your answer"
      ]
    },
    {
      "cell_type": "code",
      "source": [
        "X_train, X_test, y_train, y_test = train_test_split(final_dataset.iloc[:,:-1], final_dataset.iloc[:,-1], test_size=0.2, random_state=42)"
      ],
      "metadata": {
        "id": "jslObndWFsnH"
      },
      "execution_count": 198,
      "outputs": []
    },
    {
      "cell_type": "markdown",
      "source": [
        "# **Training SVC**"
      ],
      "metadata": {
        "id": "9a-TmL9yF9iy"
      }
    },
    {
      "cell_type": "code",
      "source": [
        "# -- SVC ---------------------------------------------------------------------------------------------|\n",
        "model_SVC = SVC() #Create the model based SVC and kernel by defaul is \"rbf\"\n",
        "model_SVC.fit(X_train, y_train) #Train the model with the training samples: X_train and y_train\n",
        "y_pred_SVC=model_SVC.predict(X_test) #Test the trained model with test samples\n",
        "result_SVC=model_SVC.score(X_test, y_test) #Print the score of the trained model\n",
        "\n",
        "print(\"SVC Accuracy:\", result_SVC)\n",
        "print(classification_report(y_test,y_pred_SVC), \"\\n\")\n",
        "\n",
        "# Calculamos la confusion matrix\n",
        "conf_matrix = confusion_matrix(y_test, y_pred_SVC)\n",
        "print(\" Confusion Matrix: \")\n",
        "print(conf_matrix, \"\\n\")"
      ],
      "metadata": {
        "colab": {
          "base_uri": "https://localhost:8080/"
        },
        "id": "oZ3AswYbGOd1",
        "outputId": "d5d8252f-310f-4d5b-cbcc-3aa5e7d1ca46"
      },
      "execution_count": 199,
      "outputs": [
        {
          "output_type": "stream",
          "name": "stdout",
          "text": [
            "SVC Accuracy: 0.5848563968668408\n",
            "              precision    recall  f1-score   support\n",
            "\n",
            "           0       0.58      0.52      0.55       187\n",
            "           1       0.59      0.64      0.61       196\n",
            "\n",
            "    accuracy                           0.58       383\n",
            "   macro avg       0.58      0.58      0.58       383\n",
            "weighted avg       0.58      0.58      0.58       383\n",
            " \n",
            "\n",
            " Confusion Matrix: \n",
            "[[ 98  89]\n",
            " [ 70 126]] \n",
            "\n"
          ]
        }
      ]
    },
    {
      "cell_type": "markdown",
      "source": [
        "# **Training Decision Tree**"
      ],
      "metadata": {
        "id": "JPDQBkPDGLDz"
      }
    },
    {
      "cell_type": "code",
      "source": [
        "# -- DT ----------------------------------------------------------------------------------------------|\n",
        "model_DT = DecisionTreeClassifier()\n",
        "model_DT.fit(X_train, y_train)\n",
        "y_pred_DT=model_DT.predict(X_test)\n",
        "result_DT=model_DT.score(X_test, y_test)\n",
        "\n",
        "print(\"DT Accuracy:\", result_DT, \"\\n\")\n",
        "print(classification_report(y_test, y_pred_DT))\n",
        "\n",
        "# Calculamos la confusion matrix\n",
        "conf_matrix = confusion_matrix(y_test, y_pred_DT)\n",
        "print(\" Confusion Matrix: \")\n",
        "print(conf_matrix, \"\\n\")"
      ],
      "metadata": {
        "colab": {
          "base_uri": "https://localhost:8080/"
        },
        "id": "PqmhB0K-GVKa",
        "outputId": "65fd4a39-507a-4035-b40f-78ca71340c14"
      },
      "execution_count": 200,
      "outputs": [
        {
          "output_type": "stream",
          "name": "stdout",
          "text": [
            "DT Accuracy: 0.5404699738903395 \n",
            "\n",
            "              precision    recall  f1-score   support\n",
            "\n",
            "           0       0.53      0.55      0.54       187\n",
            "           1       0.55      0.54      0.54       196\n",
            "\n",
            "    accuracy                           0.54       383\n",
            "   macro avg       0.54      0.54      0.54       383\n",
            "weighted avg       0.54      0.54      0.54       383\n",
            "\n",
            " Confusion Matrix: \n",
            "[[102  85]\n",
            " [ 91 105]] \n",
            "\n"
          ]
        }
      ]
    },
    {
      "cell_type": "markdown",
      "source": [
        ""
      ],
      "metadata": {
        "id": "6-whdy5bGKxl"
      }
    },
    {
      "cell_type": "markdown",
      "metadata": {
        "id": "So2hzc-BKLjU"
      },
      "source": [
        "### Ensembling models"
      ]
    },
    {
      "cell_type": "markdown",
      "metadata": {
        "id": "7GbOE6CMKLjU"
      },
      "source": [
        "Another mechanism to improve the performance of a classifier is to combine several algorithms. The three most popular methods for combining models are:\n",
        "- Bagging combines multiple models that are trained with different subsamples of the training dataset.\n",
        "- Boosting combines multiple models in cascade and each of them learns to fix the prediction errors of the prior model.\n",
        "- Voting combines statistically the output of several models.\n",
        "\n",
        "Usually Bagging and Boosting are formed by models of the same type meanwhile voting could be formed by different models."
      ]
    },
    {
      "cell_type": "markdown",
      "metadata": {
        "id": "NgkK3L4xKLjV"
      },
      "source": [
        "### Voting ensemble"
      ]
    },
    {
      "cell_type": "markdown",
      "metadata": {
        "id": "24SsOU59KLjW"
      },
      "source": [
        "[**EX13**][**CODE**][**REPORT**] Build a **voting** ensemble formed by a SVM and Decision Tree and train it with the balanced training dataset. Calculate the **precision**, **recall** and **confusion matrix** of the new classifier. Is it better than any of the previous baseline models? Justify your answer.\n",
        "\n",
        "Tip: You may use [VotingClassifier()](https://scikit-learn.org/stable/modules/generated/sklearn.ensemble.VotingClassifier.html) to build this type of ensemble."
      ]
    },
    {
      "cell_type": "code",
      "source": [
        "model_VC = VotingClassifier(estimators=[('SVM', SVC()), ('DT', DecisionTreeClassifier())])  # default=’hard’\n",
        "model_VC.fit(X_train, y_train)\n",
        "y_pred_VC = model_VC.predict(X_test)\n",
        "\n",
        "print(classification_report(y_test,y_pred_VC))\n",
        "\n",
        "print(\"Accuracy: \", accuracy_score(y_test, y_pred_VC, ),\"\\n\")\n",
        "\n",
        "# Calculamos la confusion matrix\n",
        "conf_matrix = confusion_matrix(y_test, y_pred_VC)\n",
        "print(\" Confusion Matrix: \")\n",
        "print(conf_matrix, \"\\n\")\n"
      ],
      "metadata": {
        "colab": {
          "base_uri": "https://localhost:8080/"
        },
        "id": "xiQWUaFFQehf",
        "outputId": "4b23a4ca-923a-4edd-83ef-3f0de0bf935f"
      },
      "execution_count": 201,
      "outputs": [
        {
          "output_type": "stream",
          "name": "stdout",
          "text": [
            "              precision    recall  f1-score   support\n",
            "\n",
            "           0       0.54      0.78      0.64       187\n",
            "           1       0.64      0.37      0.47       196\n",
            "\n",
            "    accuracy                           0.57       383\n",
            "   macro avg       0.59      0.57      0.55       383\n",
            "weighted avg       0.59      0.57      0.55       383\n",
            "\n",
            "Accuracy:  0.5691906005221932 \n",
            "\n",
            " Confusion Matrix: \n",
            "[[146  41]\n",
            " [124  72]] \n",
            "\n"
          ]
        }
      ]
    },
    {
      "cell_type": "markdown",
      "metadata": {
        "id": "ocJiGPkJKLjY"
      },
      "source": [
        "### Bagging ensemble: Random Forest"
      ]
    },
    {
      "cell_type": "markdown",
      "metadata": {
        "id": "LQMj5ap5KLjZ"
      },
      "source": [
        "[**EX14**][**CODE**][**REPORT**] Build a **Bagging** ensemble based on Random Forest. Random Forest is considered a bagging ensemble formed by Decision Trees algorithms. Train the Random Forest with the balanced training dataset, i.e. `X_train` and `y_train`. Calculate the **precision**, **recall** and **confusion matrix** of the new classifier. Is it better than any of the previous baseline models? Justify your answer.\n",
        "\n",
        "Tip: You may use [RandomForestClassifier()](https://scikit-learn.org/stable/modules/generated/sklearn.ensemble.RandomForestClassifier.html) to build this type of ensemble."
      ]
    },
    {
      "cell_type": "code",
      "source": [
        "model_RF = RandomForestClassifier()\n",
        "model_RF.fit(X_train, y_train)\n",
        "y_pred_RF = model_RF.predict(X_test)\n",
        "\n",
        "print(classification_report(y_test,y_pred_RF))\n",
        "\n",
        "print(\"Accuracy: \", accuracy_score(y_test, y_pred_RF, ),\"\\n\")\n",
        "\n",
        "# Calculamos la confusion matrix\n",
        "conf_matrix = confusion_matrix(y_test, y_pred_RF)\n",
        "print(\" Confusion Matrix: \")\n",
        "print(conf_matrix, \"\\n\")"
      ],
      "metadata": {
        "colab": {
          "base_uri": "https://localhost:8080/"
        },
        "id": "g6akhxblWdSU",
        "outputId": "33818822-3c76-489d-e93a-42965204faf2"
      },
      "execution_count": 202,
      "outputs": [
        {
          "output_type": "stream",
          "name": "stdout",
          "text": [
            "              precision    recall  f1-score   support\n",
            "\n",
            "           0       0.59      0.59      0.59       187\n",
            "           1       0.61      0.61      0.61       196\n",
            "\n",
            "    accuracy                           0.60       383\n",
            "   macro avg       0.60      0.60      0.60       383\n",
            "weighted avg       0.60      0.60      0.60       383\n",
            "\n",
            "Accuracy:  0.6031331592689295 \n",
            "\n",
            " Confusion Matrix: \n",
            "[[111  76]\n",
            " [ 76 120]] \n",
            "\n"
          ]
        }
      ]
    },
    {
      "cell_type": "markdown",
      "metadata": {
        "id": "4G08f_aEKLjd"
      },
      "source": [
        "[**EX15**][**REPORT**] Plot the histograms of the probabilities resulting of the prediction of the Random Forest model for class 0 and class 1."
      ]
    },
    {
      "cell_type": "code",
      "source": [
        "y_pred = model_RF.predict_proba(X_test)\n",
        "\n",
        "plt.figure()\n",
        "plt.hist(y_pred)\n",
        "plt.title('Random Forest')\n",
        "plt.show()\n"
      ],
      "metadata": {
        "colab": {
          "base_uri": "https://localhost:8080/",
          "height": 281
        },
        "id": "kFaUtoldbif-",
        "outputId": "653a95d2-6a17-4daf-c43e-ff70386bfe10"
      },
      "execution_count": 203,
      "outputs": [
        {
          "output_type": "display_data",
          "data": {
            "text/plain": [
              "<Figure size 432x288 with 1 Axes>"
            ],
            "image/png": "[encoded data removed]"
          },
          "metadata": {
            "needs_background": "light"
          }
        }
      ]
    },
    {
      "cell_type": "markdown",
      "metadata": {
        "id": "K9Vbyi1lKLjg"
      },
      "source": [
        "### Boosting ensemble: Gradient Tree Boosting"
      ]
    },
    {
      "cell_type": "markdown",
      "metadata": {
        "id": "VTZvSgz8KLji"
      },
      "source": [
        "[**EX16**][**CODE**][**REPORT**] Build a **Boosting** ensemble based on Gradient Tree Boosting (GBT). There are several boosting algorithms as Adaboost, etc.  Train the GBT with the balanced training dataset, i.e. `X_train` and `y_train`. Calculate the **precision**, **recall** and **confusion matrix** of the new classifier. Is it better than any of the previous baseline models? Justify your answer.\n",
        "\n",
        "Tip: You may use [GradientBoostingClassifier](https://scikit-learn.org/stable/modules/generated/sklearn.ensemble.GradientBoostingClassifier.html) to build this type of ensemble."
      ]
    },
    {
      "cell_type": "code",
      "source": [
        "model_GB = GradientBoostingClassifier(random_state=0)\n",
        "model_GB.fit(X_train, y_train)\n",
        "y_pred_GB = model_GB.predict(X_test)\n",
        "\n",
        "print(classification_report(y_test,y_pred_GB))\n",
        "\n",
        "print(\"Accuracy: \", accuracy_score(y_test, y_pred_GB, ),\"\\n\")\n",
        "\n",
        "# Calculamos la confusion matrix\n",
        "conf_matrix = confusion_matrix(y_test, y_pred_GB)\n",
        "print(\" Confusion Matrix: \")\n",
        "print(conf_matrix, \"\\n\")"
      ],
      "metadata": {
        "colab": {
          "base_uri": "https://localhost:8080/"
        },
        "id": "rqlCZQ5sds_D",
        "outputId": "d2a86bea-99c2-41ae-fd42-fabb377a34e7"
      },
      "execution_count": 204,
      "outputs": [
        {
          "output_type": "stream",
          "name": "stdout",
          "text": [
            "              precision    recall  f1-score   support\n",
            "\n",
            "           0       0.62      0.56      0.59       187\n",
            "           1       0.62      0.67      0.64       196\n",
            "\n",
            "    accuracy                           0.62       383\n",
            "   macro avg       0.62      0.61      0.61       383\n",
            "weighted avg       0.62      0.62      0.62       383\n",
            "\n",
            "Accuracy:  0.6161879895561357 \n",
            "\n",
            " Confusion Matrix: \n",
            "[[105  82]\n",
            " [ 65 131]] \n",
            "\n"
          ]
        }
      ]
    },
    {
      "cell_type": "markdown",
      "source": [
        ""
      ],
      "metadata": {
        "id": "45t2hAXedsc_"
      }
    },
    {
      "cell_type": "markdown",
      "metadata": {
        "id": "KLwM8rn_KLjl"
      },
      "source": [
        "[**EX17**][**REPORT**] Plot the histograms of the probabilities resulting of the prediction of the GBT model for class 0 and class 1. Compare it with histogram of Random Forest. Which one classifies better from your point of view? Why? "
      ]
    },
    {
      "cell_type": "code",
      "source": [
        "y_pred = model_GB.predict_proba(X_test)\n",
        "\n",
        "plt.figure()\n",
        "plt.hist(y_pred)\n",
        "plt.title('Gradient Tree Boosting (GBT)')\n",
        "plt.show()"
      ],
      "metadata": {
        "colab": {
          "base_uri": "https://localhost:8080/",
          "height": 281
        },
        "id": "rGEY4SrOfvx6",
        "outputId": "2d460f09-0548-4427-b9b1-da6c626a8694"
      },
      "execution_count": 205,
      "outputs": [
        {
          "output_type": "display_data",
          "data": {
            "text/plain": [
              "<Figure size 432x288 with 1 Axes>"
            ],
            "image/png": "[encoded data removed]"
          },
          "metadata": {
            "needs_background": "light"
          }
        }
      ]
    },
    {
      "cell_type": "markdown",
      "metadata": {
        "id": "UvbS-zysKLjq"
      },
      "source": [
        "# 3. Creating a Business opportunity with Machine Learning"
      ]
    },
    {
      "cell_type": "markdown",
      "metadata": {
        "id": "oYWmrLYQKLjP"
      },
      "source": [
        "The cut-off is the **threshold of the probability of the prediction** to assign to class 0 or class 1 the prediction. If probability > cut-off, the model classifies as 1; otherwise, model classifies as 0. \n",
        "The cut-off is a value that can be adjusted to increase the recall or the precision. Usually, there is a **trade-off** between improving the recall-precision."
      ]
    },
    {
      "cell_type": "markdown",
      "metadata": {
        "id": "XBhZ9VKgKLjq"
      },
      "source": [
        "[**EX18**][**CODE**][**REPORT**] Execute the prediction for the selected model. Adjust the cutoff value to optimize the classifier if you consider necessary. How many **non customers** are you going to send to the sales managers to sell our products to them?\n",
        "\n",
        "\n"
      ]
    },
    {
      "cell_type": "markdown",
      "source": [
        "Buscaremos cual es el mejor valor del cutoff en el modelo GBT que nos permitirá distinguir mejor la clase 1 que la 0"
      ],
      "metadata": {
        "id": "YiG9n2LQIJmn"
      }
    },
    {
      "cell_type": "code",
      "source": [
        "y_pred = model_GB.predict_proba(X_test)\n",
        "z = y_pred[:,0]\n",
        "c_hist, nc_hist = [], []\n",
        "\n",
        "#histograma\n",
        "for i in range(len(z)):\n",
        "    if y_test.values[i] == 0:\n",
        "        nc_hist.append(z[i])\n",
        "    else:\n",
        "        c_hist.append(z[i])\n",
        "        \n",
        "plt.hist(nc_hist)\n",
        "plt.hist(c_hist, alpha=0.75)\n",
        "plt.title(\"Probabilities Histogram\")\n",
        "plt.show()\n",
        "\n",
        "cutoff = [0.4, 0.5, 0.6, 0.8, 0.9]  # valores de cutoff que probaremos\n",
        "# predicciones con los diferentes valores de cutoff\n",
        "for c in cutoff:\n",
        "    y_pred_modification = []\n",
        "    for i in y_pred:\n",
        "        if i[0] > c:\n",
        "            y_pred_modification.append(1)\n",
        "        else:\n",
        "            y_pred_modification.append(0)\n",
        "\n",
        "    print(\"With cutoff: \", c)\n",
        "    print(classification_report(y_test,y_pred_modification))\n",
        "    conf_matrix = confusion_matrix(y_test, y_pred_modification)\n",
        "    print(conf_matrix, \"\\n\")\n",
        "    print(\"Accuracy: \", accuracy_score(y_test, y_pred_modification))\n"
      ],
      "metadata": {
        "id": "zTlPwmPii_3A",
        "colab": {
          "base_uri": "https://localhost:8080/",
          "height": 1000
        },
        "outputId": "0bf32094-6678-4ad6-c9db-458f2ae2c80b"
      },
      "execution_count": 206,
      "outputs": [
        {
          "output_type": "display_data",
          "data": {
            "text/plain": [
              "<Figure size 432x288 with 1 Axes>"
            ],
            "image/png": "[encoded data removed]"
          },
          "metadata": {
            "needs_background": "light"
          }
        },
        {
          "output_type": "stream",
          "name": "stdout",
          "text": [
            "With cutoff:  0.4\n",
            "              precision    recall  f1-score   support\n",
            "\n",
            "           0       0.27      0.14      0.19       187\n",
            "           1       0.43      0.62      0.51       196\n",
            "\n",
            "    accuracy                           0.39       383\n",
            "   macro avg       0.35      0.38      0.35       383\n",
            "weighted avg       0.35      0.39      0.35       383\n",
            "\n",
            "[[ 27 160]\n",
            " [ 74 122]] \n",
            "\n",
            "Accuracy:  0.38903394255874674\n",
            "With cutoff:  0.5\n",
            "              precision    recall  f1-score   support\n",
            "\n",
            "           0       0.38      0.44      0.41       187\n",
            "           1       0.38      0.33      0.36       196\n",
            "\n",
            "    accuracy                           0.38       383\n",
            "   macro avg       0.38      0.39      0.38       383\n",
            "weighted avg       0.38      0.38      0.38       383\n",
            "\n",
            "[[ 82 105]\n",
            " [131  65]] \n",
            "\n",
            "Accuracy:  0.3838120104438642\n",
            "With cutoff:  0.6\n",
            "              precision    recall  f1-score   support\n",
            "\n",
            "           0       0.42      0.63      0.51       187\n",
            "           1       0.34      0.18      0.24       196\n",
            "\n",
            "    accuracy                           0.40       383\n",
            "   macro avg       0.38      0.41      0.37       383\n",
            "weighted avg       0.38      0.40      0.37       383\n",
            "\n",
            "[[118  69]\n",
            " [160  36]] \n",
            "\n",
            "Accuracy:  0.402088772845953\n",
            "With cutoff:  0.8\n",
            "              precision    recall  f1-score   support\n",
            "\n",
            "           0       0.47      0.90      0.62       187\n",
            "           1       0.21      0.03      0.05       196\n",
            "\n",
            "    accuracy                           0.45       383\n",
            "   macro avg       0.34      0.46      0.33       383\n",
            "weighted avg       0.34      0.45      0.32       383\n",
            "\n",
            "[[168  19]\n",
            " [191   5]] \n",
            "\n",
            "Accuracy:  0.4516971279373368\n",
            "With cutoff:  0.9\n",
            "              precision    recall  f1-score   support\n",
            "\n",
            "           0       0.48      0.98      0.65       187\n",
            "           1       0.00      0.00      0.00       196\n",
            "\n",
            "    accuracy                           0.48       383\n",
            "   macro avg       0.24      0.49      0.32       383\n",
            "weighted avg       0.24      0.48      0.32       383\n",
            "\n",
            "[[183   4]\n",
            " [196   0]] \n",
            "\n",
            "Accuracy:  0.47780678851174935\n"
          ]
        }
      ]
    },
    {
      "cell_type": "markdown",
      "source": [
        "Observando los diferentes valores que hemos obtenidos, como nos interesa predecir mejor los non customers, para asi saber que los falsos positvos serán mas fiables, eligiremos un valor de cutoff de0,5, que es donde obtenenmos unos valores de precision y recall mas equilibrados"
      ],
      "metadata": {
        "id": "XtD4-ajAKdqb"
      }
    },
    {
      "cell_type": "code",
      "source": [
        "num_noncustomers=0\n",
        "cutoff = [0.50]# valores de cutoff que probaremos\n",
        "# predicciones con los diferentes valores de cutoff\n",
        "for c in cutoff:\n",
        "    y_pred_modification = []\n",
        "    for i in y_pred:\n",
        "        if i[0] > c:\n",
        "            y_pred_modification.append(1)\n",
        "        else:\n",
        "            y_pred_modification.append(0)\n",
        "            num_noncustomers +=1\n",
        "\n",
        "    print(\"With cutoff: \", c)\n",
        "    print(classification_report(y_test,y_pred_modification))\n",
        "    conf_matrix = confusion_matrix(y_test, y_pred_modification)\n",
        "    print(conf_matrix, \"\\n\")\n",
        "    print(\"Accuracy: \", accuracy_score(y_test, y_pred_modification))\n",
        "\n",
        "print(\"Número de noncustomers que enviaremos al manager (cutoff = 0,50) --> \", num_noncustomers)"
      ],
      "metadata": {
        "colab": {
          "base_uri": "https://localhost:8080/"
        },
        "id": "b9fsZdyDMd2x",
        "outputId": "aa3b0579-dd80-48f5-bde1-bd0d1eb30da4"
      },
      "execution_count": 207,
      "outputs": [
        {
          "output_type": "stream",
          "name": "stdout",
          "text": [
            "With cutoff:  0.5\n",
            "              precision    recall  f1-score   support\n",
            "\n",
            "           0       0.38      0.44      0.41       187\n",
            "           1       0.38      0.33      0.36       196\n",
            "\n",
            "    accuracy                           0.38       383\n",
            "   macro avg       0.38      0.39      0.38       383\n",
            "weighted avg       0.38      0.38      0.38       383\n",
            "\n",
            "[[ 82 105]\n",
            " [131  65]] \n",
            "\n",
            "Accuracy:  0.3838120104438642\n",
            "Número de noncustomers que enviaremos al manager (cutoff = 0,50) -->  213\n"
          ]
        }
      ]
    },
    {
      "cell_type": "markdown",
      "metadata": {
        "id": "2OKOVuCNKLjt"
      },
      "source": [
        "Usually, Marketing department needs to know and understand the main features of the algorithms. The code below returns the importance of each feature of the `training_dataset`."
      ]
    },
    {
      "cell_type": "code",
      "execution_count": 208,
      "metadata": {
        "id": "nX4VfjM4KLjt",
        "colab": {
          "base_uri": "https://localhost:8080/"
        },
        "outputId": "0dbdc862-4a19-4414-dabf-6251098b43e6"
      },
      "outputs": [
        {
          "output_type": "execute_result",
          "data": {
            "text/plain": [
              "[['City_coded', 0.11309809621263303],\n",
              " ['Revenue', 0.14826458873665388],\n",
              " ['Sector', 0.0701568970011967],\n",
              " ['Legal_Form_Code', 0.09707876997674152],\n",
              " ['CNT_EMPLOYEE', 0.04430026965963696],\n",
              " ['CNT_CB_DENSITY', 0.1406339422428104],\n",
              " ['CNT_CB_MOB_DENSITY', 0.06929252383539468],\n",
              " ['CNT_CB_FN_DENS', 0.09419333384720513],\n",
              " ['Mobile_potential', 0.22298157848772762]]"
            ]
          },
          "metadata": {},
          "execution_count": 208
        }
      ],
      "source": [
        "features=['City_coded','Revenue', 'Sector', 'Legal_Form_Code', 'CNT_EMPLOYEE', 'CNT_CB_DENSITY',\n",
        "                            'CNT_CB_MOB_DENSITY', 'CNT_CB_FN_DENS', 'Mobile_potential']\n",
        "features_values=model_GB.feature_importances_\n",
        "features_importance=[]\n",
        "for i in range (len(features)):\n",
        "    features_importance.append([features[i],features_values[i]])\n",
        "    \n",
        "features_importance"
      ]
    },
    {
      "cell_type": "markdown",
      "metadata": {
        "id": "3gE_DYCvKLjw"
      },
      "source": [
        "[**EX19**][**CODE**][**REPORT**] Order the features by importance. Which are the top 3 features to discriminate between **non customers** and **customers**?"
      ]
    },
    {
      "cell_type": "code",
      "source": [
        "features_importance = sorted(features_importance, key=lambda features_importance: features_importance[1], reverse = True)\n",
        "features_importance"
      ],
      "metadata": {
        "id": "xYCTl7kRlq_q",
        "colab": {
          "base_uri": "https://localhost:8080/"
        },
        "outputId": "c4bd147d-28a3-4739-d59e-b00495db0806"
      },
      "execution_count": 209,
      "outputs": [
        {
          "output_type": "execute_result",
          "data": {
            "text/plain": [
              "[['Mobile_potential', 0.22298157848772762],\n",
              " ['Revenue', 0.14826458873665388],\n",
              " ['CNT_CB_DENSITY', 0.1406339422428104],\n",
              " ['City_coded', 0.11309809621263303],\n",
              " ['Legal_Form_Code', 0.09707876997674152],\n",
              " ['CNT_CB_FN_DENS', 0.09419333384720513],\n",
              " ['Sector', 0.0701568970011967],\n",
              " ['CNT_CB_MOB_DENSITY', 0.06929252383539468],\n",
              " ['CNT_EMPLOYEE', 0.04430026965963696]]"
            ]
          },
          "metadata": {},
          "execution_count": 209
        }
      ]
    },
    {
      "cell_type": "markdown",
      "metadata": {
        "id": "-htmJrDzKLjy"
      },
      "source": [
        "  [**EX20**][**REPORT**] In this project, we have used classification techniques to identify potential customers. We have adjusted the main classification parameters as cutoff, recall and precision according to the final purpose: in out case, identify **non customers** that could be interested to buy our products. Consider a new campaign focused on accelerating the sales of a **New IoT tariff** to our customers. Answer the following questions:\n",
        "- In this case, which is the **target** variable? Which are **target=0** samples? And **target=1**?\n",
        "- As the marketing campaing is oriented to our customers we will have further information about them in our internal systems. In particular, we could add to the information of the previous section 3 new variables: data and voice consumption and mobile expense. Adding more data to the dataset may imply more computational data and cost. Would you add these 3 new variables to dataset? Justify your answer.\n",
        "- Today this New IoT tariff is very popular among our customers. Will the training dataset be balanced or unbalanced? Justify your answer.\n",
        "\n",
        "Imagine the following scatter plot (`Number of IoT devices (units)` vs `Number of IoT applications (units)`):\n",
        "\n",
        "![<scatter_plot>](scatter_plot.png)\n",
        "- Describe in terms of `Number of IoT devices (units)` and `Number of IoT applications (units)` the **pattern** of target 1 customers\n",
        "- Draw a plane to separate both classes\n",
        "- Is the training dataset balanced? Justiy your answer\n",
        "- According to the previous plane, which are the customers to be phoned to sell the New IoT tariff?\n",
        "- Could you estimate the **precision** and **recall** of the classification?"
      ]
    },
    {
      "cell_type": "markdown",
      "metadata": {
        "id": "WqGzZF61KLjy"
      },
      "source": [
        "*******"
      ]
    },
    {
      "cell_type": "markdown",
      "metadata": {
        "id": "d90P5bXGKLjz"
      },
      "source": [
        "# Deliver"
      ]
    },
    {
      "cell_type": "markdown",
      "metadata": {
        "id": "vsdxRz2aKLj0"
      },
      "source": [
        "Deliver:\n",
        "\n",
        "* A zip file containing your notebook (.ipynb file) with all the [**CODE**] parts implemented.\n",
        "* A 5-pages PDF report including all parts of this notebook marked with \"[**REPORT**]\"\n",
        "\n",
        "The report should end with the following statement: **We hereby declare that, except for the code provided by the course instructors, all of our code, report, and figures were produced by ourselves.**"
      ]
    },
    {
      "cell_type": "code",
      "execution_count": 209,
      "metadata": {
        "id": "Rwqgx07mKLj0"
      },
      "outputs": [],
      "source": [
        ""
      ]
    }
  ],
  "metadata": {
    "colab": {
      "name": "P02_242873.ipynb",
      "provenance": [],
      "collapsed_sections": [
        "o7OfXFAoKLhP",
        "xnvfr2y81EEc",
        "v-QLcgmp08t0",
        "909yxEGW60Kx",
        "cL5_yPyW6vFb",
        "FZrX41jv9V6u",
        "XWscjvdJAiXS",
        "4p5ZUM0WAnFO",
        "p3IpR2mVl7tn",
        "T6K4GcuAmF08",
        "kXbPL573mJ_o",
        "pVofh0d-KLiT",
        "hKyfjGlmKLiU",
        "2zQCoC5JKLiV",
        "3SdLmMtnqU52",
        "qlrVszkgqZpr",
        "jBTK-h4cKLiY",
        "Aa7SSqz6wdb5",
        "0_wa4ac6welk",
        "caS-A2bD6HbM",
        "VxSee22YKLiy",
        "5h_URjohKLi6",
        "0xGX62GJKLi8",
        "9a-TmL9yF9iy",
        "So2hzc-BKLjU",
        "d90P5bXGKLjz"
      ]
    },
    "kernelspec": {
      "display_name": "Python 3",
      "language": "python",
      "name": "python3"
    },
    "language_info": {
      "codemirror_mode": {
        "name": "ipython",
        "version": 3
      },
      "file_extension": ".py",
      "mimetype": "text/x-python",
      "name": "python",
      "nbconvert_exporter": "python",
      "pygments_lexer": "ipython3",
      "version": "3.8.5"
    }
  },
  "nbformat": 4,
  "nbformat_minor": 0
}